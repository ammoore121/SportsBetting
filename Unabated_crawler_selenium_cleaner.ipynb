{
 "cells": [
  {
   "cell_type": "code",
   "execution_count": 2,
   "metadata": {},
   "outputs": [],
   "source": [
    "from selenium import webdriver\n",
    "import time\n",
    "from bs4 import BeautifulSoup"
   ]
  },
  {
   "cell_type": "code",
   "execution_count": 4,
   "metadata": {},
   "outputs": [],
   "source": [
    "driver = webdriver.Chrome()\n",
    "url = \"https://unabated.com/nhl/odds\"\n",
    "driver.maximize_window()\n",
    "driver.get(url)"
   ]
  },
  {
   "cell_type": "code",
   "execution_count": 5,
   "metadata": {},
   "outputs": [],
   "source": [
    "time.sleep(5)\n",
    "content=driver.page_source.encode('utf-8').strip()\n",
    "soup = BeautifulSoup(content, \"lxml\")\n",
    "soup2= BeautifulSoup(content, \"html.parser\")\n"
   ]
  },
  {
   "cell_type": "code",
   "execution_count": 6,
   "metadata": {},
   "outputs": [
    {
     "name": "stdout",
     "output_type": "stream",
     "text": [
      "  -124  +104  -120  +115  -118  +115  -120  +100  -125  +104  -120  -110  -120  +110  +170  -200  +182  -190  +180  -182  +170  -200  +164  -200  +165  -205  +165  -185  -170  +148  -153  +147  -154  +150  -149  +130  -160  +132  -160  +130  -165  +150  +110  -130  +113  -126  +105  -135  +108  -130  +110  -130  +115  -125  +112  -131  +109  -122  +100  -125  +102  -122  +100  -120  +110  -120  +100  -117  -110  -115  +108  -132  +105  -125  +100  -110  +160  -180  +135  -175  +140  -170  +155  -180  +140  -155  +183  -216  +170  -190  +160  -208  +176  -215  +180  -210  +170  -190  -124  +104  -130  +100  -126  +105  -130  +110  -125  +115  +145  -168  +144  -162  +135  -175  +134  -162  +145  -170  +150  -165  +134  -154  +130  -169  +134  -162  +135  -155  +135  -150  -115  -105  -114  +101  -115  -110  -110  -111  -115  -105  -110  +100  -105  -115  +104  -117  -105  -120  +100  -120  +100  -120  +100  -110  -110  -110  -106  -106  -110  -115  -108  -111  -110  -110  -105  -105\n"
     ]
    }
   ],
   "source": [
    "#Now trying the full odds container... \n",
    "results_row= soup.find('div',class_=\"ag-center-cols-container\")\n",
    "print(results_row.text)\n",
    "\n",
    "#it does not identify which book"
   ]
  },
  {
   "cell_type": "code",
   "execution_count": 7,
   "metadata": {},
   "outputs": [],
   "source": [
    "sportsbooks7= soup.find_all(\"div\",class_=\"text-success\")\n"
   ]
  },
  {
   "cell_type": "code",
   "execution_count": 8,
   "metadata": {},
   "outputs": [
    {
     "data": {
      "text/plain": [
       "7"
      ]
     },
     "execution_count": 8,
     "metadata": {},
     "output_type": "execute_result"
    }
   ],
   "source": [
    "len(sportsbooks7)"
   ]
  },
  {
   "cell_type": "code",
   "execution_count": 9,
   "metadata": {},
   "outputs": [],
   "source": [
    "books_list = []\n",
    "for x in range(len(sportsbooks7)):\n",
    "    books_list.append(sportsbooks7[x].select_one('div')['title'])"
   ]
  },
  {
   "cell_type": "code",
   "execution_count": 18,
   "metadata": {},
   "outputs": [
    {
     "name": "stdout",
     "output_type": "stream",
     "text": [
      "['Bookmaker \\nReal-Time', 'Sporttrade \\nReal-Time', 'Prophet Exchange \\nReal-Time', 'theScore \\nReal-Time', 'FanDuel \\nReal-Time', 'DraftKings \\nReal-Time', 'SuperBook \\nReal-Time']\n"
     ]
    }
   ],
   "source": [
    "print(books_list)\n",
    "\n",
    "#Only returns the Real Time feeds. \n",
    "# It does not pick up MGM, Caesars,etc  \n",
    "\n",
    "#there is Real-Time, Low Delc=ay <30 seconds, High Delay >30 seconds"
   ]
  },
  {
   "cell_type": "code",
   "execution_count": 19,
   "metadata": {},
   "outputs": [],
   "source": [
    "sportsbooks8= soup.find_all('div',class_=\"text-warning\")"
   ]
  },
  {
   "cell_type": "code",
   "execution_count": 20,
   "metadata": {},
   "outputs": [
    {
     "data": {
      "text/plain": [
       "1"
      ]
     },
     "execution_count": 20,
     "metadata": {},
     "output_type": "execute_result"
    }
   ],
   "source": [
    "len(sportsbooks8)"
   ]
  },
  {
   "cell_type": "code",
   "execution_count": 15,
   "metadata": {},
   "outputs": [
    {
     "name": "stdout",
     "output_type": "stream",
     "text": [
      "<div class=\"d-flex align-items-center text-warning font-weight-bold px-1 ml-1 mr-2\"><a class=\"text-primary mb-0\" href=\"/articles/learn-about-the-game-odds-screen\" target=\"_blank\"><svg aria-hidden=\"true\" class=\"svg-inline--fa fa-graduation-cap fa-w-20 mr-1\" data-icon=\"graduation-cap\" data-prefix=\"fas\" focusable=\"false\" role=\"img\" viewbox=\"0 0 640 512\" xmlns=\"http://www.w3.org/2000/svg\"><path d=\"M622.34 153.2L343.4 67.5c-15.2-4.67-31.6-4.67-46.79 0L17.66 153.2c-23.54 7.23-23.54 38.36 0 45.59l48.63 14.94c-10.67 13.19-17.23 29.28-17.88 46.9C38.78 266.15 32 276.11 32 288c0 10.78 5.68 19.85 13.86 25.65L20.33 428.53C18.11 438.52 25.71 448 35.94 448h56.11c10.24 0 17.84-9.48 15.62-19.47L82.14 313.65C90.32 307.85 96 298.78 96 288c0-11.57-6.47-21.25-15.66-26.87.76-15.02 8.44-28.3 20.69-36.72L296.6 284.5c9.06 2.78 26.44 6.25 46.79 0l278.95-85.7c23.55-7.24 23.55-38.36 0-45.6zM352.79 315.09c-28.53 8.76-52.84 3.92-65.59 0l-145.02-44.55L128 384c0 35.35 85.96 64 192 64s192-28.65 192-64l-14.18-113.47-145.03 44.56z\" fill=\"currentColor\"></path></svg>Teach Me</a></div>\n"
     ]
    }
   ],
   "source": [
    "print(sportsbooks8[0])"
   ]
  },
  {
   "cell_type": "code",
   "execution_count": 23,
   "metadata": {},
   "outputs": [
    {
     "ename": "IndexError",
     "evalue": "list index out of range",
     "output_type": "error",
     "traceback": [
      "\u001b[1;31m---------------------------------------------------------------------------\u001b[0m",
      "\u001b[1;31mIndexError\u001b[0m                                Traceback (most recent call last)",
      "\u001b[1;32m~\\AppData\\Local\\Temp\\ipykernel_748\\138049321.py\u001b[0m in \u001b[0;36m<module>\u001b[1;34m\u001b[0m\n\u001b[1;32m----> 1\u001b[1;33m \u001b[0mprint\u001b[0m\u001b[1;33m(\u001b[0m\u001b[0msportsbooks8\u001b[0m\u001b[1;33m[\u001b[0m\u001b[1;36m1\u001b[0m\u001b[1;33m]\u001b[0m\u001b[1;33m.\u001b[0m\u001b[0mselect_one\u001b[0m\u001b[1;33m(\u001b[0m\u001b[1;34m'div'\u001b[0m\u001b[1;33m)\u001b[0m\u001b[1;33m[\u001b[0m\u001b[1;34m'title'\u001b[0m\u001b[1;33m]\u001b[0m\u001b[1;33m)\u001b[0m\u001b[1;33m\u001b[0m\u001b[1;33m\u001b[0m\u001b[0m\n\u001b[0m",
      "\u001b[1;31mIndexError\u001b[0m: list index out of range"
     ]
    }
   ],
   "source": [
    "print(sportsbooks8[1].select_one('div')['title'])"
   ]
  },
  {
   "cell_type": "code",
   "execution_count": 24,
   "metadata": {},
   "outputs": [],
   "source": [
    "books_list2 =[]\n",
    "y=0\n",
    "try:\n",
    "    for y in range(len(sportsbooks8)):\n",
    "        books_list2.append(sportsbooks8[y].select_one('div')['title'])\n",
    "        y += 1\n",
    "except :\n",
    "    y += 1\n",
    "    "
   ]
  },
  {
   "cell_type": "code",
   "execution_count": 25,
   "metadata": {},
   "outputs": [
    {
     "data": {
      "text/plain": [
       "[]"
      ]
     },
     "execution_count": 25,
     "metadata": {},
     "output_type": "execute_result"
    }
   ],
   "source": [
    "books_list2"
   ]
  },
  {
   "cell_type": "code",
   "execution_count": 11,
   "metadata": {},
   "outputs": [],
   "source": [
    "for x in range(len(sportsbooks8)):\n",
    "    books_list.append(sportsbooks8[x].select_one('div')['title'])"
   ]
  },
  {
   "cell_type": "code",
   "execution_count": 26,
   "metadata": {},
   "outputs": [],
   "source": [
    "sportsbooks11 =soup.find_all('div',class_=\"ag-react-container\")"
   ]
  },
  {
   "cell_type": "code",
   "execution_count": 36,
   "metadata": {},
   "outputs": [
    {
     "data": {
      "text/plain": [
       "284"
      ]
     },
     "execution_count": 36,
     "metadata": {},
     "output_type": "execute_result"
    }
   ],
   "source": [
    "len(sportsbooks11)"
   ]
  },
  {
   "cell_type": "code",
   "execution_count": 43,
   "metadata": {},
   "outputs": [
    {
     "name": "stdout",
     "output_type": "stream",
     "text": [
      "<div class=\"ag-react-container\"><div class=\"ratingCell ratingCell--height-auto\" style=\"width: 100%;\"><div class=\"\"><div class=\"odds-hover-cell\" style=\"text-decoration-line: none;\"><div style=\"display: flex; flex-direction: row; justify-content: end; align-items: center;\"><div style=\"margin-left: 4px; color: rgb(0, 210, 122); font-size: 0.9em;\">+48.2%</div><div style=\"flex: 1 1 0%;\"></div><div><span class=\"pr-1\"> </span> <span class=\"pr-1\" style=\"opacity: 0.7;\">+183</span><span class=\"pr-1\"><img src=\"https://assets.unabated.com/sportsbooks/thumbnails/bookmaker.webp\" style=\"width: 16px; height: 16px;\" title=\"Bookmaker \n",
      "(Excluded from best line determination: Unabated Line, DeckPrism, Matchbook, Circa)\"/></span></div></div></div><div class=\"odds-hover-cell\" style=\"text-decoration-line: none;\"><div style=\"display: flex; flex-direction: row; justify-content: end; align-items: center;\"><div><span class=\"pr-1\"> </span> <span class=\"pr-1\" style=\"opacity: 0.7;\">-190</span><span class=\"pr-1\"><img src=\"https://assets.unabated.com/sportsbooks/thumbnails/superbook.webp\" style=\"width: 16px; height: 16px;\" title=\"SuperBook \n",
      "(Excluded from best line determination: Unabated Line, DeckPrism, Matchbook, Circa)\"/></span></div></div></div></div></div></div>\n"
     ]
    }
   ],
   "source": [
    "print(sportsbooks11[39])"
   ]
  },
  {
   "cell_type": "code",
   "execution_count": 44,
   "metadata": {},
   "outputs": [
    {
     "ename": "KeyError",
     "evalue": "'title'",
     "output_type": "error",
     "traceback": [
      "\u001b[1;31m---------------------------------------------------------------------------\u001b[0m",
      "\u001b[1;31mKeyError\u001b[0m                                  Traceback (most recent call last)",
      "\u001b[1;32m~\\AppData\\Local\\Temp\\ipykernel_748\\2944418057.py\u001b[0m in \u001b[0;36m<module>\u001b[1;34m\u001b[0m\n\u001b[1;32m----> 1\u001b[1;33m \u001b[0mprint\u001b[0m\u001b[1;33m(\u001b[0m\u001b[0msportsbooks11\u001b[0m\u001b[1;33m[\u001b[0m\u001b[1;36m39\u001b[0m\u001b[1;33m]\u001b[0m\u001b[1;33m.\u001b[0m\u001b[0mselect_one\u001b[0m\u001b[1;33m(\u001b[0m\u001b[1;34m'div'\u001b[0m\u001b[1;33m)\u001b[0m\u001b[1;33m[\u001b[0m\u001b[1;34m'title'\u001b[0m\u001b[1;33m]\u001b[0m\u001b[1;33m)\u001b[0m\u001b[1;33m\u001b[0m\u001b[1;33m\u001b[0m\u001b[0m\n\u001b[0m",
      "\u001b[1;32mc:\\Users\\ammoo\\anaconda3\\lib\\site-packages\\bs4\\element.py\u001b[0m in \u001b[0;36m__getitem__\u001b[1;34m(self, key)\u001b[0m\n\u001b[0;32m   1517\u001b[0m         \"\"\"tag[key] returns the value of the 'key' attribute for the Tag,\n\u001b[0;32m   1518\u001b[0m         and throws an exception if it's not there.\"\"\"\n\u001b[1;32m-> 1519\u001b[1;33m         \u001b[1;32mreturn\u001b[0m \u001b[0mself\u001b[0m\u001b[1;33m.\u001b[0m\u001b[0mattrs\u001b[0m\u001b[1;33m[\u001b[0m\u001b[0mkey\u001b[0m\u001b[1;33m]\u001b[0m\u001b[1;33m\u001b[0m\u001b[1;33m\u001b[0m\u001b[0m\n\u001b[0m\u001b[0;32m   1520\u001b[0m \u001b[1;33m\u001b[0m\u001b[0m\n\u001b[0;32m   1521\u001b[0m     \u001b[1;32mdef\u001b[0m \u001b[0m__iter__\u001b[0m\u001b[1;33m(\u001b[0m\u001b[0mself\u001b[0m\u001b[1;33m)\u001b[0m\u001b[1;33m:\u001b[0m\u001b[1;33m\u001b[0m\u001b[1;33m\u001b[0m\u001b[0m\n",
      "\u001b[1;31mKeyError\u001b[0m: 'title'"
     ]
    }
   ],
   "source": [
    "print(sportsbooks11[39].select_one('div')['title'])"
   ]
  },
  {
   "cell_type": "code",
   "execution_count": 45,
   "metadata": {},
   "outputs": [],
   "source": [
    "sports12 = soup.find_all('div',class_='text-warning-yellow')"
   ]
  },
  {
   "cell_type": "code",
   "execution_count": 46,
   "metadata": {},
   "outputs": [
    {
     "data": {
      "text/plain": [
       "0"
      ]
     },
     "execution_count": 46,
     "metadata": {},
     "output_type": "execute_result"
    }
   ],
   "source": [
    "len(sports12)"
   ]
  },
  {
   "cell_type": "markdown",
   "metadata": {},
   "source": [
    "Quit Driver"
   ]
  },
  {
   "cell_type": "code",
   "execution_count": null,
   "metadata": {},
   "outputs": [],
   "source": [
    "#THIS kills the driver session\n",
    "driver.quit()"
   ]
  }
 ],
 "metadata": {
  "kernelspec": {
   "display_name": "Python 3.9.13 ('base')",
   "language": "python",
   "name": "python3"
  },
  "language_info": {
   "codemirror_mode": {
    "name": "ipython",
    "version": 3
   },
   "file_extension": ".py",
   "mimetype": "text/x-python",
   "name": "python",
   "nbconvert_exporter": "python",
   "pygments_lexer": "ipython3",
   "version": "3.9.13"
  },
  "orig_nbformat": 4,
  "vscode": {
   "interpreter": {
    "hash": "c82e4d1e9084eac1ce75472f970f4b32fd89bddf9219f2363852c4ec62334425"
   }
  }
 },
 "nbformat": 4,
 "nbformat_minor": 2
}
