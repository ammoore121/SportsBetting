{
 "cells": [
  {
   "cell_type": "code",
   "execution_count": 11,
   "metadata": {},
   "outputs": [],
   "source": [
    "#login to oddsjam. go to screener tab. pull lines by sport.\n",
    "\n",
    "\n",
    "\n",
    "\n",
    "#login page\n",
    "url= \"https://oddsjam.com/auth/login\"\n",
    "\n",
    "posturl = \"https://api.magic.link/v2/auth/user/login/email/start\"\n",
    "\n",
    "\n",
    "signedinUrl = \"https://api.magic.link/v2/auth/user/login/email/start\"\n",
    "\n",
    "#request payload\n",
    "#{email: \"ammoore121@gmail.com\",…}\n",
    "#email: \"ammoore121@gmail.com\"\n",
    "#request_origin_message: \"8pBh_mhAQYMJjwsBu7xOQu4tDhTnvSo0Srwez5~OOPymvUi9Rm4RRoNY_3K1_mGeGrtQAtS_JSrvB8YAPuas_2fQoFJjanayowz~Tp2XDL4M7DOunAGYg1fNEyyA1Hrn\""
   ]
  },
  {
   "cell_type": "markdown",
   "metadata": {},
   "source": [
    "a 'cold start' login occurs when an email verification link must be \n",
    "a 'warm start' login will occur automatically when the url is searched. It seems to validate an IP address or something similar. \n",
    "\n",
    "trial_target_url= https://oddsjam.com/nfl/screen/player/player_receptions\n",
    "trial_target_url2= https://oddsjam.com/nhl/screen/player/player_shots_on_goal\n",
    "\n"
   ]
  },
  {
   "cell_type": "code",
   "execution_count": 12,
   "metadata": {},
   "outputs": [
    {
     "ename": "NameError",
     "evalue": "name 'loginurl' is not defined",
     "output_type": "error",
     "traceback": [
      "\u001b[1;31m---------------------------------------------------------------------------\u001b[0m",
      "\u001b[1;31mNameError\u001b[0m                                 Traceback (most recent call last)",
      "\u001b[1;32m~\\AppData\\Local\\Temp\\ipykernel_7832\\860916179.py\u001b[0m in \u001b[0;36m<module>\u001b[1;34m\u001b[0m\n\u001b[0;32m     23\u001b[0m } \n\u001b[0;32m     24\u001b[0m \u001b[1;33m\u001b[0m\u001b[0m\n\u001b[1;32m---> 25\u001b[1;33m \u001b[0mr\u001b[0m \u001b[1;33m=\u001b[0m \u001b[0mrequests\u001b[0m\u001b[1;33m.\u001b[0m\u001b[0mpost\u001b[0m\u001b[1;33m(\u001b[0m\u001b[0mloginurl\u001b[0m\u001b[1;33m,\u001b[0m \u001b[0mdata\u001b[0m\u001b[1;33m=\u001b[0m\u001b[0mpayload\u001b[0m\u001b[1;33m)\u001b[0m\u001b[1;33m\u001b[0m\u001b[1;33m\u001b[0m\u001b[0m\n\u001b[0m\u001b[0;32m     26\u001b[0m \u001b[1;33m\u001b[0m\u001b[0m\n\u001b[0;32m     27\u001b[0m \u001b[0mprint\u001b[0m\u001b[1;33m(\u001b[0m\u001b[0mr\u001b[0m\u001b[1;33m.\u001b[0m\u001b[0mtext\u001b[0m\u001b[1;33m)\u001b[0m\u001b[1;33m\u001b[0m\u001b[1;33m\u001b[0m\u001b[0m\n",
      "\u001b[1;31mNameError\u001b[0m: name 'loginurl' is not defined"
     ]
    }
   ],
   "source": [
    "#Login script\n",
    "#based on this video https://www.youtube.com/watch?v=cV21EOf5bbA\n",
    "\n",
    "\n",
    "\n",
    "\n",
    "import requests\n",
    "\n",
    "signedinUrl = \"https://api.magic.link/v2/auth/user/login/email/start\"\n",
    "\n",
    "#request payload\n",
    "#{email: \"ammoore121@gmail.com\",…}\n",
    "#email: \"ammoore121@gmail.com\"\n",
    "#request_origin_message: \"8pBh_mhAQYMJjwsBu7xOQu4tDhTnvSo0Srwez5~OOPymvUi9Rm4RRoNY_3K1_mGeGrtQAtS_JSrvB8YAPuas_2fQoFJjanayowz~Tp2XDL4M7DOunAGYg1fNEyyA1Hrn\"\n",
    "\n",
    "\n",
    "cold_start_loginurl= \"https://api.magic.link/v2/auth/user/login/email/start\"\n",
    "\n",
    "#this was the submitted data to^\n",
    "payload = {\n",
    "    'email':\"ammoore121@gmail.com\",\n",
    "    'request_origin_message':'8pBh_mhAQYMJjwsBu7xOQu4tDhTnvSo0Srwez5~OOPymvUi9Rm4RRoNY_3K1_mGeGrtQAtS_JSrvB8YAPuas_2fQoFJjanayowz~Tp2XDL4M7DOunAGYg1fNEyyA1Hrn'\n",
    "} \n",
    "\n",
    "r = requests.post(loginurl, data=payload)\n",
    "\n",
    "print(r.text)\n",
    "\n",
    "#the output is missing X-Magic (formerly Fortmatic) API details. "
   ]
  },
  {
   "cell_type": "code",
   "execution_count": null,
   "metadata": {},
   "outputs": [],
   "source": [
    "#Attempting to directly scrape the url. \n",
    "#based on this video https://www.youtube.com/watch?v=ODNMNwgtehk&t=176s\n",
    "\n",
    "import pandas as pd\n",
    "\n",
    "df = pd.read_html(\"https://oddsjam.com/nhl/screen/player/player_shots_on_goal\")\n",
    "\n",
    "print(df)\n",
    "\n",
    "#output a permission error^"
   ]
  },
  {
   "cell_type": "code",
   "execution_count": null,
   "metadata": {},
   "outputs": [
    {
     "ename": "ValueError",
     "evalue": "No tables found",
     "output_type": "error",
     "traceback": [
      "\u001b[1;31m---------------------------------------------------------------------------\u001b[0m",
      "\u001b[1;31mValueError\u001b[0m                                Traceback (most recent call last)",
      "\u001b[1;32m~\\AppData\\Local\\Temp\\ipykernel_7832\\3867202267.py\u001b[0m in \u001b[0;36m<module>\u001b[1;34m\u001b[0m\n\u001b[0;32m      4\u001b[0m \u001b[1;32mimport\u001b[0m \u001b[0mpandas\u001b[0m \u001b[1;32mas\u001b[0m \u001b[0mpd\u001b[0m\u001b[1;33m\u001b[0m\u001b[1;33m\u001b[0m\u001b[0m\n\u001b[0;32m      5\u001b[0m \u001b[1;33m\u001b[0m\u001b[0m\n\u001b[1;32m----> 6\u001b[1;33m \u001b[0mdf\u001b[0m \u001b[1;33m=\u001b[0m \u001b[0mpd\u001b[0m\u001b[1;33m.\u001b[0m\u001b[0mread_html\u001b[0m\u001b[1;33m(\u001b[0m\u001b[1;34m\"https://unabated.com/nhl/odds\"\u001b[0m\u001b[1;33m)\u001b[0m\u001b[1;33m\u001b[0m\u001b[1;33m\u001b[0m\u001b[0m\n\u001b[0m\u001b[0;32m      7\u001b[0m \u001b[1;33m\u001b[0m\u001b[0m\n\u001b[0;32m      8\u001b[0m \u001b[0mprint\u001b[0m\u001b[1;33m(\u001b[0m\u001b[0mdf\u001b[0m\u001b[1;33m)\u001b[0m\u001b[1;33m\u001b[0m\u001b[1;33m\u001b[0m\u001b[0m\n",
      "\u001b[1;32mc:\\Users\\Aaron Moore\\anaconda3\\lib\\site-packages\\pandas\\util\\_decorators.py\u001b[0m in \u001b[0;36mwrapper\u001b[1;34m(*args, **kwargs)\u001b[0m\n\u001b[0;32m    309\u001b[0m                     \u001b[0mstacklevel\u001b[0m\u001b[1;33m=\u001b[0m\u001b[0mstacklevel\u001b[0m\u001b[1;33m,\u001b[0m\u001b[1;33m\u001b[0m\u001b[1;33m\u001b[0m\u001b[0m\n\u001b[0;32m    310\u001b[0m                 )\n\u001b[1;32m--> 311\u001b[1;33m             \u001b[1;32mreturn\u001b[0m \u001b[0mfunc\u001b[0m\u001b[1;33m(\u001b[0m\u001b[1;33m*\u001b[0m\u001b[0margs\u001b[0m\u001b[1;33m,\u001b[0m \u001b[1;33m**\u001b[0m\u001b[0mkwargs\u001b[0m\u001b[1;33m)\u001b[0m\u001b[1;33m\u001b[0m\u001b[1;33m\u001b[0m\u001b[0m\n\u001b[0m\u001b[0;32m    312\u001b[0m \u001b[1;33m\u001b[0m\u001b[0m\n\u001b[0;32m    313\u001b[0m         \u001b[1;32mreturn\u001b[0m \u001b[0mwrapper\u001b[0m\u001b[1;33m\u001b[0m\u001b[1;33m\u001b[0m\u001b[0m\n",
      "\u001b[1;32mc:\\Users\\Aaron Moore\\anaconda3\\lib\\site-packages\\pandas\\io\\html.py\u001b[0m in \u001b[0;36mread_html\u001b[1;34m(io, match, flavor, header, index_col, skiprows, attrs, parse_dates, thousands, encoding, decimal, converters, na_values, keep_default_na, displayed_only)\u001b[0m\n\u001b[0;32m   1111\u001b[0m     \u001b[0mio\u001b[0m \u001b[1;33m=\u001b[0m \u001b[0mstringify_path\u001b[0m\u001b[1;33m(\u001b[0m\u001b[0mio\u001b[0m\u001b[1;33m)\u001b[0m\u001b[1;33m\u001b[0m\u001b[1;33m\u001b[0m\u001b[0m\n\u001b[0;32m   1112\u001b[0m \u001b[1;33m\u001b[0m\u001b[0m\n\u001b[1;32m-> 1113\u001b[1;33m     return _parse(\n\u001b[0m\u001b[0;32m   1114\u001b[0m         \u001b[0mflavor\u001b[0m\u001b[1;33m=\u001b[0m\u001b[0mflavor\u001b[0m\u001b[1;33m,\u001b[0m\u001b[1;33m\u001b[0m\u001b[1;33m\u001b[0m\u001b[0m\n\u001b[0;32m   1115\u001b[0m         \u001b[0mio\u001b[0m\u001b[1;33m=\u001b[0m\u001b[0mio\u001b[0m\u001b[1;33m,\u001b[0m\u001b[1;33m\u001b[0m\u001b[1;33m\u001b[0m\u001b[0m\n",
      "\u001b[1;32mc:\\Users\\Aaron Moore\\anaconda3\\lib\\site-packages\\pandas\\io\\html.py\u001b[0m in \u001b[0;36m_parse\u001b[1;34m(flavor, io, match, attrs, encoding, displayed_only, **kwargs)\u001b[0m\n\u001b[0;32m    937\u001b[0m     \u001b[1;32melse\u001b[0m\u001b[1;33m:\u001b[0m\u001b[1;33m\u001b[0m\u001b[1;33m\u001b[0m\u001b[0m\n\u001b[0;32m    938\u001b[0m         \u001b[1;32massert\u001b[0m \u001b[0mretained\u001b[0m \u001b[1;32mis\u001b[0m \u001b[1;32mnot\u001b[0m \u001b[1;32mNone\u001b[0m  \u001b[1;31m# for mypy\u001b[0m\u001b[1;33m\u001b[0m\u001b[1;33m\u001b[0m\u001b[0m\n\u001b[1;32m--> 939\u001b[1;33m         \u001b[1;32mraise\u001b[0m \u001b[0mretained\u001b[0m\u001b[1;33m\u001b[0m\u001b[1;33m\u001b[0m\u001b[0m\n\u001b[0m\u001b[0;32m    940\u001b[0m \u001b[1;33m\u001b[0m\u001b[0m\n\u001b[0;32m    941\u001b[0m     \u001b[0mret\u001b[0m \u001b[1;33m=\u001b[0m \u001b[1;33m[\u001b[0m\u001b[1;33m]\u001b[0m\u001b[1;33m\u001b[0m\u001b[1;33m\u001b[0m\u001b[0m\n",
      "\u001b[1;32mc:\\Users\\Aaron Moore\\anaconda3\\lib\\site-packages\\pandas\\io\\html.py\u001b[0m in \u001b[0;36m_parse\u001b[1;34m(flavor, io, match, attrs, encoding, displayed_only, **kwargs)\u001b[0m\n\u001b[0;32m    917\u001b[0m \u001b[1;33m\u001b[0m\u001b[0m\n\u001b[0;32m    918\u001b[0m         \u001b[1;32mtry\u001b[0m\u001b[1;33m:\u001b[0m\u001b[1;33m\u001b[0m\u001b[1;33m\u001b[0m\u001b[0m\n\u001b[1;32m--> 919\u001b[1;33m             \u001b[0mtables\u001b[0m \u001b[1;33m=\u001b[0m \u001b[0mp\u001b[0m\u001b[1;33m.\u001b[0m\u001b[0mparse_tables\u001b[0m\u001b[1;33m(\u001b[0m\u001b[1;33m)\u001b[0m\u001b[1;33m\u001b[0m\u001b[1;33m\u001b[0m\u001b[0m\n\u001b[0m\u001b[0;32m    920\u001b[0m         \u001b[1;32mexcept\u001b[0m \u001b[0mValueError\u001b[0m \u001b[1;32mas\u001b[0m \u001b[0mcaught\u001b[0m\u001b[1;33m:\u001b[0m\u001b[1;33m\u001b[0m\u001b[1;33m\u001b[0m\u001b[0m\n\u001b[0;32m    921\u001b[0m             \u001b[1;31m# if `io` is an io-like object, check if it's seekable\u001b[0m\u001b[1;33m\u001b[0m\u001b[1;33m\u001b[0m\u001b[0m\n",
      "\u001b[1;32mc:\\Users\\Aaron Moore\\anaconda3\\lib\\site-packages\\pandas\\io\\html.py\u001b[0m in \u001b[0;36mparse_tables\u001b[1;34m(self)\u001b[0m\n\u001b[0;32m    237\u001b[0m         \u001b[0mlist\u001b[0m \u001b[0mof\u001b[0m \u001b[0mparsed\u001b[0m \u001b[1;33m(\u001b[0m\u001b[0mheader\u001b[0m\u001b[1;33m,\u001b[0m \u001b[0mbody\u001b[0m\u001b[1;33m,\u001b[0m \u001b[0mfooter\u001b[0m\u001b[1;33m)\u001b[0m \u001b[0mtuples\u001b[0m \u001b[1;32mfrom\u001b[0m \u001b[0mtables\u001b[0m\u001b[1;33m.\u001b[0m\u001b[1;33m\u001b[0m\u001b[1;33m\u001b[0m\u001b[0m\n\u001b[0;32m    238\u001b[0m         \"\"\"\n\u001b[1;32m--> 239\u001b[1;33m         \u001b[0mtables\u001b[0m \u001b[1;33m=\u001b[0m \u001b[0mself\u001b[0m\u001b[1;33m.\u001b[0m\u001b[0m_parse_tables\u001b[0m\u001b[1;33m(\u001b[0m\u001b[0mself\u001b[0m\u001b[1;33m.\u001b[0m\u001b[0m_build_doc\u001b[0m\u001b[1;33m(\u001b[0m\u001b[1;33m)\u001b[0m\u001b[1;33m,\u001b[0m \u001b[0mself\u001b[0m\u001b[1;33m.\u001b[0m\u001b[0mmatch\u001b[0m\u001b[1;33m,\u001b[0m \u001b[0mself\u001b[0m\u001b[1;33m.\u001b[0m\u001b[0mattrs\u001b[0m\u001b[1;33m)\u001b[0m\u001b[1;33m\u001b[0m\u001b[1;33m\u001b[0m\u001b[0m\n\u001b[0m\u001b[0;32m    240\u001b[0m         \u001b[1;32mreturn\u001b[0m \u001b[1;33m(\u001b[0m\u001b[0mself\u001b[0m\u001b[1;33m.\u001b[0m\u001b[0m_parse_thead_tbody_tfoot\u001b[0m\u001b[1;33m(\u001b[0m\u001b[0mtable\u001b[0m\u001b[1;33m)\u001b[0m \u001b[1;32mfor\u001b[0m \u001b[0mtable\u001b[0m \u001b[1;32min\u001b[0m \u001b[0mtables\u001b[0m\u001b[1;33m)\u001b[0m\u001b[1;33m\u001b[0m\u001b[1;33m\u001b[0m\u001b[0m\n\u001b[0;32m    241\u001b[0m \u001b[1;33m\u001b[0m\u001b[0m\n",
      "\u001b[1;32mc:\\Users\\Aaron Moore\\anaconda3\\lib\\site-packages\\pandas\\io\\html.py\u001b[0m in \u001b[0;36m_parse_tables\u001b[1;34m(self, doc, match, attrs)\u001b[0m\n\u001b[0;32m    567\u001b[0m \u001b[1;33m\u001b[0m\u001b[0m\n\u001b[0;32m    568\u001b[0m         \u001b[1;32mif\u001b[0m \u001b[1;32mnot\u001b[0m \u001b[0mtables\u001b[0m\u001b[1;33m:\u001b[0m\u001b[1;33m\u001b[0m\u001b[1;33m\u001b[0m\u001b[0m\n\u001b[1;32m--> 569\u001b[1;33m             \u001b[1;32mraise\u001b[0m \u001b[0mValueError\u001b[0m\u001b[1;33m(\u001b[0m\u001b[1;34m\"No tables found\"\u001b[0m\u001b[1;33m)\u001b[0m\u001b[1;33m\u001b[0m\u001b[1;33m\u001b[0m\u001b[0m\n\u001b[0m\u001b[0;32m    570\u001b[0m \u001b[1;33m\u001b[0m\u001b[0m\n\u001b[0;32m    571\u001b[0m         \u001b[0mresult\u001b[0m \u001b[1;33m=\u001b[0m \u001b[1;33m[\u001b[0m\u001b[1;33m]\u001b[0m\u001b[1;33m\u001b[0m\u001b[1;33m\u001b[0m\u001b[0m\n",
      "\u001b[1;31mValueError\u001b[0m: No tables found"
     ]
    }
   ],
   "source": [
    "#Unabated url scrape \n",
    "#based on this video https://www.youtube.com/watch?v=ODNMNwgtehk&t=176s\n",
    "\n",
    "import pandas as pd\n",
    "\n",
    "df = pd.read_html(\"https://unabated.com/nhl/odds\")\n",
    "\n",
    "print(df)\n",
    "\n",
    "#output NO Tables Found"
   ]
  },
  {
   "cell_type": "code",
   "execution_count": null,
   "metadata": {},
   "outputs": [
    {
     "name": "stdout",
     "output_type": "stream",
     "text": [
      "\n",
      "Note: you may need to restart the kernel to use updated packages.\n"
     ]
    },
    {
     "name": "stderr",
     "output_type": "stream",
     "text": [
      "\n",
      "EnvironmentLocationNotFound: Not a conda environment: c:\\Users\\Aaron\n",
      "\n"
     ]
    }
   ],
   "source": [
    "conda install"
   ]
  },
  {
   "cell_type": "code",
   "execution_count": null,
   "metadata": {},
   "outputs": [
    {
     "name": "stdout",
     "output_type": "stream",
     "text": [
      "\n",
      "Note: you may need to restart the kernel to use updated packages.\n"
     ]
    },
    {
     "name": "stderr",
     "output_type": "stream",
     "text": [
      "\n",
      "EnvironmentLocationNotFound: Not a conda environment: c:\\Users\\Aaron\n",
      "\n"
     ]
    }
   ],
   "source": [
    "conda install html5lib"
   ]
  },
  {
   "cell_type": "code",
   "execution_count": null,
   "metadata": {},
   "outputs": [
    {
     "name": "stdout",
     "output_type": "stream",
     "text": [
      "\n",
      "Note: you may need to restart the kernel to use updated packages.\n"
     ]
    },
    {
     "name": "stderr",
     "output_type": "stream",
     "text": [
      "\n",
      "EnvironmentLocationNotFound: Not a conda environment: c:\\Users\\Aaron\n",
      "\n"
     ]
    }
   ],
   "source": [
    "conda install pip"
   ]
  },
  {
   "cell_type": "code",
   "execution_count": null,
   "metadata": {},
   "outputs": [
    {
     "name": "stdout",
     "output_type": "stream",
     "text": [
      "Collecting html5lib\n",
      "  Downloading html5lib-1.1-py2.py3-none-any.whl (112 kB)\n",
      "     -------------------------------------- 112.2/112.2 kB 2.2 MB/s eta 0:00:00\n",
      "Requirement already satisfied: six>=1.9 in c:\\users\\aaron moore\\anaconda3\\lib\\site-packages (from html5lib) (1.16.0)\n",
      "Requirement already satisfied: webencodings in c:\\users\\aaron moore\\anaconda3\\lib\\site-packages (from html5lib) (0.5.1)\n",
      "Installing collected packages: html5lib\n",
      "Successfully installed html5lib-1.1\n",
      "Note: you may need to restart the kernel to use updated packages.\n"
     ]
    }
   ],
   "source": [
    "pip install html5lib"
   ]
  },
  {
   "cell_type": "code",
   "execution_count": null,
   "metadata": {},
   "outputs": [
    {
     "name": "stdout",
     "output_type": "stream",
     "text": [
      "Requirement already satisfied: requests in c:\\users\\aaron moore\\anaconda3\\lib\\site-packages (2.28.1)\n",
      "Requirement already satisfied: urllib3<1.27,>=1.21.1 in c:\\users\\aaron moore\\anaconda3\\lib\\site-packages (from requests) (1.26.11)\n",
      "Requirement already satisfied: certifi>=2017.4.17 in c:\\users\\aaron moore\\anaconda3\\lib\\site-packages (from requests) (2022.9.14)\n",
      "Requirement already satisfied: charset-normalizer<3,>=2 in c:\\users\\aaron moore\\anaconda3\\lib\\site-packages (from requests) (2.0.4)\n",
      "Requirement already satisfied: idna<4,>=2.5 in c:\\users\\aaron moore\\anaconda3\\lib\\site-packages (from requests) (3.3)\n",
      "Note: you may need to restart the kernel to use updated packages.\n"
     ]
    }
   ],
   "source": [
    "pip install requests"
   ]
  },
  {
   "cell_type": "code",
   "execution_count": null,
   "metadata": {},
   "outputs": [
    {
     "name": "stdout",
     "output_type": "stream",
     "text": [
      "<!DOCTYPE html><html><head><link rel=\"icon\" href=\"/images/favicon.ico\"/><script src=\"/js/lib/userback.js\"></script><script async=\"\" src=\"https://www.googletagmanager.com/gtag/js?id=UA-191825373-1\"></script><script>\n",
      "                                    window.dataLayer = window.dataLayer || [];\n",
      "                                    function gtag(){dataLayer.push(arguments);}\n",
      "                                    gtag('js', new Date());\n",
      "                                    gtag('config', 'UA-191825373-1');\n",
      "                                    </script><script>\n",
      "                            var _rollbarConfig = {\n",
      "                                accessToken: \"c8222bd0c18b4b71be53147c05287678\",\n",
      "                                captureUncaught: true,\n",
      "                                captureUnhandledRejections: true,\n",
      "                                verbose:true,\n",
      "                                payload: {\n",
      "                                    environment: \"prod\",\n",
      "                                    code_version: \"c54e8b622322d8f896246a96622f53042b7f7666\",\n",
      "                                }\n",
      "                            };\n",
      "                            // Rollbar Snippet\n",
      "                            !function(r){var e={};function o(n){if(e[n])return e[n].exports;var t=e[n]={i:n,l:!1,exports:{}};return r[n].call(t.exports,t,t.exports,o),t.l=!0,t.exports}o.m=r,o.c=e,o.d=function(r,e,n){o.o(r,e)||Object.defineProperty(r,e,{enumerable:!0,get:n})},o.r=function(r){\"undefined\"!=typeof Symbol&&Symbol.toStringTag&&Object.defineProperty(r,Symbol.toStringTag,{value:\"Module\"}),Object.defineProperty(r,\"__esModule\",{value:!0})},o.t=function(r,e){if(1&e&&(r=o(r)),8&e)return r;if(4&e&&\"object\"==typeof r&&r&&r.__esModule)return r;var n=Object.create(null);if(o.r(n),Object.defineProperty(n,\"default\",{enumerable:!0,value:r}),2&e&&\"string\"!=typeof r)for(var t in r)o.d(n,t,function(e){return r[e]}.bind(null,t));return n},o.n=function(r){var e=r&&r.__esModule?function(){return r.default}:function(){return r};return o.d(e,\"a\",e),e},o.o=function(r,e){return Object.prototype.hasOwnProperty.call(r,e)},o.p=\"\",o(o.s=0)}([function(r,e,o){var n=o(1),t=o(4);_rollbarConfig=_rollbarConfig||{},_rollbarConfig.rollbarJsUrl=_rollbarConfig.rollbarJsUrl||\"https://cdnjs.cloudflare.com/ajax/libs/rollbar.js/2.14.4/rollbar.min.js\",_rollbarConfig.async=void 0===_rollbarConfig.async||_rollbarConfig.async;var a=n.setupShim(window,_rollbarConfig),l=t(_rollbarConfig);window.rollbar=n.Rollbar,a.loadFull(window,document,!_rollbarConfig.async,_rollbarConfig,l)},function(r,e,o){var n=o(2);function t(r){return function(){try{return r.apply(this,arguments)}catch(r){try{console.error(\"[Rollbar]: Internal error\",r)}catch(r){}}}}var a=0;function l(r,e){this.options=r,this._rollbarOldOnError=null;var o=a++;this.shimId=function(){return o},\"undefined\"!=typeof window&&window._rollbarShims&&(window._rollbarShims[o]={handler:e,messages:[]})}var i=o(3),s=function(r,e){return new l(r,e)},d=function(r){return new i(s,r)};function c(r){return t(function(){var e=Array.prototype.slice.call(arguments,0),o={shim:this,method:r,args:e,ts:new Date};window._rollbarShims[this.shimId()].messages.push(o)})}l.prototype.loadFull=function(r,e,o,n,a){var l=!1,i=e.createElement(\"script\"),s=e.getElementsByTagName(\"script\")[0],d=s.parentNode;i.crossOrigin=\"\",i.src=n.rollbarJsUrl,o||(i.async=!0),i.onload=i.onreadystatechange=t(function(){if(!(l||this.readyState&&\"loaded\"!==this.readyState&&\"complete\"!==this.readyState)){i.onload=i.onreadystatechange=null;try{d.removeChild(i)}catch(r){}l=!0,function(){var e;if(void 0===r._rollbarDidLoad){e=new Error(\"rollbar.js did not load\");for(var o,n,t,l,i=0;o=r._rollbarShims[i++];)for(o=o.messages||[];n=o.shift();)for(t=n.args||[],i=0;i<t.length;++i)if(\"function\"==typeof(l=t[i])){l(e);break}}\"function\"==typeof a&&a(e)}()}}),d.insertBefore(i,s)},l.prototype.wrap=function(r,e,o){try{var n;if(n=\"function\"==typeof e?e:function(){return e||{}},\"function\"!=typeof r)return r;if(r._isWrap)return r;if(!r._rollbar_wrapped&&(r._rollbar_wrapped=function(){o&&\"function\"==typeof o&&o.apply(this,arguments);try{return r.apply(this,arguments)}catch(o){var e=o;throw e&&(\"string\"==typeof e&&(e=new String(e)),e._rollbarContext=n()||{},e._rollbarContext._wrappedSource=r.toString(),window._rollbarWrappedError=e),e}},r._rollbar_wrapped._isWrap=!0,r.hasOwnProperty))for(var t in r)r.hasOwnProperty(t)&&(r._rollbar_wrapped[t]=r[t]);return r._rollbar_wrapped}catch(e){return r}};for(var p=\"log,debug,info,warn,warning,error,critical,global,configure,handleUncaughtException,handleAnonymousErrors,handleUnhandledRejection,captureEvent,captureDomContentLoaded,captureLoad\".split(\",\"),u=0;u<p.length;++u)l.prototype[p[u]]=c(p[u]);r.exports={setupShim:function(r,e){if(r){var o=e.globalAlias||\"Rollbar\";if(\"object\"==typeof r[o])return r[o];r._rollbarShims={},r._rollbarWrappedError=null;var a=new d(e);return t(function(){e.captureUncaught&&(a._rollbarOldOnError=r.onerror,n.captureUncaughtExceptions(r,a,!0),e.wrapGlobalEventHandlers&&n.wrapGlobals(r,a,!0)),e.captureUnhandledRejections&&n.captureUnhandledRejections(r,a,!0);var t=e.autoInstrument;return!1!==e.enabled&&(void 0===t||!0===t||\"object\"==typeof t&&t.network)&&r.addEventListener&&(r.addEventListener(\"load\",a.captureLoad.bind(a)),r.addEventListener(\"DOMContentLoaded\",a.captureDomContentLoaded.bind(a))),r[o]=a,a})()}},Rollbar:d}},function(r,e){function o(r,e,o){if(e.hasOwnProperty&&e.hasOwnProperty(\"addEventListener\")){for(var n=e.addEventListener;n._rollbarOldAdd&&n.belongsToShim;)n=n._rollbarOldAdd;var t=function(e,o,t){n.call(this,e,r.wrap(o),t)};t._rollbarOldAdd=n,t.belongsToShim=o,e.addEventListener=t;for(var a=e.removeEventListener;a._rollbarOldRemove&&a.belongsToShim;)a=a._rollbarOldRemove;var l=function(r,e,o){a.call(this,r,e&&e._rollbar_wrapped||e,o)};l._rollbarOldRemove=a,l.belongsToShim=o,e.removeEventListener=l}}r.exports={captureUncaughtExceptions:function(r,e,o){if(r){var n;if(\"function\"==typeof e._rollbarOldOnError)n=e._rollbarOldOnError;else if(r.onerror){for(n=r.onerror;n._rollbarOldOnError;)n=n._rollbarOldOnError;e._rollbarOldOnError=n}e.handleAnonymousErrors();var t=function(){var o=Array.prototype.slice.call(arguments,0);!function(r,e,o,n){r._rollbarWrappedError&&(n[4]||(n[4]=r._rollbarWrappedError),n[5]||(n[5]=r._rollbarWrappedError._rollbarContext),r._rollbarWrappedError=null);var t=e.handleUncaughtException.apply(e,n);o&&o.apply(r,n),\"anonymous\"===t&&(e.anonymousErrorsPending+=1)}(r,e,n,o)};o&&(t._rollbarOldOnError=n),r.onerror=t}},captureUnhandledRejections:function(r,e,o){if(r){\"function\"==typeof r._rollbarURH&&r._rollbarURH.belongsToShim&&r.removeEventListener(\"unhandledrejection\",r._rollbarURH);var n=function(r){var o,n,t;try{o=r.reason}catch(r){o=void 0}try{n=r.promise}catch(r){n=\"[unhandledrejection] error getting `promise` from event\"}try{t=r.detail,!o&&t&&(o=t.reason,n=t.promise)}catch(r){}o||(o=\"[unhandledrejection] error getting `reason` from event\"),e&&e.handleUnhandledRejection&&e.handleUnhandledRejection(o,n)};n.belongsToShim=o,r._rollbarURH=n,r.addEventListener(\"unhandledrejection\",n)}},wrapGlobals:function(r,e,n){if(r){var t,a,l=\"EventTarget,Window,Node,ApplicationCache,AudioTrackList,ChannelMergerNode,CryptoOperation,EventSource,FileReader,HTMLUnknownElement,IDBDatabase,IDBRequest,IDBTransaction,KeyOperation,MediaController,MessagePort,ModalWindow,Notification,SVGElementInstance,Screen,TextTrack,TextTrackCue,TextTrackList,WebSocket,WebSocketWorker,Worker,XMLHttpRequest,XMLHttpRequestEventTarget,XMLHttpRequestUpload\".split(\",\");for(t=0;t<l.length;++t)r[a=l[t]]&&r[a].prototype&&o(e,r[a].prototype,n)}}}},function(r,e){function o(r,e){this.impl=r(e,this),this.options=e,function(r){for(var e=function(r){return function(){var e=Array.prototype.slice.call(arguments,0);if(this.impl[r])return this.impl[r].apply(this.impl,e)}},o=\"log,debug,info,warn,warning,error,critical,global,configure,handleUncaughtException,handleAnonymousErrors,handleUnhandledRejection,_createItem,wrap,loadFull,shimId,captureEvent,captureDomContentLoaded,captureLoad\".split(\",\"),n=0;n<o.length;n++)r[o[n]]=e(o[n])}(o.prototype)}o.prototype._swapAndProcessMessages=function(r,e){var o,n,t;for(this.impl=r(this.options);o=e.shift();)n=o.method,t=o.args,this[n]&&\"function\"==typeof this[n]&&(\"captureDomContentLoaded\"===n||\"captureLoad\"===n?this[n].apply(this,[t[0],o.ts]):this[n].apply(this,t));return this},r.exports=o},function(r,e){r.exports=function(r){return function(e){if(!e&&!window._rollbarInitialized){for(var o,n,t=(r=r||{}).globalAlias||\"Rollbar\",a=window.rollbar,l=function(r){return new a(r)},i=0;o=window._rollbarShims[i++];)n||(n=o.handler),o.handler._swapAndProcessMessages(l,o.messages);window[t]=n,window._rollbarInitialized=!0}}}}]);\n",
      "                            // End Rollbar Snippet\n",
      "                            </script><script src=\"https://script.tapfiliate.com/tapfiliate.js\" type=\"text/javascript\" async=\"\"></script><script>\n",
      "                            (function(t,a,p){t.TapfiliateObject=a;t[a]=t[a]||function(){ (t[a].q=t[a].q||[]).push(arguments)}})(window,'tap');\n",
      "\n",
      "                            tap('create', '28900-ba6c4c', { integration: \"javascript\" });\n",
      "                            tap('detect');\n",
      "                            </script><meta name=\"viewport\" content=\"width=device-width\"/><meta charSet=\"utf-8\"/><meta name=\"twitter:site\" content=\"UnabatedSports\"/><meta name=\"twitter:creator\" content=\"UnabatedSports\"/><meta property=\"og:url\" content=\"https://unabated.com/nhl/odds\"/><meta property=\"og:image\" content=\"https://unabated.com/images/unabated-logo-lg.png\"/><link rel=\"canonical\" href=\"https://unabated.com/nhl/odds\"/><title>Real-Time NHL Odds and Betting Lines | Unabated</title><meta name=\"robots\" content=\"index,follow\"/><meta name=\"googlebot\" content=\"index,follow\"/><meta name=\"description\" content=\"Monitor betting markets in real-time with an odds screen built with an emphasis on identifying market makers. Know not only where the line is, but where the line is headed.\"/><meta property=\"og:title\" content=\"Real-Time NHL Odds and Betting Lines | Unabated\"/><meta property=\"og:description\" content=\"Monitor betting markets in real-time with an odds screen built with an emphasis on identifying market makers. Know not only where the line is, but where the line is headed.\"/><meta property=\"og:type\" content=\"website\"/><meta name=\"next-head-count\" content=\"14\"/><link rel=\"preload\" href=\"https://static.unabated.com/c54e8b622322d8f896246a96622f53042b7f7666/_next/static/css/c06b5d13991c761c5d00.css\" as=\"style\"/><link rel=\"stylesheet\" href=\"https://static.unabated.com/c54e8b622322d8f896246a96622f53042b7f7666/_next/static/css/c06b5d13991c761c5d00.css\" data-n-g=\"\"/><link rel=\"preload\" href=\"https://static.unabated.com/c54e8b622322d8f896246a96622f53042b7f7666/_next/static/css/568a8e21f8865f74c23e.css\" as=\"style\"/><link rel=\"stylesheet\" href=\"https://static.unabated.com/c54e8b622322d8f896246a96622f53042b7f7666/_next/static/css/568a8e21f8865f74c23e.css\" data-n-p=\"\"/><noscript data-n-css=\"\"></noscript><link rel=\"preload\" href=\"https://static.unabated.com/c54e8b622322d8f896246a96622f53042b7f7666/_next/static/chunks/webpack-9ef94e3ac114d5ff6133.js\" as=\"script\"/><link rel=\"preload\" href=\"https://static.unabated.com/c54e8b622322d8f896246a96622f53042b7f7666/_next/static/chunks/framework-619ce4ebc706d40ca8f3.js\" as=\"script\"/><link rel=\"preload\" href=\"https://static.unabated.com/c54e8b622322d8f896246a96622f53042b7f7666/_next/static/chunks/main-24fdb317eca52bf2f7b5.js\" as=\"script\"/><link rel=\"preload\" href=\"https://static.unabated.com/c54e8b622322d8f896246a96622f53042b7f7666/_next/static/chunks/pages/_app-e10d475ef1595ff88f3b.js\" as=\"script\"/><link rel=\"preload\" href=\"https://static.unabated.com/c54e8b622322d8f896246a96622f53042b7f7666/_next/static/chunks/cb1608f2-b003e51a0bf002503d86.js\" as=\"script\"/><link rel=\"preload\" href=\"https://static.unabated.com/c54e8b622322d8f896246a96622f53042b7f7666/_next/static/chunks/4071505a-af24f9d6fd61014827d2.js\" as=\"script\"/><link rel=\"preload\" href=\"https://static.unabated.com/c54e8b622322d8f896246a96622f53042b7f7666/_next/static/chunks/29107295-a36037e5ea1af0472eba.js\" as=\"script\"/><link rel=\"preload\" href=\"https://static.unabated.com/c54e8b622322d8f896246a96622f53042b7f7666/_next/static/chunks/75fc9c18-5f9e88d02b7fe80f33f9.js\" as=\"script\"/><link rel=\"preload\" href=\"https://static.unabated.com/c54e8b622322d8f896246a96622f53042b7f7666/_next/static/chunks/5913-075e5e2a5b5537d34191.js\" as=\"script\"/><link rel=\"preload\" href=\"https://static.unabated.com/c54e8b622322d8f896246a96622f53042b7f7666/_next/static/chunks/191-c2f24fae12d11bb861c8.js\" as=\"script\"/><link rel=\"preload\" href=\"https://static.unabated.com/c54e8b622322d8f896246a96622f53042b7f7666/_next/static/chunks/7287-dea46a6f9ddb94af0ff4.js\" as=\"script\"/><link rel=\"preload\" href=\"https://static.unabated.com/c54e8b622322d8f896246a96622f53042b7f7666/_next/static/chunks/3036-efcf0db6a11d3f5ed1d4.js\" as=\"script\"/><link rel=\"preload\" href=\"https://static.unabated.com/c54e8b622322d8f896246a96622f53042b7f7666/_next/static/chunks/2516-89a2b60c1868e50a655a.js\" as=\"script\"/><link rel=\"preload\" href=\"https://static.unabated.com/c54e8b622322d8f896246a96622f53042b7f7666/_next/static/chunks/4118-b4bafebae16c63270cae.js\" as=\"script\"/><link rel=\"preload\" href=\"https://static.unabated.com/c54e8b622322d8f896246a96622f53042b7f7666/_next/static/chunks/6750-01070914444cf17bbe4e.js\" as=\"script\"/><link rel=\"preload\" href=\"https://static.unabated.com/c54e8b622322d8f896246a96622f53042b7f7666/_next/static/chunks/2838-254ec8f2f050a7e2697b.js\" as=\"script\"/><link rel=\"preload\" href=\"https://static.unabated.com/c54e8b622322d8f896246a96622f53042b7f7666/_next/static/chunks/8156-5429cb13491c8fdbba2a.js\" as=\"script\"/><link rel=\"preload\" href=\"https://static.unabated.com/c54e8b622322d8f896246a96622f53042b7f7666/_next/static/chunks/5587-9be581846db26132fd33.js\" as=\"script\"/><link rel=\"preload\" href=\"https://static.unabated.com/c54e8b622322d8f896246a96622f53042b7f7666/_next/static/chunks/4253-8c32c65742a5f71b8be4.js\" as=\"script\"/><link rel=\"preload\" href=\"https://static.unabated.com/c54e8b622322d8f896246a96622f53042b7f7666/_next/static/chunks/4612-ec408125128bb2a4e367.js\" as=\"script\"/><link rel=\"preload\" href=\"https://static.unabated.com/c54e8b622322d8f896246a96622f53042b7f7666/_next/static/chunks/3294-d7ddb0b5620e4f690104.js\" as=\"script\"/><link rel=\"preload\" href=\"https://static.unabated.com/c54e8b622322d8f896246a96622f53042b7f7666/_next/static/chunks/pages/%5Bslug%5D/odds-27a2d8169e7e23cf9e0e.js\" as=\"script\"/><style id=\"__jsx-3795381251\">#__next{height:100%;}</style><style id=\"__jsx-579490978\">.sideBarClose.jsx-579490978{margin-right:-375px;-webkit-transition:margin-right 300ms ease-out;transition:margin-right 300ms ease-out;}.sideBarOpen.jsx-579490978{border:2px solid rgb(14,28,47);-webkit-transition:margin-right 300ms ease-in-out;transition:margin-right 300ms ease-in-out;}</style><style id=\"server-side-styles\">.logoSmall-0-2-1 {\n",
      "  display: none;\n",
      "  margin-right: 8px;\n",
      "}\n",
      "@media (max-width: 1068px) {\n",
      "  .logoSmall-0-2-1 {\n",
      "    display: inline-block;\n",
      "  }\n",
      "}\n",
      "  .logoLarge-0-2-2 {\n",
      "    display: inline-block;\n",
      "    margin-right: 8px;\n",
      "  }\n",
      "@media (max-width: 1068px) {\n",
      "  .logoLarge-0-2-2 {\n",
      "    display: none;\n",
      "  }\n",
      "}</style></head><body style=\"background-color:#061325!important\" class=\"jsx-3795381251\"><div id=\"__next\"><div class=\"d-flex flex-column public-page h-100 bg-dark\"><nav style=\"height:50px\" class=\"navbar-glass fs--1 font-weight-semi-bold pl-4 pr-2 navbar navbar-expand-lg navbar-light fixed-top\"><div class=\"toggle-icon-wrapper mr-md-3 mr-2 d-lg-none\"><button type=\"button\" class=\"navbar-toggler-humburger-icon btn btn-link d-flex flex-center\" id=\"burgerMenu\"><span class=\"navbar-toggle-icon\"><span class=\"toggle-line\"></span></span></button></div><a href=\"/\" class=\"navbar-brand\"><div class=\"mr-auto\"><div class=\"d-flex align-items-center \"><img class=\"logoLarge-0-2-2\" loading=\"lazy\" src=\"/images/unabated-logo-sm.png\" height=\"30\" alt=\"Logo\"/><img class=\"logoSmall-0-2-1\" loading=\"lazy\" src=\"/images/unabated-logo-lg.png\" height=\"30\" alt=\"Logo\"/></div></div></a></nav><div class=\"container-fluid p-0\" style=\"margin-top:50px;height:calc(100% - 54px)\"><div class=\"content pt-0 h-100\"><div style=\"margin:auto\" class=\"mt-1 d-flex flex-column h-100\"><div></div><div class=\"d-flex flex-column flex-grow-1\"><nav class=\"navbar navbar-expand-md bg-dark navbar-dark light p-0\"><div class=\"d-flex flex-wrap w-100\"><div class=\"mr-2 dropdown\"><button type=\"button\" aria-haspopup=\"true\" aria-expanded=\"false\" class=\"btn-sm btn-falcon-primary dropdown-toggle btn btn-secondary\"><svg aria-hidden=\"true\" focusable=\"false\" data-prefix=\"fas\" data-icon=\"hockey-puck\" class=\"svg-inline--fa fa-hockey-puck fa-w-16 mr-2 mr-2\" role=\"img\" xmlns=\"http://www.w3.org/2000/svg\" viewBox=\"0 0 512 512\"><path fill=\"currentColor\" d=\"M0 160c0-53 114.6-96 256-96s256 43 256 96-114.6 96-256 96S0 213 0 160zm0 82.2V352c0 53 114.6 96 256 96s256-43 256-96V242.2c-113.4 82.3-398.5 82.4-512 0z\"></path></svg>NHL</button><div tabindex=\"-1\" role=\"menu\" aria-hidden=\"true\" class=\"mr-2 dropdown-menu\"><button type=\"button\" color=\"primary\" tabindex=\"0\" role=\"menuitem\" class=\"  p-0 text-nowrap d-flex flex-column align-items-start d-lg-block dropdown-item\"><a role=\"link\" tabindex=\"0\" style=\"display:flex;width:100%;height:30px;align-items:center;padding:1rem;text-decoration:none;color:inherit\" href=\"/nfl/odds\"><svg aria-hidden=\"true\" focusable=\"false\" data-prefix=\"fas\" data-icon=\"football-ball\" class=\"svg-inline--fa fa-football-ball fa-w-16 \" role=\"img\" xmlns=\"http://www.w3.org/2000/svg\" viewBox=\"0 0 496 512\"><path fill=\"currentColor\" d=\"M481.5 60.3c-4.8-18.2-19.1-32.5-37.3-37.4C420.3 16.5 383 8.9 339.4 8L496 164.8c-.8-43.5-8.2-80.6-14.5-104.5zm-467 391.4c4.8 18.2 19.1 32.5 37.3 37.4 23.9 6.4 61.2 14 104.8 14.9L0 347.2c.8 43.5 8.2 80.6 14.5 104.5zM4.2 283.4L220.4 500c132.5-19.4 248.8-118.7 271.5-271.4L275.6 12C143.1 31.4 26.8 130.7 4.2 283.4zm317.3-123.6c3.1-3.1 8.2-3.1 11.3 0l11.3 11.3c3.1 3.1 3.1 8.2 0 11.3l-28.3 28.3 28.3 28.3c3.1 3.1 3.1 8.2 0 11.3l-11.3 11.3c-3.1 3.1-8.2 3.1-11.3 0l-28.3-28.3-22.6 22.7 28.3 28.3c3.1 3.1 3.1 8.2 0 11.3l-11.3 11.3c-3.1 3.1-8.2 3.1-11.3 0L248 278.6l-22.6 22.6 28.3 28.3c3.1 3.1 3.1 8.2 0 11.3l-11.3 11.3c-3.1 3.1-8.2 3.1-11.3 0l-28.3-28.3-28.3 28.3c-3.1 3.1-8.2 3.1-11.3 0l-11.3-11.3c-3.1-3.1-3.1-8.2 0-11.3l28.3-28.3-28.3-28.2c-3.1-3.1-3.1-8.2 0-11.3l11.3-11.3c3.1-3.1 8.2-3.1 11.3 0l28.3 28.3 22.6-22.6-28.3-28.3c-3.1-3.1-3.1-8.2 0-11.3l11.3-11.3c3.1-3.1 8.2-3.1 11.3 0l28.3 28.3 22.6-22.6-28.3-28.3c-3.1-3.1-3.1-8.2 0-11.3l11.3-11.3c3.1-3.1 8.2-3.1 11.3 0l28.3 28.3 28.3-28.5z\"></path></svg><span class=\"ml-lg-2 ml-1\">NFL</span></a></button><button type=\"button\" color=\"primary\" tabindex=\"0\" role=\"menuitem\" class=\" p-0 text-nowrap d-flex flex-column align-items-start d-lg-block dropdown-item\"><a role=\"link\" tabindex=\"0\" style=\"display:flex;width:100%;height:30px;align-items:center;padding:1rem;text-decoration:none;color:inherit\" href=\"/cfb/odds\"><svg aria-hidden=\"true\" focusable=\"false\" data-prefix=\"fas\" data-icon=\"football-ball\" class=\"svg-inline--fa fa-football-ball fa-w-16 \" role=\"img\" xmlns=\"http://www.w3.org/2000/svg\" viewBox=\"0 0 496 512\"><path fill=\"currentColor\" d=\"M481.5 60.3c-4.8-18.2-19.1-32.5-37.3-37.4C420.3 16.5 383 8.9 339.4 8L496 164.8c-.8-43.5-8.2-80.6-14.5-104.5zm-467 391.4c4.8 18.2 19.1 32.5 37.3 37.4 23.9 6.4 61.2 14 104.8 14.9L0 347.2c.8 43.5 8.2 80.6 14.5 104.5zM4.2 283.4L220.4 500c132.5-19.4 248.8-118.7 271.5-271.4L275.6 12C143.1 31.4 26.8 130.7 4.2 283.4zm317.3-123.6c3.1-3.1 8.2-3.1 11.3 0l11.3 11.3c3.1 3.1 3.1 8.2 0 11.3l-28.3 28.3 28.3 28.3c3.1 3.1 3.1 8.2 0 11.3l-11.3 11.3c-3.1 3.1-8.2 3.1-11.3 0l-28.3-28.3-22.6 22.7 28.3 28.3c3.1 3.1 3.1 8.2 0 11.3l-11.3 11.3c-3.1 3.1-8.2 3.1-11.3 0L248 278.6l-22.6 22.6 28.3 28.3c3.1 3.1 3.1 8.2 0 11.3l-11.3 11.3c-3.1 3.1-8.2 3.1-11.3 0l-28.3-28.3-28.3 28.3c-3.1 3.1-8.2 3.1-11.3 0l-11.3-11.3c-3.1-3.1-3.1-8.2 0-11.3l28.3-28.3-28.3-28.2c-3.1-3.1-3.1-8.2 0-11.3l11.3-11.3c3.1-3.1 8.2-3.1 11.3 0l28.3 28.3 22.6-22.6-28.3-28.3c-3.1-3.1-3.1-8.2 0-11.3l11.3-11.3c3.1-3.1 8.2-3.1 11.3 0l28.3 28.3 22.6-22.6-28.3-28.3c-3.1-3.1-3.1-8.2 0-11.3l11.3-11.3c3.1-3.1 8.2-3.1 11.3 0l28.3 28.3 28.3-28.5z\"></path></svg><span class=\"ml-lg-2 ml-1\">CFB</span></a></button><button type=\"button\" color=\"primary\" tabindex=\"0\" role=\"menuitem\" class=\" p-0 text-nowrap d-flex flex-column align-items-start d-lg-block dropdown-item\"><a role=\"link\" tabindex=\"0\" style=\"display:flex;width:100%;height:30px;align-items:center;padding:1rem;text-decoration:none;color:inherit\" href=\"/nba/odds\"><svg aria-hidden=\"true\" focusable=\"false\" data-prefix=\"fas\" data-icon=\"basketball-ball\" class=\"svg-inline--fa fa-basketball-ball fa-w-16 \" role=\"img\" xmlns=\"http://www.w3.org/2000/svg\" viewBox=\"0 0 496 512\"><path fill=\"currentColor\" d=\"M212.3 10.3c-43.8 6.3-86.2 24.1-122.2 53.8l77.4 77.4c27.8-35.8 43.3-81.2 44.8-131.2zM248 222L405.9 64.1c-42.4-35-93.6-53.5-145.5-56.1-1.2 63.9-21.5 122.3-58.7 167.7L248 222zM56.1 98.1c-29.7 36-47.5 78.4-53.8 122.2 50-1.5 95.5-17 131.2-44.8L56.1 98.1zm272.2 204.2c45.3-37.1 103.7-57.4 167.7-58.7-2.6-51.9-21.1-103.1-56.1-145.5L282 256l46.3 46.3zM248 290L90.1 447.9c42.4 34.9 93.6 53.5 145.5 56.1 1.3-64 21.6-122.4 58.7-167.7L248 290zm191.9 123.9c29.7-36 47.5-78.4 53.8-122.2-50.1 1.6-95.5 17.1-131.2 44.8l77.4 77.4zM167.7 209.7C122.3 246.9 63.9 267.3 0 268.4c2.6 51.9 21.1 103.1 56.1 145.5L214 256l-46.3-46.3zm116 292c43.8-6.3 86.2-24.1 122.2-53.8l-77.4-77.4c-27.7 35.7-43.2 81.2-44.8 131.2z\"></path></svg><span class=\"ml-lg-2 ml-1\">NBA</span></a></button><button type=\"button\" color=\"primary\" tabindex=\"0\" role=\"menuitem\" class=\" p-0 text-nowrap  d-flex flex-column align-items-start d-lg-block dropdown-item\"><a role=\"link\" tabindex=\"0\" style=\"display:flex;width:100%;height:30px;align-items:center;padding:1rem;text-decoration:none;color:inherit\" href=\"/cbb/odds\"><svg aria-hidden=\"true\" focusable=\"false\" data-prefix=\"fas\" data-icon=\"basketball-ball\" class=\"svg-inline--fa fa-basketball-ball fa-w-16 \" role=\"img\" xmlns=\"http://www.w3.org/2000/svg\" viewBox=\"0 0 496 512\"><path fill=\"currentColor\" d=\"M212.3 10.3c-43.8 6.3-86.2 24.1-122.2 53.8l77.4 77.4c27.8-35.8 43.3-81.2 44.8-131.2zM248 222L405.9 64.1c-42.4-35-93.6-53.5-145.5-56.1-1.2 63.9-21.5 122.3-58.7 167.7L248 222zM56.1 98.1c-29.7 36-47.5 78.4-53.8 122.2 50-1.5 95.5-17 131.2-44.8L56.1 98.1zm272.2 204.2c45.3-37.1 103.7-57.4 167.7-58.7-2.6-51.9-21.1-103.1-56.1-145.5L282 256l46.3 46.3zM248 290L90.1 447.9c42.4 34.9 93.6 53.5 145.5 56.1 1.3-64 21.6-122.4 58.7-167.7L248 290zm191.9 123.9c29.7-36 47.5-78.4 53.8-122.2-50.1 1.6-95.5 17.1-131.2 44.8l77.4 77.4zM167.7 209.7C122.3 246.9 63.9 267.3 0 268.4c2.6 51.9 21.1 103.1 56.1 145.5L214 256l-46.3-46.3zm116 292c43.8-6.3 86.2-24.1 122.2-53.8l-77.4-77.4c-27.7 35.7-43.2 81.2-44.8 131.2z\"></path></svg><span class=\"ml-lg-2 ml-1\">CBB</span></a></button><button type=\"button\" color=\"primary\" tabindex=\"0\" role=\"menuitem\" class=\" p-0 text-nowrap d-flex flex-column align-items-start d-lg-block dropdown-item\"><a role=\"link\" tabindex=\"0\" style=\"display:flex;width:100%;height:30px;align-items:center;padding:1rem;text-decoration:none;color:inherit\" href=\"/mlb/odds\"><svg aria-hidden=\"true\" focusable=\"false\" data-prefix=\"fas\" data-icon=\"baseball-ball\" class=\"svg-inline--fa fa-baseball-ball fa-w-16 \" role=\"img\" xmlns=\"http://www.w3.org/2000/svg\" viewBox=\"0 0 496 512\"><path fill=\"currentColor\" d=\"M368.5 363.9l28.8-13.9c11.1 22.9 26 43.2 44.1 60.9 34-42.5 54.5-96.3 54.5-154.9 0-58.5-20.4-112.2-54.2-154.6-17.8 17.3-32.6 37.1-43.6 59.5l-28.7-14.1c12.8-26 30-49 50.8-69C375.6 34.7 315 8 248 8 181.1 8 120.5 34.6 75.9 77.7c20.7 19.9 37.9 42.9 50.7 68.8l-28.7 14.1c-11-22.3-25.7-42.1-43.5-59.4C20.4 143.7 0 197.4 0 256c0 58.6 20.4 112.3 54.4 154.7 18.2-17.7 33.2-38 44.3-61l28.8 13.9c-12.9 26.7-30.3 50.3-51.5 70.7 44.5 43.1 105.1 69.7 172 69.7 66.8 0 127.3-26.5 171.9-69.5-21.1-20.4-38.5-43.9-51.4-70.6zm-228.3-32l-30.5-9.8c14.9-46.4 12.7-93.8-.6-134l30.4-10c15 45.6 18 99.9.7 153.8zm216.3-153.4l30.4 10c-13.2 40.1-15.5 87.5-.6 134l-30.5 9.8c-17.3-54-14.3-108.3.7-153.8z\"></path></svg><span class=\"ml-lg-2 ml-1\">MLB</span></a></button><button type=\"button\" color=\"primary\" tabindex=\"0\" role=\"menuitem\" class=\"text-white p-0 text-nowrap d-flex flex-column align-items-start d-lg-block dropdown-item active\"><a role=\"link\" tabindex=\"0\" style=\"display:flex;width:100%;height:30px;align-items:center;padding:1rem;text-decoration:none;color:inherit\" href=\"/nhl/odds\"><svg aria-hidden=\"true\" focusable=\"false\" data-prefix=\"fas\" data-icon=\"hockey-puck\" class=\"svg-inline--fa fa-hockey-puck fa-w-16 \" role=\"img\" xmlns=\"http://www.w3.org/2000/svg\" viewBox=\"0 0 512 512\"><path fill=\"currentColor\" d=\"M0 160c0-53 114.6-96 256-96s256 43 256 96-114.6 96-256 96S0 213 0 160zm0 82.2V352c0 53 114.6 96 256 96s256-43 256-96V242.2c-113.4 82.3-398.5 82.4-512 0z\"></path></svg><span class=\"ml-lg-2 ml-1\">NHL</span></a></button></div></div><div class=\"mr-2 dropdown\"><button type=\"button\" aria-haspopup=\"true\" aria-expanded=\"false\" class=\"btn-sm btn-falcon-primary dropdown-toggle btn btn-secondary\">Moneyline</button><div tabindex=\"-1\" role=\"menu\" aria-hidden=\"true\" class=\"mr-2 dropdown-menu\"><button type=\"button\" color=\"primary\" tabindex=\"0\" role=\"menuitem\" class=\"text-white dropdown-item active\">Moneyline</button><button type=\"button\" color=\"primary\" tabindex=\"0\" role=\"menuitem\" class=\"dropdown-item\">Spread</button><button type=\"button\" color=\"primary\" tabindex=\"0\" role=\"menuitem\" class=\"dropdown-item\">Total</button><button type=\"button\" color=\"primary\" tabindex=\"0\" role=\"menuitem\" class=\"dropdown-item\">Combined</button></div></div><div class=\"mr-2 dropdown\"><button type=\"button\" aria-haspopup=\"true\" aria-expanded=\"false\" class=\"btn-sm btn-falcon-primary dropdown-toggle btn btn-secondary\">Full Game</button><div tabindex=\"-1\" role=\"menu\" aria-hidden=\"true\" class=\"dropdown-menu\"></div></div><div class=\"flex-grow-1\"></div><div class=\"mr-2\"><button aria-label=\"Toggle navigation\" type=\"button\" class=\"navbar-toggler\"><span class=\"navbar-toggler-icon\"></span></button></div><div class=\"scrollbar  collapse navbar-collapse\"><div class=\"d-flex w-100 \"><div class=\"nav-item mb-2\"><div color=\"primary\" role=\"group\" class=\"mr-2  btn-group-sm btn-group\"><button type=\"button\" class=\"btn-sm btn-primary  text-white btn btn-outline-falcon-primary active\">P/G</button><button type=\"button\" id=\"buttonGameStatusLive\" class=\"btn-sm disabled btn btn-outline-primary\">Live</button></div></div><div class=\"nav-item mb-2\"><div style=\"max-height:29px\" class=\"d-flex align-items-center justify-content-around mr-2 datepicker-container\"><div class=\"react-datepicker-wrapper\"><div class=\"react-datepicker__input-container\"><input type=\"text\" value=\"11/01/22\" class=\"datepicker form-control datepicker-container\"/></div></div></div></div><div class=\"mr-2 dropdown\"><button type=\"button\" aria-haspopup=\"true\" aria-expanded=\"false\" class=\"btn-sm btn-falcon-primary dropdown-toggle btn btn-secondary\">American</button><div tabindex=\"-1\" role=\"menu\" aria-hidden=\"true\" class=\"mr-2 dropdown-menu\"><h6 tabindex=\"-1\" class=\"dropdown-header\">Odds Format</h6><button type=\"button\" color=\"primary\" tabindex=\"0\" role=\"menuitem\" class=\"text-white dropdown-item active\">American</button><button type=\"button\" color=\"primary\" tabindex=\"0\" role=\"menuitem\" class=\"dropdown-item\">Decimal</button><button type=\"button\" color=\"primary\" tabindex=\"0\" role=\"menuitem\" class=\"dropdown-item\">Probability</button><button type=\"button\" color=\"primary\" tabindex=\"0\" role=\"menuitem\" class=\"dropdown-item\">Sporttrade<img class=\"ml-1\" src=\"https://assets.unabated.com/sportsbooks/thumbnails/sporttrade.png\" title=\"Sporttrade\" style=\"width:16px;height:16px\"/></button><button type=\"button\" color=\"primary\" tabindex=\"0\" role=\"menuitem\" class=\"dropdown-item\">Native</button><div tabindex=\"-1\" class=\"dropdown-divider\"></div><h6 tabindex=\"-1\" class=\"dropdown-header\">Commissions</h6><button type=\"button\" color=\"primary\" tabindex=\"0\" role=\"menuitem\" class=\"dropdown-item\">Include Commission</button><button type=\"button\" color=\"primary\" tabindex=\"0\" role=\"menuitem\" class=\"dropdown-item active\">Exclude Commission</button></div></div><div class=\"d-flex flex-fill\"><div style=\"margin-left:0\"></div></div><div class=\"d-flex justify-content-end\"><div role=\"group\" class=\"btn-group-sm btn-group\"><div class=\"d-flex align-items-center text-warning font-weight-bold px-1 ml-1 mr-2\"><a href=\"/articles/learn-about-the-game-odds-screen\" class=\"text-primary mb-0\" target=\"_blank\"><svg aria-hidden=\"true\" focusable=\"false\" data-prefix=\"fas\" data-icon=\"graduation-cap\" class=\"svg-inline--fa fa-graduation-cap fa-w-20 mr-1\" role=\"img\" xmlns=\"http://www.w3.org/2000/svg\" viewBox=\"0 0 640 512\"><path fill=\"currentColor\" d=\"M622.34 153.2L343.4 67.5c-15.2-4.67-31.6-4.67-46.79 0L17.66 153.2c-23.54 7.23-23.54 38.36 0 45.59l48.63 14.94c-10.67 13.19-17.23 29.28-17.88 46.9C38.78 266.15 32 276.11 32 288c0 10.78 5.68 19.85 13.86 25.65L20.33 428.53C18.11 438.52 25.71 448 35.94 448h56.11c10.24 0 17.84-9.48 15.62-19.47L82.14 313.65C90.32 307.85 96 298.78 96 288c0-11.57-6.47-21.25-15.66-26.87.76-15.02 8.44-28.3 20.69-36.72L296.6 284.5c9.06 2.78 26.44 6.25 46.79 0l278.95-85.7c23.55-7.24 23.55-38.36 0-45.6zM352.79 315.09c-28.53 8.76-52.84 3.92-65.59 0l-145.02-44.55L128 384c0 35.35 85.96 64 192 64s192-28.65 192-64l-14.18-113.47-145.03 44.56z\"></path></svg>Teach Me</a></div><button type=\"button\" id=\"tradingToolsButton\" class=\"btn btn-outline-primary btn-sm\"><svg aria-hidden=\"true\" focusable=\"false\" data-prefix=\"fas\" data-icon=\"calculator\" class=\"svg-inline--fa fa-calculator fa-w-14 border-0\" role=\"img\" xmlns=\"http://www.w3.org/2000/svg\" viewBox=\"0 0 448 512\" color=\"primary\"><path fill=\"currentColor\" d=\"M400 0H48C22.4 0 0 22.4 0 48v416c0 25.6 22.4 48 48 48h352c25.6 0 48-22.4 48-48V48c0-25.6-22.4-48-48-48zM128 435.2c0 6.4-6.4 12.8-12.8 12.8H76.8c-6.4 0-12.8-6.4-12.8-12.8v-38.4c0-6.4 6.4-12.8 12.8-12.8h38.4c6.4 0 12.8 6.4 12.8 12.8v38.4zm0-128c0 6.4-6.4 12.8-12.8 12.8H76.8c-6.4 0-12.8-6.4-12.8-12.8v-38.4c0-6.4 6.4-12.8 12.8-12.8h38.4c6.4 0 12.8 6.4 12.8 12.8v38.4zm128 128c0 6.4-6.4 12.8-12.8 12.8h-38.4c-6.4 0-12.8-6.4-12.8-12.8v-38.4c0-6.4 6.4-12.8 12.8-12.8h38.4c6.4 0 12.8 6.4 12.8 12.8v38.4zm0-128c0 6.4-6.4 12.8-12.8 12.8h-38.4c-6.4 0-12.8-6.4-12.8-12.8v-38.4c0-6.4 6.4-12.8 12.8-12.8h38.4c6.4 0 12.8 6.4 12.8 12.8v38.4zm128 128c0 6.4-6.4 12.8-12.8 12.8h-38.4c-6.4 0-12.8-6.4-12.8-12.8V268.8c0-6.4 6.4-12.8 12.8-12.8h38.4c6.4 0 12.8 6.4 12.8 12.8v166.4zm0-256c0 6.4-6.4 12.8-12.8 12.8H76.8c-6.4 0-12.8-6.4-12.8-12.8V76.8C64 70.4 70.4 64 76.8 64h294.4c6.4 0 12.8 6.4 12.8 12.8v102.4z\"></path></svg></button><button type=\"button\" id=\"marketHistoryButton\" class=\"mr-1 btn btn-outline-primary btn-sm\"><svg aria-hidden=\"true\" focusable=\"false\" data-prefix=\"fas\" data-icon=\"chart-line\" class=\"svg-inline--fa fa-chart-line fa-w-16 border-0\" role=\"img\" xmlns=\"http://www.w3.org/2000/svg\" viewBox=\"0 0 512 512\" color=\"primary\"><path fill=\"currentColor\" d=\"M496 384H64V80c0-8.84-7.16-16-16-16H16C7.16 64 0 71.16 0 80v336c0 17.67 14.33 32 32 32h464c8.84 0 16-7.16 16-16v-32c0-8.84-7.16-16-16-16zM464 96H345.94c-21.38 0-32.09 25.85-16.97 40.97l32.4 32.4L288 242.75l-73.37-73.37c-12.5-12.5-32.76-12.5-45.25 0l-68.69 68.69c-6.25 6.25-6.25 16.38 0 22.63l22.62 22.62c6.25 6.25 16.38 6.25 22.63 0L192 237.25l73.37 73.37c12.5 12.5 32.76 12.5 45.25 0l96-96 32.4 32.4c15.12 15.12 40.97 4.41 40.97-16.97V112c.01-8.84-7.15-16-15.99-16z\"></path></svg></button></div></div></div></div></div></nav><div class=\"d-flex flex-grow-1\" style=\"width:100%;overflow:hidden\"><div style=\"height:100%;width:100%;padding-top:5px\" class=\"ag-theme-alpine-dark\"></div><div class=\"mt-1\"><div style=\"height:100%;width:375px;border-left:solid 1px #3c3c3c;border-top:solid 1px #3c3c3c;border-bottom:solid 1px #3c3c3c;border-radius:5px\" class=\"jsx-579490978 sideBarClose\"><div class=\"jsx-579490978\"></div></div></div></div></div></div></div></div></div></div><script id=\"__NEXT_DATA__\" type=\"application/json\">{\"props\":{\"pageProps\":{\"userAgent\":\"python-requests/2.28.1\",\"headers\":{\"x-forwarded-for\":\"67.254.141.188\",\"x-forwarded-proto\":\"https\",\"x-forwarded-port\":\"443\",\"host\":\"unabated.com\",\"x-amzn-trace-id\":\"Root=1-63609d50-1b7651ac2b6782d2384ccbcd\",\"user-agent\":\"python-requests/2.28.1\",\"accept-encoding\":\"gzip, deflate, br\",\"accept\":\"*/*\"},\"userSettings\":{\"gameOdds\":{\"usingDefaults\":true,\"defaults\":[{\"marketSourceId\":49,\"name\":\"Unabated\",\"logoUrl\":\"https://assets.unabated.com/sportsbooks/logos/unabated_line.svg\",\"sortOrder\":10,\"isUnavailable\":false},{\"marketSourceId\":11,\"name\":\"DeckPrism\",\"logoUrl\":\"https://assets.unabated.com/sportsbooks/logos/deckprism.png\",\"sortOrder\":20,\"isUnavailable\":false},{\"marketSourceId\":8,\"name\":\"Bookmaker\",\"logoUrl\":\"https://assets.unabated.com/sportsbooks/logos/bookmaker.svg\",\"sortOrder\":30,\"isUnavailable\":false},{\"marketSourceId\":7,\"name\":\"Pinnacle\",\"logoUrl\":\"https://assets.unabated.com/sportsbooks/logos/pinnacle.svg\",\"sortOrder\":40,\"isUnavailable\":false},{\"marketSourceId\":58,\"name\":\"Pinnacle - Delayed\",\"logoUrl\":null,\"sortOrder\":50,\"isUnavailable\":true},{\"marketSourceId\":6,\"name\":\"Circa\",\"logoUrl\":\"https://assets.unabated.com/sportsbooks/logos/circa.svg\",\"sortOrder\":60,\"isUnavailable\":false},{\"marketSourceId\":67,\"name\":\"Sporttrade\",\"logoUrl\":\"https://assets.unabated.com/sportsbooks/logos/sporttrade.png\",\"sortOrder\":70,\"isUnavailable\":false},{\"marketSourceId\":66,\"name\":\"Prophet Exchange\",\"logoUrl\":\"https://assets.unabated.com/sportsbooks/logos/betprophet.png\",\"sortOrder\":80,\"isUnavailable\":false},{\"marketSourceId\":60,\"name\":\"theScore\",\"logoUrl\":\"https://assets.unabated.com/sportsbooks/logos/thescore.webp\",\"sortOrder\":90,\"isUnavailable\":false},{\"marketSourceId\":2,\"name\":\"FanDuel\",\"logoUrl\":\"https://assets.unabated.com/sportsbooks/logos/fan-duel.svg\",\"sortOrder\":110,\"isUnavailable\":false},{\"marketSourceId\":57,\"name\":\"FanDuel - Delayed\",\"logoUrl\":\"https://assets.unabated.com/sportsbooks/logos/fan-duel-delayed.png\",\"sortOrder\":120,\"isUnavailable\":true},{\"marketSourceId\":1,\"name\":\"DraftKings\",\"logoUrl\":\"https://assets.unabated.com/sportsbooks/logos/draft-kings.svg\",\"sortOrder\":130,\"isUnavailable\":false},{\"marketSourceId\":28,\"name\":\"SuperBook\",\"logoUrl\":\"https://assets.unabated.com/sportsbooks/logos/superbook.png\",\"sortOrder\":140,\"isUnavailable\":false},{\"marketSourceId\":4,\"name\":\"BetMGM\",\"logoUrl\":\"https://assets.unabated.com/sportsbooks/logos/bet-mgm.svg\",\"sortOrder\":150,\"isUnavailable\":false},{\"marketSourceId\":20,\"name\":\"Caesars\",\"logoUrl\":\"https://assets.unabated.com/sportsbooks/logos/caesars.svg\",\"sortOrder\":160,\"isUnavailable\":false},{\"marketSourceId\":3,\"name\":\"PointsBet\",\"logoUrl\":\"https://assets.unabated.com/sportsbooks/logos/points-bet.svg\",\"sortOrder\":170,\"isUnavailable\":false},{\"marketSourceId\":9,\"name\":\"BetOnline\",\"logoUrl\":\"https://assets.unabated.com/sportsbooks/logos/bet-online.svg\",\"sortOrder\":180,\"isUnavailable\":false},{\"marketSourceId\":10,\"name\":\"Bovada\",\"logoUrl\":\"https://assets.unabated.com/sportsbooks/logos/bovada.svg\",\"sortOrder\":190,\"isUnavailable\":false},{\"marketSourceId\":33,\"name\":\"WynnBet\",\"logoUrl\":\"https://assets.unabated.com/sportsbooks/logos/wynnbet.png\",\"sortOrder\":200,\"isUnavailable\":false},{\"marketSourceId\":59,\"name\":\"Buckeye\",\"logoUrl\":\"https://assets.unabated.com/sportsbooks/logos/buckeye.webp\",\"sortOrder\":210,\"isUnavailable\":false},{\"marketSourceId\":31,\"name\":\"Unibet\",\"logoUrl\":\"https://assets.unabated.com/sportsbooks/logos/unibet.svg\",\"sortOrder\":220,\"isUnavailable\":false},{\"marketSourceId\":53,\"name\":\"LowVig\",\"logoUrl\":\"https://assets.unabated.com/sportsbooks/logos/lowvig.png\",\"sortOrder\":230,\"isUnavailable\":false},{\"marketSourceId\":27,\"name\":\"Sugarhouse\",\"logoUrl\":\"https://assets.unabated.com/sportsbooks/logos/sugarhouse.svg\",\"sortOrder\":240,\"isUnavailable\":false},{\"marketSourceId\":13,\"name\":\"888sports\",\"logoUrl\":\"https://assets.unabated.com/sportsbooks/logos/888-sports.png\",\"sortOrder\":250,\"isUnavailable\":true},{\"marketSourceId\":17,\"name\":\"BetRivers\",\"logoUrl\":\"https://assets.unabated.com/sportsbooks/logos/betrivers.png\",\"sortOrder\":260,\"isUnavailable\":false},{\"marketSourceId\":56,\"name\":\"YouWager\",\"logoUrl\":\"https://assets.unabated.com/sportsbooks/logos/youwager.png\",\"sortOrder\":270,\"isUnavailable\":false},{\"marketSourceId\":54,\"name\":\"SportsBetting\",\"logoUrl\":\"https://assets.unabated.com/sportsbooks/logos/sportsbetting.png\",\"sortOrder\":280,\"isUnavailable\":false},{\"marketSourceId\":55,\"name\":\"Intertops\",\"logoUrl\":\"https://assets.unabated.com/sportsbooks/logos/intertops.png\",\"sortOrder\":290,\"isUnavailable\":false},{\"marketSourceId\":52,\"name\":\"Matchbook\",\"logoUrl\":\"https://assets.unabated.com/sportsbooks/logos/matchbook.png\",\"sortOrder\":300,\"isUnavailable\":false},{\"marketSourceId\":51,\"name\":\"5Dimes\",\"logoUrl\":\"https://assets.unabated.com/sportsbooks/logos/5dimes.png\",\"sortOrder\":310,\"isUnavailable\":true},{\"marketSourceId\":21,\"name\":\"FoxBet\",\"logoUrl\":\"https://assets.unabated.com/sportsbooks/logos/foxbet.svg\",\"sortOrder\":1120,\"isUnavailable\":false},{\"marketSourceId\":26,\"name\":\"Resorts\",\"logoUrl\":\"https://assets.unabated.com/sportsbooks/logos/resorts.png\",\"sortOrder\":1220,\"isUnavailable\":true},{\"marketSourceId\":64,\"name\":\"Circa Pool\",\"logoUrl\":null,\"sortOrder\":10000,\"isUnavailable\":true},{\"marketSourceId\":63,\"name\":\"DraftKings Pool\",\"logoUrl\":null,\"sortOrder\":10010,\"isUnavailable\":true},{\"marketSourceId\":61,\"name\":\"OfficeFootballPool\",\"logoUrl\":null,\"sortOrder\":10020,\"isUnavailable\":true},{\"marketSourceId\":62,\"name\":\"RunYourPool\",\"logoUrl\":null,\"sortOrder\":10030,\"isUnavailable\":true},{\"marketSourceId\":65,\"name\":\"SuperContest Pool\",\"logoUrl\":null,\"sortOrder\":10040,\"isUnavailable\":true},{\"marketSourceId\":50,\"name\":\"Retail Consensus\",\"logoUrl\":null,\"sortOrder\":20000,\"isUnavailable\":true}],\"marketSources\":[{\"marketSourceId\":49,\"name\":\"Unabated\",\"logoUrl\":\"https://assets.unabated.com/sportsbooks/logos/unabated_line.svg\",\"sortOrder\":10,\"isUnavailable\":false},{\"marketSourceId\":11,\"name\":\"DeckPrism\",\"logoUrl\":\"https://assets.unabated.com/sportsbooks/logos/deckprism.png\",\"sortOrder\":20,\"isUnavailable\":false},{\"marketSourceId\":8,\"name\":\"Bookmaker\",\"logoUrl\":\"https://assets.unabated.com/sportsbooks/logos/bookmaker.svg\",\"sortOrder\":30,\"isUnavailable\":false},{\"marketSourceId\":7,\"name\":\"Pinnacle\",\"logoUrl\":\"https://assets.unabated.com/sportsbooks/logos/pinnacle.svg\",\"sortOrder\":40,\"isUnavailable\":false},{\"marketSourceId\":58,\"name\":\"Pinnacle - Delayed\",\"logoUrl\":null,\"sortOrder\":50,\"isUnavailable\":true},{\"marketSourceId\":6,\"name\":\"Circa\",\"logoUrl\":\"https://assets.unabated.com/sportsbooks/logos/circa.svg\",\"sortOrder\":60,\"isUnavailable\":false},{\"marketSourceId\":67,\"name\":\"Sporttrade\",\"logoUrl\":\"https://assets.unabated.com/sportsbooks/logos/sporttrade.png\",\"sortOrder\":70,\"isUnavailable\":false},{\"marketSourceId\":66,\"name\":\"Prophet Exchange\",\"logoUrl\":\"https://assets.unabated.com/sportsbooks/logos/betprophet.png\",\"sortOrder\":80,\"isUnavailable\":false},{\"marketSourceId\":60,\"name\":\"theScore\",\"logoUrl\":\"https://assets.unabated.com/sportsbooks/logos/thescore.webp\",\"sortOrder\":90,\"isUnavailable\":false},{\"marketSourceId\":2,\"name\":\"FanDuel\",\"logoUrl\":\"https://assets.unabated.com/sportsbooks/logos/fan-duel.svg\",\"sortOrder\":110,\"isUnavailable\":false},{\"marketSourceId\":57,\"name\":\"FanDuel - Delayed\",\"logoUrl\":\"https://assets.unabated.com/sportsbooks/logos/fan-duel-delayed.png\",\"sortOrder\":120,\"isUnavailable\":true},{\"marketSourceId\":1,\"name\":\"DraftKings\",\"logoUrl\":\"https://assets.unabated.com/sportsbooks/logos/draft-kings.svg\",\"sortOrder\":130,\"isUnavailable\":false},{\"marketSourceId\":28,\"name\":\"SuperBook\",\"logoUrl\":\"https://assets.unabated.com/sportsbooks/logos/superbook.png\",\"sortOrder\":140,\"isUnavailable\":false},{\"marketSourceId\":4,\"name\":\"BetMGM\",\"logoUrl\":\"https://assets.unabated.com/sportsbooks/logos/bet-mgm.svg\",\"sortOrder\":150,\"isUnavailable\":false},{\"marketSourceId\":20,\"name\":\"Caesars\",\"logoUrl\":\"https://assets.unabated.com/sportsbooks/logos/caesars.svg\",\"sortOrder\":160,\"isUnavailable\":false},{\"marketSourceId\":3,\"name\":\"PointsBet\",\"logoUrl\":\"https://assets.unabated.com/sportsbooks/logos/points-bet.svg\",\"sortOrder\":170,\"isUnavailable\":false},{\"marketSourceId\":9,\"name\":\"BetOnline\",\"logoUrl\":\"https://assets.unabated.com/sportsbooks/logos/bet-online.svg\",\"sortOrder\":180,\"isUnavailable\":false},{\"marketSourceId\":10,\"name\":\"Bovada\",\"logoUrl\":\"https://assets.unabated.com/sportsbooks/logos/bovada.svg\",\"sortOrder\":190,\"isUnavailable\":false},{\"marketSourceId\":33,\"name\":\"WynnBet\",\"logoUrl\":\"https://assets.unabated.com/sportsbooks/logos/wynnbet.png\",\"sortOrder\":200,\"isUnavailable\":false},{\"marketSourceId\":59,\"name\":\"Buckeye\",\"logoUrl\":\"https://assets.unabated.com/sportsbooks/logos/buckeye.webp\",\"sortOrder\":210,\"isUnavailable\":false},{\"marketSourceId\":31,\"name\":\"Unibet\",\"logoUrl\":\"https://assets.unabated.com/sportsbooks/logos/unibet.svg\",\"sortOrder\":220,\"isUnavailable\":false},{\"marketSourceId\":53,\"name\":\"LowVig\",\"logoUrl\":\"https://assets.unabated.com/sportsbooks/logos/lowvig.png\",\"sortOrder\":230,\"isUnavailable\":false},{\"marketSourceId\":27,\"name\":\"Sugarhouse\",\"logoUrl\":\"https://assets.unabated.com/sportsbooks/logos/sugarhouse.svg\",\"sortOrder\":240,\"isUnavailable\":false},{\"marketSourceId\":13,\"name\":\"888sports\",\"logoUrl\":\"https://assets.unabated.com/sportsbooks/logos/888-sports.png\",\"sortOrder\":250,\"isUnavailable\":true},{\"marketSourceId\":17,\"name\":\"BetRivers\",\"logoUrl\":\"https://assets.unabated.com/sportsbooks/logos/betrivers.png\",\"sortOrder\":260,\"isUnavailable\":false},{\"marketSourceId\":56,\"name\":\"YouWager\",\"logoUrl\":\"https://assets.unabated.com/sportsbooks/logos/youwager.png\",\"sortOrder\":270,\"isUnavailable\":false},{\"marketSourceId\":54,\"name\":\"SportsBetting\",\"logoUrl\":\"https://assets.unabated.com/sportsbooks/logos/sportsbetting.png\",\"sortOrder\":280,\"isUnavailable\":false},{\"marketSourceId\":55,\"name\":\"Intertops\",\"logoUrl\":\"https://assets.unabated.com/sportsbooks/logos/intertops.png\",\"sortOrder\":290,\"isUnavailable\":false},{\"marketSourceId\":52,\"name\":\"Matchbook\",\"logoUrl\":\"https://assets.unabated.com/sportsbooks/logos/matchbook.png\",\"sortOrder\":300,\"isUnavailable\":false},{\"marketSourceId\":51,\"name\":\"5Dimes\",\"logoUrl\":\"https://assets.unabated.com/sportsbooks/logos/5dimes.png\",\"sortOrder\":310,\"isUnavailable\":true},{\"marketSourceId\":21,\"name\":\"FoxBet\",\"logoUrl\":\"https://assets.unabated.com/sportsbooks/logos/foxbet.svg\",\"sortOrder\":1120,\"isUnavailable\":false},{\"marketSourceId\":26,\"name\":\"Resorts\",\"logoUrl\":\"https://assets.unabated.com/sportsbooks/logos/resorts.png\",\"sortOrder\":1220,\"isUnavailable\":true},{\"marketSourceId\":64,\"name\":\"Circa Pool\",\"logoUrl\":null,\"sortOrder\":10000,\"isUnavailable\":true},{\"marketSourceId\":63,\"name\":\"DraftKings Pool\",\"logoUrl\":null,\"sortOrder\":10010,\"isUnavailable\":true},{\"marketSourceId\":61,\"name\":\"OfficeFootballPool\",\"logoUrl\":null,\"sortOrder\":10020,\"isUnavailable\":true},{\"marketSourceId\":62,\"name\":\"RunYourPool\",\"logoUrl\":null,\"sortOrder\":10030,\"isUnavailable\":true},{\"marketSourceId\":65,\"name\":\"SuperContest Pool\",\"logoUrl\":null,\"sortOrder\":10040,\"isUnavailable\":true},{\"marketSourceId\":50,\"name\":\"Retail Consensus\",\"logoUrl\":null,\"sortOrder\":20000,\"isUnavailable\":true}],\"gridFilters\":null},\"futures\":{\"usingDefaults\":true,\"defaults\":[{\"marketSourceId\":49,\"name\":\"Unabated\",\"logoUrl\":\"https://assets.unabated.com/sportsbooks/logos/unabated_line.svg\",\"sortOrder\":10,\"isUnavailable\":true},{\"marketSourceId\":11,\"name\":\"DeckPrism\",\"logoUrl\":\"https://assets.unabated.com/sportsbooks/logos/deckprism.png\",\"sortOrder\":20,\"isUnavailable\":true},{\"marketSourceId\":8,\"name\":\"Bookmaker\",\"logoUrl\":\"https://assets.unabated.com/sportsbooks/logos/bookmaker.svg\",\"sortOrder\":30,\"isUnavailable\":true},{\"marketSourceId\":7,\"name\":\"Pinnacle\",\"logoUrl\":\"https://assets.unabated.com/sportsbooks/logos/pinnacle.svg\",\"sortOrder\":40,\"isUnavailable\":true},{\"marketSourceId\":58,\"name\":\"Pinnacle - Delayed\",\"logoUrl\":null,\"sortOrder\":50,\"isUnavailable\":true},{\"marketSourceId\":6,\"name\":\"Circa\",\"logoUrl\":\"https://assets.unabated.com/sportsbooks/logos/circa.svg\",\"sortOrder\":60,\"isUnavailable\":true},{\"marketSourceId\":67,\"name\":\"Sporttrade\",\"logoUrl\":\"https://assets.unabated.com/sportsbooks/logos/sporttrade.png\",\"sortOrder\":70,\"isUnavailable\":true},{\"marketSourceId\":66,\"name\":\"Prophet Exchange\",\"logoUrl\":\"https://assets.unabated.com/sportsbooks/logos/betprophet.png\",\"sortOrder\":80,\"isUnavailable\":true},{\"marketSourceId\":60,\"name\":\"theScore\",\"logoUrl\":\"https://assets.unabated.com/sportsbooks/logos/thescore.webp\",\"sortOrder\":90,\"isUnavailable\":true},{\"marketSourceId\":2,\"name\":\"FanDuel\",\"logoUrl\":\"https://assets.unabated.com/sportsbooks/logos/fan-duel.svg\",\"sortOrder\":110,\"isUnavailable\":false},{\"marketSourceId\":57,\"name\":\"FanDuel - Delayed\",\"logoUrl\":\"https://assets.unabated.com/sportsbooks/logos/fan-duel-delayed.png\",\"sortOrder\":120,\"isUnavailable\":true},{\"marketSourceId\":1,\"name\":\"DraftKings\",\"logoUrl\":\"https://assets.unabated.com/sportsbooks/logos/draft-kings.svg\",\"sortOrder\":130,\"isUnavailable\":false},{\"marketSourceId\":28,\"name\":\"SuperBook\",\"logoUrl\":\"https://assets.unabated.com/sportsbooks/logos/superbook.png\",\"sortOrder\":140,\"isUnavailable\":true},{\"marketSourceId\":4,\"name\":\"BetMGM\",\"logoUrl\":\"https://assets.unabated.com/sportsbooks/logos/bet-mgm.svg\",\"sortOrder\":150,\"isUnavailable\":false},{\"marketSourceId\":20,\"name\":\"Caesars\",\"logoUrl\":\"https://assets.unabated.com/sportsbooks/logos/caesars.svg\",\"sortOrder\":160,\"isUnavailable\":false},{\"marketSourceId\":3,\"name\":\"PointsBet\",\"logoUrl\":\"https://assets.unabated.com/sportsbooks/logos/points-bet.svg\",\"sortOrder\":170,\"isUnavailable\":false},{\"marketSourceId\":9,\"name\":\"BetOnline\",\"logoUrl\":\"https://assets.unabated.com/sportsbooks/logos/bet-online.svg\",\"sortOrder\":180,\"isUnavailable\":true},{\"marketSourceId\":10,\"name\":\"Bovada\",\"logoUrl\":\"https://assets.unabated.com/sportsbooks/logos/bovada.svg\",\"sortOrder\":190,\"isUnavailable\":true},{\"marketSourceId\":33,\"name\":\"WynnBet\",\"logoUrl\":\"https://assets.unabated.com/sportsbooks/logos/wynnbet.png\",\"sortOrder\":200,\"isUnavailable\":false},{\"marketSourceId\":59,\"name\":\"Buckeye\",\"logoUrl\":\"https://assets.unabated.com/sportsbooks/logos/buckeye.webp\",\"sortOrder\":210,\"isUnavailable\":true},{\"marketSourceId\":31,\"name\":\"Unibet\",\"logoUrl\":\"https://assets.unabated.com/sportsbooks/logos/unibet.svg\",\"sortOrder\":220,\"isUnavailable\":false},{\"marketSourceId\":53,\"name\":\"LowVig\",\"logoUrl\":\"https://assets.unabated.com/sportsbooks/logos/lowvig.png\",\"sortOrder\":230,\"isUnavailable\":true},{\"marketSourceId\":27,\"name\":\"Sugarhouse\",\"logoUrl\":\"https://assets.unabated.com/sportsbooks/logos/sugarhouse.svg\",\"sortOrder\":240,\"isUnavailable\":false},{\"marketSourceId\":13,\"name\":\"888sports\",\"logoUrl\":\"https://assets.unabated.com/sportsbooks/logos/888-sports.png\",\"sortOrder\":250,\"isUnavailable\":false},{\"marketSourceId\":17,\"name\":\"BetRivers\",\"logoUrl\":\"https://assets.unabated.com/sportsbooks/logos/betrivers.png\",\"sortOrder\":260,\"isUnavailable\":false},{\"marketSourceId\":56,\"name\":\"YouWager\",\"logoUrl\":\"https://assets.unabated.com/sportsbooks/logos/youwager.png\",\"sortOrder\":270,\"isUnavailable\":true},{\"marketSourceId\":54,\"name\":\"SportsBetting\",\"logoUrl\":\"https://assets.unabated.com/sportsbooks/logos/sportsbetting.png\",\"sortOrder\":280,\"isUnavailable\":true},{\"marketSourceId\":55,\"name\":\"Intertops\",\"logoUrl\":\"https://assets.unabated.com/sportsbooks/logos/intertops.png\",\"sortOrder\":290,\"isUnavailable\":true},{\"marketSourceId\":52,\"name\":\"Matchbook\",\"logoUrl\":\"https://assets.unabated.com/sportsbooks/logos/matchbook.png\",\"sortOrder\":300,\"isUnavailable\":true},{\"marketSourceId\":51,\"name\":\"5Dimes\",\"logoUrl\":\"https://assets.unabated.com/sportsbooks/logos/5dimes.png\",\"sortOrder\":310,\"isUnavailable\":true},{\"marketSourceId\":21,\"name\":\"FoxBet\",\"logoUrl\":\"https://assets.unabated.com/sportsbooks/logos/foxbet.svg\",\"sortOrder\":1120,\"isUnavailable\":true},{\"marketSourceId\":26,\"name\":\"Resorts\",\"logoUrl\":\"https://assets.unabated.com/sportsbooks/logos/resorts.png\",\"sortOrder\":1220,\"isUnavailable\":true},{\"marketSourceId\":64,\"name\":\"Circa Pool\",\"logoUrl\":null,\"sortOrder\":10000,\"isUnavailable\":true},{\"marketSourceId\":63,\"name\":\"DraftKings Pool\",\"logoUrl\":null,\"sortOrder\":10010,\"isUnavailable\":true},{\"marketSourceId\":61,\"name\":\"OfficeFootballPool\",\"logoUrl\":null,\"sortOrder\":10020,\"isUnavailable\":true},{\"marketSourceId\":62,\"name\":\"RunYourPool\",\"logoUrl\":null,\"sortOrder\":10030,\"isUnavailable\":true},{\"marketSourceId\":65,\"name\":\"SuperContest Pool\",\"logoUrl\":null,\"sortOrder\":10040,\"isUnavailable\":true},{\"marketSourceId\":50,\"name\":\"Retail Consensus\",\"logoUrl\":null,\"sortOrder\":20000,\"isUnavailable\":true}],\"marketSources\":[{\"marketSourceId\":49,\"name\":\"Unabated\",\"logoUrl\":\"https://assets.unabated.com/sportsbooks/logos/unabated_line.svg\",\"sortOrder\":10,\"isUnavailable\":true},{\"marketSourceId\":11,\"name\":\"DeckPrism\",\"logoUrl\":\"https://assets.unabated.com/sportsbooks/logos/deckprism.png\",\"sortOrder\":20,\"isUnavailable\":true},{\"marketSourceId\":8,\"name\":\"Bookmaker\",\"logoUrl\":\"https://assets.unabated.com/sportsbooks/logos/bookmaker.svg\",\"sortOrder\":30,\"isUnavailable\":true},{\"marketSourceId\":7,\"name\":\"Pinnacle\",\"logoUrl\":\"https://assets.unabated.com/sportsbooks/logos/pinnacle.svg\",\"sortOrder\":40,\"isUnavailable\":true},{\"marketSourceId\":58,\"name\":\"Pinnacle - Delayed\",\"logoUrl\":null,\"sortOrder\":50,\"isUnavailable\":true},{\"marketSourceId\":6,\"name\":\"Circa\",\"logoUrl\":\"https://assets.unabated.com/sportsbooks/logos/circa.svg\",\"sortOrder\":60,\"isUnavailable\":true},{\"marketSourceId\":67,\"name\":\"Sporttrade\",\"logoUrl\":\"https://assets.unabated.com/sportsbooks/logos/sporttrade.png\",\"sortOrder\":70,\"isUnavailable\":true},{\"marketSourceId\":66,\"name\":\"Prophet Exchange\",\"logoUrl\":\"https://assets.unabated.com/sportsbooks/logos/betprophet.png\",\"sortOrder\":80,\"isUnavailable\":true},{\"marketSourceId\":60,\"name\":\"theScore\",\"logoUrl\":\"https://assets.unabated.com/sportsbooks/logos/thescore.webp\",\"sortOrder\":90,\"isUnavailable\":true},{\"marketSourceId\":2,\"name\":\"FanDuel\",\"logoUrl\":\"https://assets.unabated.com/sportsbooks/logos/fan-duel.svg\",\"sortOrder\":110,\"isUnavailable\":false},{\"marketSourceId\":57,\"name\":\"FanDuel - Delayed\",\"logoUrl\":\"https://assets.unabated.com/sportsbooks/logos/fan-duel-delayed.png\",\"sortOrder\":120,\"isUnavailable\":true},{\"marketSourceId\":1,\"name\":\"DraftKings\",\"logoUrl\":\"https://assets.unabated.com/sportsbooks/logos/draft-kings.svg\",\"sortOrder\":130,\"isUnavailable\":false},{\"marketSourceId\":28,\"name\":\"SuperBook\",\"logoUrl\":\"https://assets.unabated.com/sportsbooks/logos/superbook.png\",\"sortOrder\":140,\"isUnavailable\":true},{\"marketSourceId\":4,\"name\":\"BetMGM\",\"logoUrl\":\"https://assets.unabated.com/sportsbooks/logos/bet-mgm.svg\",\"sortOrder\":150,\"isUnavailable\":false},{\"marketSourceId\":20,\"name\":\"Caesars\",\"logoUrl\":\"https://assets.unabated.com/sportsbooks/logos/caesars.svg\",\"sortOrder\":160,\"isUnavailable\":false},{\"marketSourceId\":3,\"name\":\"PointsBet\",\"logoUrl\":\"https://assets.unabated.com/sportsbooks/logos/points-bet.svg\",\"sortOrder\":170,\"isUnavailable\":false},{\"marketSourceId\":9,\"name\":\"BetOnline\",\"logoUrl\":\"https://assets.unabated.com/sportsbooks/logos/bet-online.svg\",\"sortOrder\":180,\"isUnavailable\":true},{\"marketSourceId\":10,\"name\":\"Bovada\",\"logoUrl\":\"https://assets.unabated.com/sportsbooks/logos/bovada.svg\",\"sortOrder\":190,\"isUnavailable\":true},{\"marketSourceId\":33,\"name\":\"WynnBet\",\"logoUrl\":\"https://assets.unabated.com/sportsbooks/logos/wynnbet.png\",\"sortOrder\":200,\"isUnavailable\":false},{\"marketSourceId\":59,\"name\":\"Buckeye\",\"logoUrl\":\"https://assets.unabated.com/sportsbooks/logos/buckeye.webp\",\"sortOrder\":210,\"isUnavailable\":true},{\"marketSourceId\":31,\"name\":\"Unibet\",\"logoUrl\":\"https://assets.unabated.com/sportsbooks/logos/unibet.svg\",\"sortOrder\":220,\"isUnavailable\":false},{\"marketSourceId\":53,\"name\":\"LowVig\",\"logoUrl\":\"https://assets.unabated.com/sportsbooks/logos/lowvig.png\",\"sortOrder\":230,\"isUnavailable\":true},{\"marketSourceId\":27,\"name\":\"Sugarhouse\",\"logoUrl\":\"https://assets.unabated.com/sportsbooks/logos/sugarhouse.svg\",\"sortOrder\":240,\"isUnavailable\":false},{\"marketSourceId\":13,\"name\":\"888sports\",\"logoUrl\":\"https://assets.unabated.com/sportsbooks/logos/888-sports.png\",\"sortOrder\":250,\"isUnavailable\":false},{\"marketSourceId\":17,\"name\":\"BetRivers\",\"logoUrl\":\"https://assets.unabated.com/sportsbooks/logos/betrivers.png\",\"sortOrder\":260,\"isUnavailable\":false},{\"marketSourceId\":56,\"name\":\"YouWager\",\"logoUrl\":\"https://assets.unabated.com/sportsbooks/logos/youwager.png\",\"sortOrder\":270,\"isUnavailable\":true},{\"marketSourceId\":54,\"name\":\"SportsBetting\",\"logoUrl\":\"https://assets.unabated.com/sportsbooks/logos/sportsbetting.png\",\"sortOrder\":280,\"isUnavailable\":true},{\"marketSourceId\":55,\"name\":\"Intertops\",\"logoUrl\":\"https://assets.unabated.com/sportsbooks/logos/intertops.png\",\"sortOrder\":290,\"isUnavailable\":true},{\"marketSourceId\":52,\"name\":\"Matchbook\",\"logoUrl\":\"https://assets.unabated.com/sportsbooks/logos/matchbook.png\",\"sortOrder\":300,\"isUnavailable\":true},{\"marketSourceId\":51,\"name\":\"5Dimes\",\"logoUrl\":\"https://assets.unabated.com/sportsbooks/logos/5dimes.png\",\"sortOrder\":310,\"isUnavailable\":true},{\"marketSourceId\":21,\"name\":\"FoxBet\",\"logoUrl\":\"https://assets.unabated.com/sportsbooks/logos/foxbet.svg\",\"sortOrder\":1120,\"isUnavailable\":true},{\"marketSourceId\":26,\"name\":\"Resorts\",\"logoUrl\":\"https://assets.unabated.com/sportsbooks/logos/resorts.png\",\"sortOrder\":1220,\"isUnavailable\":true},{\"marketSourceId\":64,\"name\":\"Circa Pool\",\"logoUrl\":null,\"sortOrder\":10000,\"isUnavailable\":true},{\"marketSourceId\":63,\"name\":\"DraftKings Pool\",\"logoUrl\":null,\"sortOrder\":10010,\"isUnavailable\":true},{\"marketSourceId\":61,\"name\":\"OfficeFootballPool\",\"logoUrl\":null,\"sortOrder\":10020,\"isUnavailable\":true},{\"marketSourceId\":62,\"name\":\"RunYourPool\",\"logoUrl\":null,\"sortOrder\":10030,\"isUnavailable\":true},{\"marketSourceId\":65,\"name\":\"SuperContest Pool\",\"logoUrl\":null,\"sortOrder\":10040,\"isUnavailable\":true},{\"marketSourceId\":50,\"name\":\"Retail Consensus\",\"logoUrl\":null,\"sortOrder\":20000,\"isUnavailable\":true}]},\"props\":{\"usingDefaults\":true,\"defaults\":[{\"marketSourceId\":49,\"name\":\"Unabated\",\"logoUrl\":\"https://assets.unabated.com/sportsbooks/logos/unabated_line.svg\",\"sortOrder\":10,\"isUnavailable\":true},{\"marketSourceId\":11,\"name\":\"DeckPrism\",\"logoUrl\":\"https://assets.unabated.com/sportsbooks/logos/deckprism.png\",\"sortOrder\":20,\"isUnavailable\":true},{\"marketSourceId\":8,\"name\":\"Bookmaker\",\"logoUrl\":\"https://assets.unabated.com/sportsbooks/logos/bookmaker.svg\",\"sortOrder\":30,\"isUnavailable\":true},{\"marketSourceId\":7,\"name\":\"Pinnacle\",\"logoUrl\":\"https://assets.unabated.com/sportsbooks/logos/pinnacle.svg\",\"sortOrder\":40,\"isUnavailable\":true},{\"marketSourceId\":58,\"name\":\"Pinnacle - Delayed\",\"logoUrl\":null,\"sortOrder\":50,\"isUnavailable\":true},{\"marketSourceId\":6,\"name\":\"Circa\",\"logoUrl\":\"https://assets.unabated.com/sportsbooks/logos/circa.svg\",\"sortOrder\":60,\"isUnavailable\":true},{\"marketSourceId\":67,\"name\":\"Sporttrade\",\"logoUrl\":\"https://assets.unabated.com/sportsbooks/logos/sporttrade.png\",\"sortOrder\":70,\"isUnavailable\":true},{\"marketSourceId\":66,\"name\":\"Prophet Exchange\",\"logoUrl\":\"https://assets.unabated.com/sportsbooks/logos/betprophet.png\",\"sortOrder\":80,\"isUnavailable\":true},{\"marketSourceId\":60,\"name\":\"theScore\",\"logoUrl\":\"https://assets.unabated.com/sportsbooks/logos/thescore.webp\",\"sortOrder\":90,\"isUnavailable\":true},{\"marketSourceId\":2,\"name\":\"FanDuel\",\"logoUrl\":\"https://assets.unabated.com/sportsbooks/logos/fan-duel.svg\",\"sortOrder\":110,\"isUnavailable\":false},{\"marketSourceId\":57,\"name\":\"FanDuel - Delayed\",\"logoUrl\":\"https://assets.unabated.com/sportsbooks/logos/fan-duel-delayed.png\",\"sortOrder\":120,\"isUnavailable\":true},{\"marketSourceId\":1,\"name\":\"DraftKings\",\"logoUrl\":\"https://assets.unabated.com/sportsbooks/logos/draft-kings.svg\",\"sortOrder\":130,\"isUnavailable\":false},{\"marketSourceId\":28,\"name\":\"SuperBook\",\"logoUrl\":\"https://assets.unabated.com/sportsbooks/logos/superbook.png\",\"sortOrder\":140,\"isUnavailable\":true},{\"marketSourceId\":4,\"name\":\"BetMGM\",\"logoUrl\":\"https://assets.unabated.com/sportsbooks/logos/bet-mgm.svg\",\"sortOrder\":150,\"isUnavailable\":false},{\"marketSourceId\":20,\"name\":\"Caesars\",\"logoUrl\":\"https://assets.unabated.com/sportsbooks/logos/caesars.svg\",\"sortOrder\":160,\"isUnavailable\":false},{\"marketSourceId\":3,\"name\":\"PointsBet\",\"logoUrl\":\"https://assets.unabated.com/sportsbooks/logos/points-bet.svg\",\"sortOrder\":170,\"isUnavailable\":false},{\"marketSourceId\":9,\"name\":\"BetOnline\",\"logoUrl\":\"https://assets.unabated.com/sportsbooks/logos/bet-online.svg\",\"sortOrder\":180,\"isUnavailable\":true},{\"marketSourceId\":10,\"name\":\"Bovada\",\"logoUrl\":\"https://assets.unabated.com/sportsbooks/logos/bovada.svg\",\"sortOrder\":190,\"isUnavailable\":true},{\"marketSourceId\":33,\"name\":\"WynnBet\",\"logoUrl\":\"https://assets.unabated.com/sportsbooks/logos/wynnbet.png\",\"sortOrder\":200,\"isUnavailable\":true},{\"marketSourceId\":59,\"name\":\"Buckeye\",\"logoUrl\":\"https://assets.unabated.com/sportsbooks/logos/buckeye.webp\",\"sortOrder\":210,\"isUnavailable\":true},{\"marketSourceId\":31,\"name\":\"Unibet\",\"logoUrl\":\"https://assets.unabated.com/sportsbooks/logos/unibet.svg\",\"sortOrder\":220,\"isUnavailable\":false},{\"marketSourceId\":53,\"name\":\"LowVig\",\"logoUrl\":\"https://assets.unabated.com/sportsbooks/logos/lowvig.png\",\"sortOrder\":230,\"isUnavailable\":true},{\"marketSourceId\":27,\"name\":\"Sugarhouse\",\"logoUrl\":\"https://assets.unabated.com/sportsbooks/logos/sugarhouse.svg\",\"sortOrder\":240,\"isUnavailable\":false},{\"marketSourceId\":13,\"name\":\"888sports\",\"logoUrl\":\"https://assets.unabated.com/sportsbooks/logos/888-sports.png\",\"sortOrder\":250,\"isUnavailable\":false},{\"marketSourceId\":17,\"name\":\"BetRivers\",\"logoUrl\":\"https://assets.unabated.com/sportsbooks/logos/betrivers.png\",\"sortOrder\":260,\"isUnavailable\":false},{\"marketSourceId\":56,\"name\":\"YouWager\",\"logoUrl\":\"https://assets.unabated.com/sportsbooks/logos/youwager.png\",\"sortOrder\":270,\"isUnavailable\":true},{\"marketSourceId\":54,\"name\":\"SportsBetting\",\"logoUrl\":\"https://assets.unabated.com/sportsbooks/logos/sportsbetting.png\",\"sortOrder\":280,\"isUnavailable\":true},{\"marketSourceId\":55,\"name\":\"Intertops\",\"logoUrl\":\"https://assets.unabated.com/sportsbooks/logos/intertops.png\",\"sortOrder\":290,\"isUnavailable\":true},{\"marketSourceId\":52,\"name\":\"Matchbook\",\"logoUrl\":\"https://assets.unabated.com/sportsbooks/logos/matchbook.png\",\"sortOrder\":300,\"isUnavailable\":true},{\"marketSourceId\":51,\"name\":\"5Dimes\",\"logoUrl\":\"https://assets.unabated.com/sportsbooks/logos/5dimes.png\",\"sortOrder\":310,\"isUnavailable\":true},{\"marketSourceId\":21,\"name\":\"FoxBet\",\"logoUrl\":\"https://assets.unabated.com/sportsbooks/logos/foxbet.svg\",\"sortOrder\":1120,\"isUnavailable\":true},{\"marketSourceId\":26,\"name\":\"Resorts\",\"logoUrl\":\"https://assets.unabated.com/sportsbooks/logos/resorts.png\",\"sortOrder\":1220,\"isUnavailable\":true},{\"marketSourceId\":64,\"name\":\"Circa Pool\",\"logoUrl\":null,\"sortOrder\":10000,\"isUnavailable\":true},{\"marketSourceId\":63,\"name\":\"DraftKings Pool\",\"logoUrl\":null,\"sortOrder\":10010,\"isUnavailable\":true},{\"marketSourceId\":61,\"name\":\"OfficeFootballPool\",\"logoUrl\":null,\"sortOrder\":10020,\"isUnavailable\":true},{\"marketSourceId\":62,\"name\":\"RunYourPool\",\"logoUrl\":null,\"sortOrder\":10030,\"isUnavailable\":true},{\"marketSourceId\":65,\"name\":\"SuperContest Pool\",\"logoUrl\":null,\"sortOrder\":10040,\"isUnavailable\":true},{\"marketSourceId\":50,\"name\":\"Retail Consensus\",\"logoUrl\":null,\"sortOrder\":20000,\"isUnavailable\":true}],\"marketSources\":[{\"marketSourceId\":49,\"name\":\"Unabated\",\"logoUrl\":\"https://assets.unabated.com/sportsbooks/logos/unabated_line.svg\",\"sortOrder\":10,\"isUnavailable\":true},{\"marketSourceId\":11,\"name\":\"DeckPrism\",\"logoUrl\":\"https://assets.unabated.com/sportsbooks/logos/deckprism.png\",\"sortOrder\":20,\"isUnavailable\":true},{\"marketSourceId\":8,\"name\":\"Bookmaker\",\"logoUrl\":\"https://assets.unabated.com/sportsbooks/logos/bookmaker.svg\",\"sortOrder\":30,\"isUnavailable\":true},{\"marketSourceId\":7,\"name\":\"Pinnacle\",\"logoUrl\":\"https://assets.unabated.com/sportsbooks/logos/pinnacle.svg\",\"sortOrder\":40,\"isUnavailable\":true},{\"marketSourceId\":58,\"name\":\"Pinnacle - Delayed\",\"logoUrl\":null,\"sortOrder\":50,\"isUnavailable\":true},{\"marketSourceId\":6,\"name\":\"Circa\",\"logoUrl\":\"https://assets.unabated.com/sportsbooks/logos/circa.svg\",\"sortOrder\":60,\"isUnavailable\":true},{\"marketSourceId\":67,\"name\":\"Sporttrade\",\"logoUrl\":\"https://assets.unabated.com/sportsbooks/logos/sporttrade.png\",\"sortOrder\":70,\"isUnavailable\":true},{\"marketSourceId\":66,\"name\":\"Prophet Exchange\",\"logoUrl\":\"https://assets.unabated.com/sportsbooks/logos/betprophet.png\",\"sortOrder\":80,\"isUnavailable\":true},{\"marketSourceId\":60,\"name\":\"theScore\",\"logoUrl\":\"https://assets.unabated.com/sportsbooks/logos/thescore.webp\",\"sortOrder\":90,\"isUnavailable\":true},{\"marketSourceId\":2,\"name\":\"FanDuel\",\"logoUrl\":\"https://assets.unabated.com/sportsbooks/logos/fan-duel.svg\",\"sortOrder\":110,\"isUnavailable\":false},{\"marketSourceId\":57,\"name\":\"FanDuel - Delayed\",\"logoUrl\":\"https://assets.unabated.com/sportsbooks/logos/fan-duel-delayed.png\",\"sortOrder\":120,\"isUnavailable\":true},{\"marketSourceId\":1,\"name\":\"DraftKings\",\"logoUrl\":\"https://assets.unabated.com/sportsbooks/logos/draft-kings.svg\",\"sortOrder\":130,\"isUnavailable\":false},{\"marketSourceId\":28,\"name\":\"SuperBook\",\"logoUrl\":\"https://assets.unabated.com/sportsbooks/logos/superbook.png\",\"sortOrder\":140,\"isUnavailable\":true},{\"marketSourceId\":4,\"name\":\"BetMGM\",\"logoUrl\":\"https://assets.unabated.com/sportsbooks/logos/bet-mgm.svg\",\"sortOrder\":150,\"isUnavailable\":false},{\"marketSourceId\":20,\"name\":\"Caesars\",\"logoUrl\":\"https://assets.unabated.com/sportsbooks/logos/caesars.svg\",\"sortOrder\":160,\"isUnavailable\":false},{\"marketSourceId\":3,\"name\":\"PointsBet\",\"logoUrl\":\"https://assets.unabated.com/sportsbooks/logos/points-bet.svg\",\"sortOrder\":170,\"isUnavailable\":false},{\"marketSourceId\":9,\"name\":\"BetOnline\",\"logoUrl\":\"https://assets.unabated.com/sportsbooks/logos/bet-online.svg\",\"sortOrder\":180,\"isUnavailable\":true},{\"marketSourceId\":10,\"name\":\"Bovada\",\"logoUrl\":\"https://assets.unabated.com/sportsbooks/logos/bovada.svg\",\"sortOrder\":190,\"isUnavailable\":true},{\"marketSourceId\":33,\"name\":\"WynnBet\",\"logoUrl\":\"https://assets.unabated.com/sportsbooks/logos/wynnbet.png\",\"sortOrder\":200,\"isUnavailable\":true},{\"marketSourceId\":59,\"name\":\"Buckeye\",\"logoUrl\":\"https://assets.unabated.com/sportsbooks/logos/buckeye.webp\",\"sortOrder\":210,\"isUnavailable\":true},{\"marketSourceId\":31,\"name\":\"Unibet\",\"logoUrl\":\"https://assets.unabated.com/sportsbooks/logos/unibet.svg\",\"sortOrder\":220,\"isUnavailable\":false},{\"marketSourceId\":53,\"name\":\"LowVig\",\"logoUrl\":\"https://assets.unabated.com/sportsbooks/logos/lowvig.png\",\"sortOrder\":230,\"isUnavailable\":true},{\"marketSourceId\":27,\"name\":\"Sugarhouse\",\"logoUrl\":\"https://assets.unabated.com/sportsbooks/logos/sugarhouse.svg\",\"sortOrder\":240,\"isUnavailable\":false},{\"marketSourceId\":13,\"name\":\"888sports\",\"logoUrl\":\"https://assets.unabated.com/sportsbooks/logos/888-sports.png\",\"sortOrder\":250,\"isUnavailable\":false},{\"marketSourceId\":17,\"name\":\"BetRivers\",\"logoUrl\":\"https://assets.unabated.com/sportsbooks/logos/betrivers.png\",\"sortOrder\":260,\"isUnavailable\":false},{\"marketSourceId\":56,\"name\":\"YouWager\",\"logoUrl\":\"https://assets.unabated.com/sportsbooks/logos/youwager.png\",\"sortOrder\":270,\"isUnavailable\":true},{\"marketSourceId\":54,\"name\":\"SportsBetting\",\"logoUrl\":\"https://assets.unabated.com/sportsbooks/logos/sportsbetting.png\",\"sortOrder\":280,\"isUnavailable\":true},{\"marketSourceId\":55,\"name\":\"Intertops\",\"logoUrl\":\"https://assets.unabated.com/sportsbooks/logos/intertops.png\",\"sortOrder\":290,\"isUnavailable\":true},{\"marketSourceId\":52,\"name\":\"Matchbook\",\"logoUrl\":\"https://assets.unabated.com/sportsbooks/logos/matchbook.png\",\"sortOrder\":300,\"isUnavailable\":true},{\"marketSourceId\":51,\"name\":\"5Dimes\",\"logoUrl\":\"https://assets.unabated.com/sportsbooks/logos/5dimes.png\",\"sortOrder\":310,\"isUnavailable\":true},{\"marketSourceId\":21,\"name\":\"FoxBet\",\"logoUrl\":\"https://assets.unabated.com/sportsbooks/logos/foxbet.svg\",\"sortOrder\":1120,\"isUnavailable\":true},{\"marketSourceId\":26,\"name\":\"Resorts\",\"logoUrl\":\"https://assets.unabated.com/sportsbooks/logos/resorts.png\",\"sortOrder\":1220,\"isUnavailable\":true},{\"marketSourceId\":64,\"name\":\"Circa Pool\",\"logoUrl\":null,\"sortOrder\":10000,\"isUnavailable\":true},{\"marketSourceId\":63,\"name\":\"DraftKings Pool\",\"logoUrl\":null,\"sortOrder\":10010,\"isUnavailable\":true},{\"marketSourceId\":61,\"name\":\"OfficeFootballPool\",\"logoUrl\":null,\"sortOrder\":10020,\"isUnavailable\":true},{\"marketSourceId\":62,\"name\":\"RunYourPool\",\"logoUrl\":null,\"sortOrder\":10030,\"isUnavailable\":true},{\"marketSourceId\":65,\"name\":\"SuperContest Pool\",\"logoUrl\":null,\"sortOrder\":10040,\"isUnavailable\":true},{\"marketSourceId\":50,\"name\":\"Retail Consensus\",\"logoUrl\":null,\"sortOrder\":20000,\"isUnavailable\":true}],\"gridFilters\":null}}},\"__N_SSP\":true},\"page\":\"/[slug]/odds\",\"query\":{\"slug\":\"nhl\"},\"buildId\":\"pIVqlFQmfv9ghOYAC2f4q\",\"assetPrefix\":\"https://static.unabated.com/c54e8b622322d8f896246a96622f53042b7f7666\",\"isFallback\":false,\"gssp\":true}</script><script nomodule=\"\" src=\"https://static.unabated.com/c54e8b622322d8f896246a96622f53042b7f7666/_next/static/chunks/polyfills-6e054d56079d4b93ebe8.js\"></script><script src=\"https://static.unabated.com/c54e8b622322d8f896246a96622f53042b7f7666/_next/static/chunks/webpack-9ef94e3ac114d5ff6133.js\" async=\"\"></script><script src=\"https://static.unabated.com/c54e8b622322d8f896246a96622f53042b7f7666/_next/static/chunks/framework-619ce4ebc706d40ca8f3.js\" async=\"\"></script><script src=\"https://static.unabated.com/c54e8b622322d8f896246a96622f53042b7f7666/_next/static/chunks/main-24fdb317eca52bf2f7b5.js\" async=\"\"></script><script src=\"https://static.unabated.com/c54e8b622322d8f896246a96622f53042b7f7666/_next/static/chunks/pages/_app-e10d475ef1595ff88f3b.js\" async=\"\"></script><script src=\"https://static.unabated.com/c54e8b622322d8f896246a96622f53042b7f7666/_next/static/chunks/cb1608f2-b003e51a0bf002503d86.js\" async=\"\"></script><script src=\"https://static.unabated.com/c54e8b622322d8f896246a96622f53042b7f7666/_next/static/chunks/4071505a-af24f9d6fd61014827d2.js\" async=\"\"></script><script src=\"https://static.unabated.com/c54e8b622322d8f896246a96622f53042b7f7666/_next/static/chunks/29107295-a36037e5ea1af0472eba.js\" async=\"\"></script><script src=\"https://static.unabated.com/c54e8b622322d8f896246a96622f53042b7f7666/_next/static/chunks/75fc9c18-5f9e88d02b7fe80f33f9.js\" async=\"\"></script><script src=\"https://static.unabated.com/c54e8b622322d8f896246a96622f53042b7f7666/_next/static/chunks/5913-075e5e2a5b5537d34191.js\" async=\"\"></script><script src=\"https://static.unabated.com/c54e8b622322d8f896246a96622f53042b7f7666/_next/static/chunks/191-c2f24fae12d11bb861c8.js\" async=\"\"></script><script src=\"https://static.unabated.com/c54e8b622322d8f896246a96622f53042b7f7666/_next/static/chunks/7287-dea46a6f9ddb94af0ff4.js\" async=\"\"></script><script src=\"https://static.unabated.com/c54e8b622322d8f896246a96622f53042b7f7666/_next/static/chunks/3036-efcf0db6a11d3f5ed1d4.js\" async=\"\"></script><script src=\"https://static.unabated.com/c54e8b622322d8f896246a96622f53042b7f7666/_next/static/chunks/2516-89a2b60c1868e50a655a.js\" async=\"\"></script><script src=\"https://static.unabated.com/c54e8b622322d8f896246a96622f53042b7f7666/_next/static/chunks/4118-b4bafebae16c63270cae.js\" async=\"\"></script><script src=\"https://static.unabated.com/c54e8b622322d8f896246a96622f53042b7f7666/_next/static/chunks/6750-01070914444cf17bbe4e.js\" async=\"\"></script><script src=\"https://static.unabated.com/c54e8b622322d8f896246a96622f53042b7f7666/_next/static/chunks/2838-254ec8f2f050a7e2697b.js\" async=\"\"></script><script src=\"https://static.unabated.com/c54e8b622322d8f896246a96622f53042b7f7666/_next/static/chunks/8156-5429cb13491c8fdbba2a.js\" async=\"\"></script><script src=\"https://static.unabated.com/c54e8b622322d8f896246a96622f53042b7f7666/_next/static/chunks/5587-9be581846db26132fd33.js\" async=\"\"></script><script src=\"https://static.unabated.com/c54e8b622322d8f896246a96622f53042b7f7666/_next/static/chunks/4253-8c32c65742a5f71b8be4.js\" async=\"\"></script><script src=\"https://static.unabated.com/c54e8b622322d8f896246a96622f53042b7f7666/_next/static/chunks/4612-ec408125128bb2a4e367.js\" async=\"\"></script><script src=\"https://static.unabated.com/c54e8b622322d8f896246a96622f53042b7f7666/_next/static/chunks/3294-d7ddb0b5620e4f690104.js\" async=\"\"></script><script src=\"https://static.unabated.com/c54e8b622322d8f896246a96622f53042b7f7666/_next/static/chunks/pages/%5Bslug%5D/odds-27a2d8169e7e23cf9e0e.js\" async=\"\"></script><script src=\"https://static.unabated.com/c54e8b622322d8f896246a96622f53042b7f7666/_next/static/pIVqlFQmfv9ghOYAC2f4q/_buildManifest.js\" async=\"\"></script><script src=\"https://static.unabated.com/c54e8b622322d8f896246a96622f53042b7f7666/_next/static/pIVqlFQmfv9ghOYAC2f4q/_ssgManifest.js\" async=\"\"></script></body></html>\n"
     ]
    }
   ],
   "source": [
    "# THIS IS WORKING\n",
    "# This reference website  https://realpython.com/beautiful-soup-web-scraper-python/#step-1-inspect-your-data-source\n",
    "\n",
    "\n",
    "import requests\n",
    "\n",
    "url= \"https://unabated.com/nhl/odds\"\n",
    "page = requests.get(url)\n",
    "\n",
    "print(page.text)"
   ]
  },
  {
   "cell_type": "code",
   "execution_count": null,
   "metadata": {},
   "outputs": [
    {
     "name": "stdout",
     "output_type": "stream",
     "text": [
      "Requirement already satisfied: beautifulsoup4 in c:\\users\\aaron moore\\anaconda3\\lib\\site-packages (4.11.1)\n",
      "Requirement already satisfied: soupsieve>1.2 in c:\\users\\aaron moore\\anaconda3\\lib\\site-packages (from beautifulsoup4) (2.3.1)\n",
      "Note: you may need to restart the kernel to use updated packages.\n"
     ]
    }
   ],
   "source": [
    "pip install beautifulsoup4"
   ]
  },
  {
   "cell_type": "code",
   "execution_count": 13,
   "metadata": {},
   "outputs": [],
   "source": [
    "#unabated\n",
    "#beautifulsoup4\n",
    "\n",
    "import requests\n",
    "from bs4 import BeautifulSoup\n",
    "\n",
    "url= \"https://unabated.com/nhl/odds\"\n",
    "page = requests.get(url)\n",
    "\n",
    "soup= BeautifulSoup(page.content, \"html.parser\")"
   ]
  },
  {
   "cell_type": "code",
   "execution_count": 14,
   "metadata": {},
   "outputs": [],
   "source": [
    "#the parent of the tables <div>\n",
    "results= soup.find(id=\"__next\")"
   ]
  },
  {
   "cell_type": "code",
   "execution_count": null,
   "metadata": {},
   "outputs": [
    {
     "name": "stdout",
     "output_type": "stream",
     "text": [
      "<div id=\"__next\">\n",
      " <div class=\"d-flex flex-column public-page h-100 bg-dark\">\n",
      "  <nav class=\"navbar-glass fs--1 font-weight-semi-bold pl-4 pr-2 navbar navbar-expand-lg navbar-light fixed-top\" style=\"height:50px\">\n",
      "   <div class=\"toggle-icon-wrapper mr-md-3 mr-2 d-lg-none\">\n",
      "    <button class=\"navbar-toggler-humburger-icon btn btn-link d-flex flex-center\" id=\"burgerMenu\" type=\"button\">\n",
      "     <span class=\"navbar-toggle-icon\">\n",
      "      <span class=\"toggle-line\">\n",
      "      </span>\n",
      "     </span>\n",
      "    </button>\n",
      "   </div>\n",
      "   <a class=\"navbar-brand\" href=\"/\">\n",
      "    <div class=\"mr-auto\">\n",
      "     <div class=\"d-flex align-items-center\">\n",
      "      <img alt=\"Logo\" class=\"logoLarge-0-2-2\" height=\"30\" loading=\"lazy\" src=\"/images/unabated-logo-sm.png\"/>\n",
      "      <img alt=\"Logo\" class=\"logoSmall-0-2-1\" height=\"30\" loading=\"lazy\" src=\"/images/unabated-logo-lg.png\"/>\n",
      "     </div>\n",
      "    </div>\n",
      "   </a>\n",
      "  </nav>\n",
      "  <div class=\"container-fluid p-0\" style=\"margin-top:50px;height:calc(100% - 54px)\">\n",
      "   <div class=\"content pt-0 h-100\">\n",
      "    <div class=\"mt-1 d-flex flex-column h-100\" style=\"margin:auto\">\n",
      "     <div>\n",
      "     </div>\n",
      "     <div class=\"d-flex flex-column flex-grow-1\">\n",
      "      <nav class=\"navbar navbar-expand-md bg-dark navbar-dark light p-0\">\n",
      "       <div class=\"d-flex flex-wrap w-100\">\n",
      "        <div class=\"mr-2 dropdown\">\n",
      "         <button aria-expanded=\"false\" aria-haspopup=\"true\" class=\"btn-sm btn-falcon-primary dropdown-toggle btn btn-secondary\" type=\"button\">\n",
      "          <svg aria-hidden=\"true\" class=\"svg-inline--fa fa-hockey-puck fa-w-16 mr-2 mr-2\" data-icon=\"hockey-puck\" data-prefix=\"fas\" focusable=\"false\" role=\"img\" viewbox=\"0 0 512 512\" xmlns=\"http://www.w3.org/2000/svg\">\n",
      "           <path d=\"M0 160c0-53 114.6-96 256-96s256 43 256 96-114.6 96-256 96S0 213 0 160zm0 82.2V352c0 53 114.6 96 256 96s256-43 256-96V242.2c-113.4 82.3-398.5 82.4-512 0z\" fill=\"currentColor\">\n",
      "           </path>\n",
      "          </svg>\n",
      "          NHL\n",
      "         </button>\n",
      "         <div aria-hidden=\"true\" class=\"mr-2 dropdown-menu\" role=\"menu\" tabindex=\"-1\">\n",
      "          <button class=\"p-0 text-nowrap d-flex flex-column align-items-start d-lg-block dropdown-item\" color=\"primary\" role=\"menuitem\" tabindex=\"0\" type=\"button\">\n",
      "           <a href=\"/nfl/odds\" role=\"link\" style=\"display:flex;width:100%;height:30px;align-items:center;padding:1rem;text-decoration:none;color:inherit\" tabindex=\"0\">\n",
      "            <svg aria-hidden=\"true\" class=\"svg-inline--fa fa-football-ball fa-w-16\" data-icon=\"football-ball\" data-prefix=\"fas\" focusable=\"false\" role=\"img\" viewbox=\"0 0 496 512\" xmlns=\"http://www.w3.org/2000/svg\">\n",
      "             <path d=\"M481.5 60.3c-4.8-18.2-19.1-32.5-37.3-37.4C420.3 16.5 383 8.9 339.4 8L496 164.8c-.8-43.5-8.2-80.6-14.5-104.5zm-467 391.4c4.8 18.2 19.1 32.5 37.3 37.4 23.9 6.4 61.2 14 104.8 14.9L0 347.2c.8 43.5 8.2 80.6 14.5 104.5zM4.2 283.4L220.4 500c132.5-19.4 248.8-118.7 271.5-271.4L275.6 12C143.1 31.4 26.8 130.7 4.2 283.4zm317.3-123.6c3.1-3.1 8.2-3.1 11.3 0l11.3 11.3c3.1 3.1 3.1 8.2 0 11.3l-28.3 28.3 28.3 28.3c3.1 3.1 3.1 8.2 0 11.3l-11.3 11.3c-3.1 3.1-8.2 3.1-11.3 0l-28.3-28.3-22.6 22.7 28.3 28.3c3.1 3.1 3.1 8.2 0 11.3l-11.3 11.3c-3.1 3.1-8.2 3.1-11.3 0L248 278.6l-22.6 22.6 28.3 28.3c3.1 3.1 3.1 8.2 0 11.3l-11.3 11.3c-3.1 3.1-8.2 3.1-11.3 0l-28.3-28.3-28.3 28.3c-3.1 3.1-8.2 3.1-11.3 0l-11.3-11.3c-3.1-3.1-3.1-8.2 0-11.3l28.3-28.3-28.3-28.2c-3.1-3.1-3.1-8.2 0-11.3l11.3-11.3c3.1-3.1 8.2-3.1 11.3 0l28.3 28.3 22.6-22.6-28.3-28.3c-3.1-3.1-3.1-8.2 0-11.3l11.3-11.3c3.1-3.1 8.2-3.1 11.3 0l28.3 28.3 22.6-22.6-28.3-28.3c-3.1-3.1-3.1-8.2 0-11.3l11.3-11.3c3.1-3.1 8.2-3.1 11.3 0l28.3 28.3 28.3-28.5z\" fill=\"currentColor\">\n",
      "             </path>\n",
      "            </svg>\n",
      "            <span class=\"ml-lg-2 ml-1\">\n",
      "             NFL\n",
      "            </span>\n",
      "           </a>\n",
      "          </button>\n",
      "          <button class=\"p-0 text-nowrap d-flex flex-column align-items-start d-lg-block dropdown-item\" color=\"primary\" role=\"menuitem\" tabindex=\"0\" type=\"button\">\n",
      "           <a href=\"/cfb/odds\" role=\"link\" style=\"display:flex;width:100%;height:30px;align-items:center;padding:1rem;text-decoration:none;color:inherit\" tabindex=\"0\">\n",
      "            <svg aria-hidden=\"true\" class=\"svg-inline--fa fa-football-ball fa-w-16\" data-icon=\"football-ball\" data-prefix=\"fas\" focusable=\"false\" role=\"img\" viewbox=\"0 0 496 512\" xmlns=\"http://www.w3.org/2000/svg\">\n",
      "             <path d=\"M481.5 60.3c-4.8-18.2-19.1-32.5-37.3-37.4C420.3 16.5 383 8.9 339.4 8L496 164.8c-.8-43.5-8.2-80.6-14.5-104.5zm-467 391.4c4.8 18.2 19.1 32.5 37.3 37.4 23.9 6.4 61.2 14 104.8 14.9L0 347.2c.8 43.5 8.2 80.6 14.5 104.5zM4.2 283.4L220.4 500c132.5-19.4 248.8-118.7 271.5-271.4L275.6 12C143.1 31.4 26.8 130.7 4.2 283.4zm317.3-123.6c3.1-3.1 8.2-3.1 11.3 0l11.3 11.3c3.1 3.1 3.1 8.2 0 11.3l-28.3 28.3 28.3 28.3c3.1 3.1 3.1 8.2 0 11.3l-11.3 11.3c-3.1 3.1-8.2 3.1-11.3 0l-28.3-28.3-22.6 22.7 28.3 28.3c3.1 3.1 3.1 8.2 0 11.3l-11.3 11.3c-3.1 3.1-8.2 3.1-11.3 0L248 278.6l-22.6 22.6 28.3 28.3c3.1 3.1 3.1 8.2 0 11.3l-11.3 11.3c-3.1 3.1-8.2 3.1-11.3 0l-28.3-28.3-28.3 28.3c-3.1 3.1-8.2 3.1-11.3 0l-11.3-11.3c-3.1-3.1-3.1-8.2 0-11.3l28.3-28.3-28.3-28.2c-3.1-3.1-3.1-8.2 0-11.3l11.3-11.3c3.1-3.1 8.2-3.1 11.3 0l28.3 28.3 22.6-22.6-28.3-28.3c-3.1-3.1-3.1-8.2 0-11.3l11.3-11.3c3.1-3.1 8.2-3.1 11.3 0l28.3 28.3 22.6-22.6-28.3-28.3c-3.1-3.1-3.1-8.2 0-11.3l11.3-11.3c3.1-3.1 8.2-3.1 11.3 0l28.3 28.3 28.3-28.5z\" fill=\"currentColor\">\n",
      "             </path>\n",
      "            </svg>\n",
      "            <span class=\"ml-lg-2 ml-1\">\n",
      "             CFB\n",
      "            </span>\n",
      "           </a>\n",
      "          </button>\n",
      "          <button class=\"p-0 text-nowrap d-flex flex-column align-items-start d-lg-block dropdown-item\" color=\"primary\" role=\"menuitem\" tabindex=\"0\" type=\"button\">\n",
      "           <a href=\"/nba/odds\" role=\"link\" style=\"display:flex;width:100%;height:30px;align-items:center;padding:1rem;text-decoration:none;color:inherit\" tabindex=\"0\">\n",
      "            <svg aria-hidden=\"true\" class=\"svg-inline--fa fa-basketball-ball fa-w-16\" data-icon=\"basketball-ball\" data-prefix=\"fas\" focusable=\"false\" role=\"img\" viewbox=\"0 0 496 512\" xmlns=\"http://www.w3.org/2000/svg\">\n",
      "             <path d=\"M212.3 10.3c-43.8 6.3-86.2 24.1-122.2 53.8l77.4 77.4c27.8-35.8 43.3-81.2 44.8-131.2zM248 222L405.9 64.1c-42.4-35-93.6-53.5-145.5-56.1-1.2 63.9-21.5 122.3-58.7 167.7L248 222zM56.1 98.1c-29.7 36-47.5 78.4-53.8 122.2 50-1.5 95.5-17 131.2-44.8L56.1 98.1zm272.2 204.2c45.3-37.1 103.7-57.4 167.7-58.7-2.6-51.9-21.1-103.1-56.1-145.5L282 256l46.3 46.3zM248 290L90.1 447.9c42.4 34.9 93.6 53.5 145.5 56.1 1.3-64 21.6-122.4 58.7-167.7L248 290zm191.9 123.9c29.7-36 47.5-78.4 53.8-122.2-50.1 1.6-95.5 17.1-131.2 44.8l77.4 77.4zM167.7 209.7C122.3 246.9 63.9 267.3 0 268.4c2.6 51.9 21.1 103.1 56.1 145.5L214 256l-46.3-46.3zm116 292c43.8-6.3 86.2-24.1 122.2-53.8l-77.4-77.4c-27.7 35.7-43.2 81.2-44.8 131.2z\" fill=\"currentColor\">\n",
      "             </path>\n",
      "            </svg>\n",
      "            <span class=\"ml-lg-2 ml-1\">\n",
      "             NBA\n",
      "            </span>\n",
      "           </a>\n",
      "          </button>\n",
      "          <button class=\"p-0 text-nowrap d-flex flex-column align-items-start d-lg-block dropdown-item\" color=\"primary\" role=\"menuitem\" tabindex=\"0\" type=\"button\">\n",
      "           <a href=\"/cbb/odds\" role=\"link\" style=\"display:flex;width:100%;height:30px;align-items:center;padding:1rem;text-decoration:none;color:inherit\" tabindex=\"0\">\n",
      "            <svg aria-hidden=\"true\" class=\"svg-inline--fa fa-basketball-ball fa-w-16\" data-icon=\"basketball-ball\" data-prefix=\"fas\" focusable=\"false\" role=\"img\" viewbox=\"0 0 496 512\" xmlns=\"http://www.w3.org/2000/svg\">\n",
      "             <path d=\"M212.3 10.3c-43.8 6.3-86.2 24.1-122.2 53.8l77.4 77.4c27.8-35.8 43.3-81.2 44.8-131.2zM248 222L405.9 64.1c-42.4-35-93.6-53.5-145.5-56.1-1.2 63.9-21.5 122.3-58.7 167.7L248 222zM56.1 98.1c-29.7 36-47.5 78.4-53.8 122.2 50-1.5 95.5-17 131.2-44.8L56.1 98.1zm272.2 204.2c45.3-37.1 103.7-57.4 167.7-58.7-2.6-51.9-21.1-103.1-56.1-145.5L282 256l46.3 46.3zM248 290L90.1 447.9c42.4 34.9 93.6 53.5 145.5 56.1 1.3-64 21.6-122.4 58.7-167.7L248 290zm191.9 123.9c29.7-36 47.5-78.4 53.8-122.2-50.1 1.6-95.5 17.1-131.2 44.8l77.4 77.4zM167.7 209.7C122.3 246.9 63.9 267.3 0 268.4c2.6 51.9 21.1 103.1 56.1 145.5L214 256l-46.3-46.3zm116 292c43.8-6.3 86.2-24.1 122.2-53.8l-77.4-77.4c-27.7 35.7-43.2 81.2-44.8 131.2z\" fill=\"currentColor\">\n",
      "             </path>\n",
      "            </svg>\n",
      "            <span class=\"ml-lg-2 ml-1\">\n",
      "             CBB\n",
      "            </span>\n",
      "           </a>\n",
      "          </button>\n",
      "          <button class=\"p-0 text-nowrap d-flex flex-column align-items-start d-lg-block dropdown-item\" color=\"primary\" role=\"menuitem\" tabindex=\"0\" type=\"button\">\n",
      "           <a href=\"/mlb/odds\" role=\"link\" style=\"display:flex;width:100%;height:30px;align-items:center;padding:1rem;text-decoration:none;color:inherit\" tabindex=\"0\">\n",
      "            <svg aria-hidden=\"true\" class=\"svg-inline--fa fa-baseball-ball fa-w-16\" data-icon=\"baseball-ball\" data-prefix=\"fas\" focusable=\"false\" role=\"img\" viewbox=\"0 0 496 512\" xmlns=\"http://www.w3.org/2000/svg\">\n",
      "             <path d=\"M368.5 363.9l28.8-13.9c11.1 22.9 26 43.2 44.1 60.9 34-42.5 54.5-96.3 54.5-154.9 0-58.5-20.4-112.2-54.2-154.6-17.8 17.3-32.6 37.1-43.6 59.5l-28.7-14.1c12.8-26 30-49 50.8-69C375.6 34.7 315 8 248 8 181.1 8 120.5 34.6 75.9 77.7c20.7 19.9 37.9 42.9 50.7 68.8l-28.7 14.1c-11-22.3-25.7-42.1-43.5-59.4C20.4 143.7 0 197.4 0 256c0 58.6 20.4 112.3 54.4 154.7 18.2-17.7 33.2-38 44.3-61l28.8 13.9c-12.9 26.7-30.3 50.3-51.5 70.7 44.5 43.1 105.1 69.7 172 69.7 66.8 0 127.3-26.5 171.9-69.5-21.1-20.4-38.5-43.9-51.4-70.6zm-228.3-32l-30.5-9.8c14.9-46.4 12.7-93.8-.6-134l30.4-10c15 45.6 18 99.9.7 153.8zm216.3-153.4l30.4 10c-13.2 40.1-15.5 87.5-.6 134l-30.5 9.8c-17.3-54-14.3-108.3.7-153.8z\" fill=\"currentColor\">\n",
      "             </path>\n",
      "            </svg>\n",
      "            <span class=\"ml-lg-2 ml-1\">\n",
      "             MLB\n",
      "            </span>\n",
      "           </a>\n",
      "          </button>\n",
      "          <button class=\"text-white p-0 text-nowrap d-flex flex-column align-items-start d-lg-block dropdown-item active\" color=\"primary\" role=\"menuitem\" tabindex=\"0\" type=\"button\">\n",
      "           <a href=\"/nhl/odds\" role=\"link\" style=\"display:flex;width:100%;height:30px;align-items:center;padding:1rem;text-decoration:none;color:inherit\" tabindex=\"0\">\n",
      "            <svg aria-hidden=\"true\" class=\"svg-inline--fa fa-hockey-puck fa-w-16\" data-icon=\"hockey-puck\" data-prefix=\"fas\" focusable=\"false\" role=\"img\" viewbox=\"0 0 512 512\" xmlns=\"http://www.w3.org/2000/svg\">\n",
      "             <path d=\"M0 160c0-53 114.6-96 256-96s256 43 256 96-114.6 96-256 96S0 213 0 160zm0 82.2V352c0 53 114.6 96 256 96s256-43 256-96V242.2c-113.4 82.3-398.5 82.4-512 0z\" fill=\"currentColor\">\n",
      "             </path>\n",
      "            </svg>\n",
      "            <span class=\"ml-lg-2 ml-1\">\n",
      "             NHL\n",
      "            </span>\n",
      "           </a>\n",
      "          </button>\n",
      "         </div>\n",
      "        </div>\n",
      "        <div class=\"mr-2 dropdown\">\n",
      "         <button aria-expanded=\"false\" aria-haspopup=\"true\" class=\"btn-sm btn-falcon-primary dropdown-toggle btn btn-secondary\" type=\"button\">\n",
      "          Moneyline\n",
      "         </button>\n",
      "         <div aria-hidden=\"true\" class=\"mr-2 dropdown-menu\" role=\"menu\" tabindex=\"-1\">\n",
      "          <button class=\"text-white dropdown-item active\" color=\"primary\" role=\"menuitem\" tabindex=\"0\" type=\"button\">\n",
      "           Moneyline\n",
      "          </button>\n",
      "          <button class=\"dropdown-item\" color=\"primary\" role=\"menuitem\" tabindex=\"0\" type=\"button\">\n",
      "           Spread\n",
      "          </button>\n",
      "          <button class=\"dropdown-item\" color=\"primary\" role=\"menuitem\" tabindex=\"0\" type=\"button\">\n",
      "           Total\n",
      "          </button>\n",
      "          <button class=\"dropdown-item\" color=\"primary\" role=\"menuitem\" tabindex=\"0\" type=\"button\">\n",
      "           Combined\n",
      "          </button>\n",
      "         </div>\n",
      "        </div>\n",
      "        <div class=\"mr-2 dropdown\">\n",
      "         <button aria-expanded=\"false\" aria-haspopup=\"true\" class=\"btn-sm btn-falcon-primary dropdown-toggle btn btn-secondary\" type=\"button\">\n",
      "          Full Game\n",
      "         </button>\n",
      "         <div aria-hidden=\"true\" class=\"dropdown-menu\" role=\"menu\" tabindex=\"-1\">\n",
      "         </div>\n",
      "        </div>\n",
      "        <div class=\"flex-grow-1\">\n",
      "        </div>\n",
      "        <div class=\"mr-2\">\n",
      "         <button aria-label=\"Toggle navigation\" class=\"navbar-toggler\" type=\"button\">\n",
      "          <span class=\"navbar-toggler-icon\">\n",
      "          </span>\n",
      "         </button>\n",
      "        </div>\n",
      "        <div class=\"scrollbar collapse navbar-collapse\">\n",
      "         <div class=\"d-flex w-100\">\n",
      "          <div class=\"nav-item mb-2\">\n",
      "           <div class=\"mr-2 btn-group-sm btn-group\" color=\"primary\" role=\"group\">\n",
      "            <button class=\"btn-sm btn-primary text-white btn btn-outline-falcon-primary active\" type=\"button\">\n",
      "             P/G\n",
      "            </button>\n",
      "            <button class=\"btn-sm disabled btn btn-outline-primary\" id=\"buttonGameStatusLive\" type=\"button\">\n",
      "             Live\n",
      "            </button>\n",
      "           </div>\n",
      "          </div>\n",
      "          <div class=\"nav-item mb-2\">\n",
      "           <div class=\"d-flex align-items-center justify-content-around mr-2 datepicker-container\" style=\"max-height:29px\">\n",
      "            <div class=\"react-datepicker-wrapper\">\n",
      "             <div class=\"react-datepicker__input-container\">\n",
      "              <input class=\"datepicker form-control datepicker-container\" type=\"text\" value=\"11/01/22\"/>\n",
      "             </div>\n",
      "            </div>\n",
      "           </div>\n",
      "          </div>\n",
      "          <div class=\"mr-2 dropdown\">\n",
      "           <button aria-expanded=\"false\" aria-haspopup=\"true\" class=\"btn-sm btn-falcon-primary dropdown-toggle btn btn-secondary\" type=\"button\">\n",
      "            American\n",
      "           </button>\n",
      "           <div aria-hidden=\"true\" class=\"mr-2 dropdown-menu\" role=\"menu\" tabindex=\"-1\">\n",
      "            <h6 class=\"dropdown-header\" tabindex=\"-1\">\n",
      "             Odds Format\n",
      "            </h6>\n",
      "            <button class=\"text-white dropdown-item active\" color=\"primary\" role=\"menuitem\" tabindex=\"0\" type=\"button\">\n",
      "             American\n",
      "            </button>\n",
      "            <button class=\"dropdown-item\" color=\"primary\" role=\"menuitem\" tabindex=\"0\" type=\"button\">\n",
      "             Decimal\n",
      "            </button>\n",
      "            <button class=\"dropdown-item\" color=\"primary\" role=\"menuitem\" tabindex=\"0\" type=\"button\">\n",
      "             Probability\n",
      "            </button>\n",
      "            <button class=\"dropdown-item\" color=\"primary\" role=\"menuitem\" tabindex=\"0\" type=\"button\">\n",
      "             Sporttrade\n",
      "             <img class=\"ml-1\" src=\"https://assets.unabated.com/sportsbooks/thumbnails/sporttrade.png\" style=\"width:16px;height:16px\" title=\"Sporttrade\"/>\n",
      "            </button>\n",
      "            <button class=\"dropdown-item\" color=\"primary\" role=\"menuitem\" tabindex=\"0\" type=\"button\">\n",
      "             Native\n",
      "            </button>\n",
      "            <div class=\"dropdown-divider\" tabindex=\"-1\">\n",
      "            </div>\n",
      "            <h6 class=\"dropdown-header\" tabindex=\"-1\">\n",
      "             Commissions\n",
      "            </h6>\n",
      "            <button class=\"dropdown-item\" color=\"primary\" role=\"menuitem\" tabindex=\"0\" type=\"button\">\n",
      "             Include Commission\n",
      "            </button>\n",
      "            <button class=\"dropdown-item active\" color=\"primary\" role=\"menuitem\" tabindex=\"0\" type=\"button\">\n",
      "             Exclude Commission\n",
      "            </button>\n",
      "           </div>\n",
      "          </div>\n",
      "          <div class=\"d-flex flex-fill\">\n",
      "           <div style=\"margin-left:0\">\n",
      "           </div>\n",
      "          </div>\n",
      "          <div class=\"d-flex justify-content-end\">\n",
      "           <div class=\"btn-group-sm btn-group\" role=\"group\">\n",
      "            <div class=\"d-flex align-items-center text-warning font-weight-bold px-1 ml-1 mr-2\">\n",
      "             <a class=\"text-primary mb-0\" href=\"/articles/learn-about-the-game-odds-screen\" target=\"_blank\">\n",
      "              <svg aria-hidden=\"true\" class=\"svg-inline--fa fa-graduation-cap fa-w-20 mr-1\" data-icon=\"graduation-cap\" data-prefix=\"fas\" focusable=\"false\" role=\"img\" viewbox=\"0 0 640 512\" xmlns=\"http://www.w3.org/2000/svg\">\n",
      "               <path d=\"M622.34 153.2L343.4 67.5c-15.2-4.67-31.6-4.67-46.79 0L17.66 153.2c-23.54 7.23-23.54 38.36 0 45.59l48.63 14.94c-10.67 13.19-17.23 29.28-17.88 46.9C38.78 266.15 32 276.11 32 288c0 10.78 5.68 19.85 13.86 25.65L20.33 428.53C18.11 438.52 25.71 448 35.94 448h56.11c10.24 0 17.84-9.48 15.62-19.47L82.14 313.65C90.32 307.85 96 298.78 96 288c0-11.57-6.47-21.25-15.66-26.87.76-15.02 8.44-28.3 20.69-36.72L296.6 284.5c9.06 2.78 26.44 6.25 46.79 0l278.95-85.7c23.55-7.24 23.55-38.36 0-45.6zM352.79 315.09c-28.53 8.76-52.84 3.92-65.59 0l-145.02-44.55L128 384c0 35.35 85.96 64 192 64s192-28.65 192-64l-14.18-113.47-145.03 44.56z\" fill=\"currentColor\">\n",
      "               </path>\n",
      "              </svg>\n",
      "              Teach Me\n",
      "             </a>\n",
      "            </div>\n",
      "            <button class=\"btn btn-outline-primary btn-sm\" id=\"tradingToolsButton\" type=\"button\">\n",
      "             <svg aria-hidden=\"true\" class=\"svg-inline--fa fa-calculator fa-w-14 border-0\" color=\"primary\" data-icon=\"calculator\" data-prefix=\"fas\" focusable=\"false\" role=\"img\" viewbox=\"0 0 448 512\" xmlns=\"http://www.w3.org/2000/svg\">\n",
      "              <path d=\"M400 0H48C22.4 0 0 22.4 0 48v416c0 25.6 22.4 48 48 48h352c25.6 0 48-22.4 48-48V48c0-25.6-22.4-48-48-48zM128 435.2c0 6.4-6.4 12.8-12.8 12.8H76.8c-6.4 0-12.8-6.4-12.8-12.8v-38.4c0-6.4 6.4-12.8 12.8-12.8h38.4c6.4 0 12.8 6.4 12.8 12.8v38.4zm0-128c0 6.4-6.4 12.8-12.8 12.8H76.8c-6.4 0-12.8-6.4-12.8-12.8v-38.4c0-6.4 6.4-12.8 12.8-12.8h38.4c6.4 0 12.8 6.4 12.8 12.8v38.4zm128 128c0 6.4-6.4 12.8-12.8 12.8h-38.4c-6.4 0-12.8-6.4-12.8-12.8v-38.4c0-6.4 6.4-12.8 12.8-12.8h38.4c6.4 0 12.8 6.4 12.8 12.8v38.4zm0-128c0 6.4-6.4 12.8-12.8 12.8h-38.4c-6.4 0-12.8-6.4-12.8-12.8v-38.4c0-6.4 6.4-12.8 12.8-12.8h38.4c6.4 0 12.8 6.4 12.8 12.8v38.4zm128 128c0 6.4-6.4 12.8-12.8 12.8h-38.4c-6.4 0-12.8-6.4-12.8-12.8V268.8c0-6.4 6.4-12.8 12.8-12.8h38.4c6.4 0 12.8 6.4 12.8 12.8v166.4zm0-256c0 6.4-6.4 12.8-12.8 12.8H76.8c-6.4 0-12.8-6.4-12.8-12.8V76.8C64 70.4 70.4 64 76.8 64h294.4c6.4 0 12.8 6.4 12.8 12.8v102.4z\" fill=\"currentColor\">\n",
      "              </path>\n",
      "             </svg>\n",
      "            </button>\n",
      "            <button class=\"mr-1 btn btn-outline-primary btn-sm\" id=\"marketHistoryButton\" type=\"button\">\n",
      "             <svg aria-hidden=\"true\" class=\"svg-inline--fa fa-chart-line fa-w-16 border-0\" color=\"primary\" data-icon=\"chart-line\" data-prefix=\"fas\" focusable=\"false\" role=\"img\" viewbox=\"0 0 512 512\" xmlns=\"http://www.w3.org/2000/svg\">\n",
      "              <path d=\"M496 384H64V80c0-8.84-7.16-16-16-16H16C7.16 64 0 71.16 0 80v336c0 17.67 14.33 32 32 32h464c8.84 0 16-7.16 16-16v-32c0-8.84-7.16-16-16-16zM464 96H345.94c-21.38 0-32.09 25.85-16.97 40.97l32.4 32.4L288 242.75l-73.37-73.37c-12.5-12.5-32.76-12.5-45.25 0l-68.69 68.69c-6.25 6.25-6.25 16.38 0 22.63l22.62 22.62c6.25 6.25 16.38 6.25 22.63 0L192 237.25l73.37 73.37c12.5 12.5 32.76 12.5 45.25 0l96-96 32.4 32.4c15.12 15.12 40.97 4.41 40.97-16.97V112c.01-8.84-7.15-16-15.99-16z\" fill=\"currentColor\">\n",
      "              </path>\n",
      "             </svg>\n",
      "            </button>\n",
      "           </div>\n",
      "          </div>\n",
      "         </div>\n",
      "        </div>\n",
      "       </div>\n",
      "      </nav>\n",
      "      <div class=\"d-flex flex-grow-1\" style=\"width:100%;overflow:hidden\">\n",
      "       <div class=\"ag-theme-alpine-dark\" style=\"height:100%;width:100%;padding-top:5px\">\n",
      "       </div>\n",
      "       <div class=\"mt-1\">\n",
      "        <div class=\"jsx-579490978 sideBarClose\" style=\"height:100%;width:375px;border-left:solid 1px #3c3c3c;border-top:solid 1px #3c3c3c;border-bottom:solid 1px #3c3c3c;border-radius:5px\">\n",
      "         <div class=\"jsx-579490978\">\n",
      "         </div>\n",
      "        </div>\n",
      "       </div>\n",
      "      </div>\n",
      "     </div>\n",
      "    </div>\n",
      "   </div>\n",
      "  </div>\n",
      " </div>\n",
      "</div>\n",
      "\n"
     ]
    }
   ],
   "source": [
    "print(results.prettify())"
   ]
  },
  {
   "cell_type": "code",
   "execution_count": 19,
   "metadata": {},
   "outputs": [],
   "source": [
    "odds_elements = results.find_all(\"div\", class_=\"ag-cell ag-cell-not-inline-editing ag-cell-auto-height ag-cell-value\")\n"
   ]
  },
  {
   "cell_type": "code",
   "execution_count": 20,
   "metadata": {},
   "outputs": [],
   "source": [
    "for odd_element in odds_elements:\n",
    "    print(odd_element, end='\\n'*2)"
   ]
  },
  {
   "cell_type": "code",
   "execution_count": 21,
   "metadata": {},
   "outputs": [
    {
     "name": "stdout",
     "output_type": "stream",
     "text": [
      "[]\n"
     ]
    }
   ],
   "source": [
    "print(odds_elements)\n",
    "\n",
    "\n",
    "#currently no data being collected"
   ]
  }
 ],
 "metadata": {
  "kernelspec": {
   "display_name": "Python 3.9.13 ('base')",
   "language": "python",
   "name": "python3"
  },
  "language_info": {
   "codemirror_mode": {
    "name": "ipython",
    "version": 3
   },
   "file_extension": ".py",
   "mimetype": "text/x-python",
   "name": "python",
   "nbconvert_exporter": "python",
   "pygments_lexer": "ipython3",
   "version": "3.9.13"
  },
  "orig_nbformat": 4,
  "vscode": {
   "interpreter": {
    "hash": "85eeaac22177612fc6d80332436377a33ea96656be611ede230972e40651edba"
   }
  }
 },
 "nbformat": 4,
 "nbformat_minor": 2
}
