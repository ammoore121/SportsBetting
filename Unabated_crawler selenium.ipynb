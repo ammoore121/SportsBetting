{
 "cells": [
  {
   "cell_type": "code",
   "execution_count": 1,
   "metadata": {},
   "outputs": [
    {
     "name": "stdout",
     "output_type": "stream",
     "text": [
      "Collecting selenium\n",
      "  Downloading selenium-4.6.0-py3-none-any.whl (5.2 MB)\n",
      "     ---------------------------------------- 5.2/5.2 MB 12.8 MB/s eta 0:00:00\n",
      "Collecting trio-websocket~=0.9\n",
      "  Downloading trio_websocket-0.9.2-py3-none-any.whl (16 kB)\n",
      "Requirement already satisfied: urllib3[socks]~=1.26 in c:\\users\\ammoo\\anaconda3\\lib\\site-packages (from selenium) (1.26.11)\n",
      "Collecting trio~=0.17\n",
      "  Downloading trio-0.22.0-py3-none-any.whl (384 kB)\n",
      "     ------------------------------------- 384.9/384.9 kB 23.4 MB/s eta 0:00:00\n",
      "Requirement already satisfied: certifi>=2021.10.8 in c:\\users\\ammoo\\anaconda3\\lib\\site-packages (from selenium) (2022.9.14)\n",
      "Requirement already satisfied: idna in c:\\users\\ammoo\\anaconda3\\lib\\site-packages (from trio~=0.17->selenium) (3.3)\n",
      "Requirement already satisfied: attrs>=19.2.0 in c:\\users\\ammoo\\anaconda3\\lib\\site-packages (from trio~=0.17->selenium) (21.4.0)\n",
      "Collecting outcome\n",
      "  Downloading outcome-1.2.0-py2.py3-none-any.whl (9.7 kB)\n",
      "Requirement already satisfied: sortedcontainers in c:\\users\\ammoo\\anaconda3\\lib\\site-packages (from trio~=0.17->selenium) (2.4.0)\n",
      "Requirement already satisfied: cffi>=1.14 in c:\\users\\ammoo\\anaconda3\\lib\\site-packages (from trio~=0.17->selenium) (1.15.1)\n",
      "Collecting exceptiongroup>=1.0.0rc9\n",
      "  Downloading exceptiongroup-1.0.1-py3-none-any.whl (12 kB)\n",
      "Collecting async-generator>=1.9\n",
      "  Downloading async_generator-1.10-py3-none-any.whl (18 kB)\n",
      "Requirement already satisfied: sniffio in c:\\users\\ammoo\\anaconda3\\lib\\site-packages (from trio~=0.17->selenium) (1.2.0)\n",
      "Collecting wsproto>=0.14\n",
      "  Downloading wsproto-1.2.0-py3-none-any.whl (24 kB)\n",
      "Requirement already satisfied: PySocks!=1.5.7,<2.0,>=1.5.6 in c:\\users\\ammoo\\anaconda3\\lib\\site-packages (from urllib3[socks]~=1.26->selenium) (1.7.1)\n",
      "Requirement already satisfied: pycparser in c:\\users\\ammoo\\anaconda3\\lib\\site-packages (from cffi>=1.14->trio~=0.17->selenium) (2.21)\n",
      "Collecting h11<1,>=0.9.0\n",
      "  Downloading h11-0.14.0-py3-none-any.whl (58 kB)\n",
      "     ---------------------------------------- 58.3/58.3 kB ? eta 0:00:00\n",
      "Installing collected packages: outcome, h11, exceptiongroup, async-generator, wsproto, trio, trio-websocket, selenium\n",
      "Successfully installed async-generator-1.10 exceptiongroup-1.0.1 h11-0.14.0 outcome-1.2.0 selenium-4.6.0 trio-0.22.0 trio-websocket-0.9.2 wsproto-1.2.0\n",
      "Note: you may need to restart the kernel to use updated packages.\n"
     ]
    }
   ],
   "source": [
    "pip install selenium"
   ]
  },
  {
   "cell_type": "code",
   "execution_count": 1,
   "metadata": {},
   "outputs": [],
   "source": [
    "from selenium import webdriver\n",
    "import time\n",
    "from bs4 import BeautifulSoup"
   ]
  },
  {
   "cell_type": "code",
   "execution_count": 61,
   "metadata": {},
   "outputs": [],
   "source": [
    "driver = webdriver.Chrome()\n",
    "url = \"https://unabated.com/nhl/odds\"\n",
    "driver.maximize_window()\n",
    "driver.get(url)"
   ]
  },
  {
   "cell_type": "code",
   "execution_count": 62,
   "metadata": {},
   "outputs": [],
   "source": [
    "time.sleep(5)\n",
    "content=driver.page_source.encode('utf-8').strip()\n",
    "soup = BeautifulSoup(content, \"lxml\")\n",
    "\n",
    "#pulling the first odd with class=\"odds-cover-cell\" from the books columns\n",
    "results = soup.find_all(\"div\",class_=\"odds-hover-cell\")"
   ]
  },
  {
   "cell_type": "code",
   "execution_count": 22,
   "metadata": {},
   "outputs": [
    {
     "name": "stdout",
     "output_type": "stream",
     "text": [
      "<div class=\"odds-hover-cell\" style=\"text-decoration-line: none;\"><div style=\"display: flex; flex-direction: row; justify-content: end; align-items: center;\"><div><span class=\"pr-1\"> </span> <span class=\"pr-1\" style=\"opacity: 0.7;\">+210</span><span class=\"pr-1\"><img src=\"https://assets.unabated.com/sportsbooks/thumbnails/fan-duel.webp\" style=\"width: 16px; height: 16px;\" title=\"FanDuel \n",
      "(Excluded from best line determination: Unabated Line, DeckPrism, Matchbook, Buckeye, Circa, SportsBetting, Unibet, LowVig, YouWager, Intertops, PointsBet, Pinnacle, Bovada, BetOnline, Sugarhouse)\"/></span></div></div></div>\n"
     ]
    }
   ],
   "source": [
    "print(results)"
   ]
  },
  {
   "cell_type": "code",
   "execution_count": 45,
   "metadata": {},
   "outputs": [
    {
     "name": "stdout",
     "output_type": "stream",
     "text": [
      "  +210\n"
     ]
    }
   ],
   "source": [
    "print(results[0].text)"
   ]
  },
  {
   "cell_type": "code",
   "execution_count": 43,
   "metadata": {},
   "outputs": [
    {
     "name": "stdout",
     "output_type": "stream",
     "text": [
      "<img src=\"https://assets.unabated.com/sportsbooks/thumbnails/fan-duel.webp\" style=\"width: 16px; height: 16px;\" title=\"FanDuel \n",
      "(Excluded from best line determination: Unabated Line, DeckPrism, Matchbook, Buckeye, Circa, SportsBetting, Unibet, LowVig, YouWager, Intertops, PointsBet, Pinnacle, Bovada, BetOnline, Sugarhouse)\"/>\n"
     ]
    }
   ],
   "source": [
    "print(results[0].img)\n",
    "\n",
    "#can see the title=\"FanDuel (Exlcuded...\" "
   ]
  },
  {
   "cell_type": "code",
   "execution_count": 63,
   "metadata": {},
   "outputs": [],
   "source": [
    "#Now trying the full odds container... \n",
    "results_row= soup.find_all('div',class_=\"ag-center-cols-container\")"
   ]
  },
  {
   "cell_type": "code",
   "execution_count": 64,
   "metadata": {},
   "outputs": [
    {
     "name": "stdout",
     "output_type": "stream",
     "text": [
      "  +184  -220  +203  -208  +205  -210  +200  -238  +210  -260  +195  -240  +200  -220  +185  -225  +192  -235  +190  -236  +194  -217  +145  -166  +153  -160  +152  -162  +135  -154  +140  -180  +130  -160  +142  -157  +140  -165  +143  -170  +145  -176  +149  -165  -185  +160  -170  +167  -170  +164  -175  +150  -184  +152  -180  +155  -180  +160  -190  +155  -190  +158  -186  +155  -178  +160  -121  +101  -125  +100  -120  +100  -115  -105  -120  +110  -115  -105  -120  +100  -125  +105  -123  +111  +151  -175  +150  -200  +155  -188  +155  -180  +160  -180  +150  -185  +158  -190  +155  -186  +156  -173  -133  +113  -141  +110  -137  +114  -130  +110  -130  +120  -130  +110  -135  +115  -140  +120  -143  +129  +110  -141  +110  -141  -141  +110  +115  -145  +140  -179  -130  +100  +140  -179  +140  -179  +100  -130  -125  +100  -120  -105\n"
     ]
    }
   ],
   "source": [
    "print(results_row[0].text)\n",
    "\n",
    "#it does not identify which book"
   ]
  },
  {
   "cell_type": "code",
   "execution_count": 124,
   "metadata": {},
   "outputs": [],
   "source": [
    "sportsbooks = soup.find_all(\"div\", class_=\"text-success\")"
   ]
  },
  {
   "cell_type": "code",
   "execution_count": 125,
   "metadata": {},
   "outputs": [
    {
     "name": "stdout",
     "output_type": "stream",
     "text": [
      "<div class=\"text-success\" style=\"background-color: rgba(0, 0, 0, 0.2); padding: 6px 6px 6px 14px; border-radius: 6px; display: flex; flex-direction: row; justify-content: space-between; align-items: center; height: 100%; margin-top: 10px; cursor: pointer;\"><div style='background-image: url(\"https://assets.unabated.com/sportsbooks/logos/bookmaker.svg\"); background-repeat: no-repeat; height: 30px; width: 80px; min-width: 80px; background-size: contain; background-position: center center;' title=\"Bookmaker \n",
      "Real-Time\"></div> <div style=\"display: flex; align-items: center; justify-content: center;\"><i class=\"border-0 fa fa-circle text-success\" style=\"font-size: 6px; padding: 3px; position: absolute; top: 10px; left: 6px;\" title=\"Real-Time\"></i></div></div>\n"
     ]
    }
   ],
   "source": [
    "print(sportsbooks[0])"
   ]
  },
  {
   "cell_type": "code",
   "execution_count": 130,
   "metadata": {},
   "outputs": [
    {
     "ename": "KeyError",
     "evalue": "'title'",
     "output_type": "error",
     "traceback": [
      "\u001b[1;31m---------------------------------------------------------------------------\u001b[0m",
      "\u001b[1;31mKeyError\u001b[0m                                  Traceback (most recent call last)",
      "\u001b[1;32m~\\AppData\\Local\\Temp\\ipykernel_14208\\4119983601.py\u001b[0m in \u001b[0;36m<module>\u001b[1;34m\u001b[0m\n\u001b[0;32m      1\u001b[0m \u001b[1;32mfor\u001b[0m \u001b[0mitem\u001b[0m \u001b[1;32min\u001b[0m \u001b[0msportsbooks\u001b[0m\u001b[1;33m:\u001b[0m\u001b[1;33m\u001b[0m\u001b[1;33m\u001b[0m\u001b[0m\n\u001b[1;32m----> 2\u001b[1;33m     \u001b[0mprint\u001b[0m\u001b[1;33m(\u001b[0m\u001b[0mitem\u001b[0m\u001b[1;33m.\u001b[0m\u001b[0mattrs\u001b[0m\u001b[1;33m[\u001b[0m\u001b[1;34m'title'\u001b[0m\u001b[1;33m]\u001b[0m\u001b[1;33m)\u001b[0m\u001b[1;33m\u001b[0m\u001b[1;33m\u001b[0m\u001b[0m\n\u001b[0m",
      "\u001b[1;31mKeyError\u001b[0m: 'title'"
     ]
    }
   ],
   "source": [
    "for item in sportsbooks:\n",
    "    print(item.attrs['title'])\n",
    "\n",
    "\n",
    "#https://stackoverflow.com/questions/43005780/how-to-obtain-title-attribute-using-python-and-beautifulsoup\n",
    "#https://stackoverflow.com/questions/13002318/how-to-get-get-the-title-attribute-of-a-div-element\n",
    "#https://www.crummy.com/software/BeautifulSoup/bs4/doc/\n"
   ]
  },
  {
   "cell_type": "code",
   "execution_count": 132,
   "metadata": {},
   "outputs": [
    {
     "name": "stdout",
     "output_type": "stream",
     "text": [
      "<div class=\"text-success\" style=\"background-color: rgba(0, 0, 0, 0.2); padding: 6px 6px 6px 14px; border-radius: 6px; display: flex; flex-direction: row; justify-content: space-between; align-items: center; height: 100%; margin-top: 10px; cursor: pointer;\"><div style='background-image: url(\"https://assets.unabated.com/sportsbooks/logos/bookmaker.svg\"); background-repeat: no-repeat; height: 30px; width: 80px; min-width: 80px; background-size: contain; background-position: center center;' title=\"Bookmaker \n",
      "Real-Time\"></div> <div style=\"display: flex; align-items: center; justify-content: center;\"><i class=\"border-0 fa fa-circle text-success\" style=\"font-size: 6px; padding: 3px; position: absolute; top: 10px; left: 6px;\" title=\"Real-Time\"></i></div></div>\n"
     ]
    }
   ],
   "source": [
    "print(sportsbooks[0])"
   ]
  }
 ],
 "metadata": {
  "kernelspec": {
   "display_name": "Python 3.9.13 ('base')",
   "language": "python",
   "name": "python3"
  },
  "language_info": {
   "codemirror_mode": {
    "name": "ipython",
    "version": 3
   },
   "file_extension": ".py",
   "mimetype": "text/x-python",
   "name": "python",
   "nbconvert_exporter": "python",
   "pygments_lexer": "ipython3",
   "version": "3.9.13"
  },
  "orig_nbformat": 4,
  "vscode": {
   "interpreter": {
    "hash": "c82e4d1e9084eac1ce75472f970f4b32fd89bddf9219f2363852c4ec62334425"
   }
  }
 },
 "nbformat": 4,
 "nbformat_minor": 2
}
