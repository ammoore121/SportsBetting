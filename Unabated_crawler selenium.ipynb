{
 "cells": [
  {
   "cell_type": "code",
   "execution_count": 1,
   "metadata": {},
   "outputs": [
    {
     "name": "stdout",
     "output_type": "stream",
     "text": [
      "Collecting selenium\n",
      "  Downloading selenium-4.6.0-py3-none-any.whl (5.2 MB)\n",
      "     ---------------------------------------- 5.2/5.2 MB 12.8 MB/s eta 0:00:00\n",
      "Collecting trio-websocket~=0.9\n",
      "  Downloading trio_websocket-0.9.2-py3-none-any.whl (16 kB)\n",
      "Requirement already satisfied: urllib3[socks]~=1.26 in c:\\users\\ammoo\\anaconda3\\lib\\site-packages (from selenium) (1.26.11)\n",
      "Collecting trio~=0.17\n",
      "  Downloading trio-0.22.0-py3-none-any.whl (384 kB)\n",
      "     ------------------------------------- 384.9/384.9 kB 23.4 MB/s eta 0:00:00\n",
      "Requirement already satisfied: certifi>=2021.10.8 in c:\\users\\ammoo\\anaconda3\\lib\\site-packages (from selenium) (2022.9.14)\n",
      "Requirement already satisfied: idna in c:\\users\\ammoo\\anaconda3\\lib\\site-packages (from trio~=0.17->selenium) (3.3)\n",
      "Requirement already satisfied: attrs>=19.2.0 in c:\\users\\ammoo\\anaconda3\\lib\\site-packages (from trio~=0.17->selenium) (21.4.0)\n",
      "Collecting outcome\n",
      "  Downloading outcome-1.2.0-py2.py3-none-any.whl (9.7 kB)\n",
      "Requirement already satisfied: sortedcontainers in c:\\users\\ammoo\\anaconda3\\lib\\site-packages (from trio~=0.17->selenium) (2.4.0)\n",
      "Requirement already satisfied: cffi>=1.14 in c:\\users\\ammoo\\anaconda3\\lib\\site-packages (from trio~=0.17->selenium) (1.15.1)\n",
      "Collecting exceptiongroup>=1.0.0rc9\n",
      "  Downloading exceptiongroup-1.0.1-py3-none-any.whl (12 kB)\n",
      "Collecting async-generator>=1.9\n",
      "  Downloading async_generator-1.10-py3-none-any.whl (18 kB)\n",
      "Requirement already satisfied: sniffio in c:\\users\\ammoo\\anaconda3\\lib\\site-packages (from trio~=0.17->selenium) (1.2.0)\n",
      "Collecting wsproto>=0.14\n",
      "  Downloading wsproto-1.2.0-py3-none-any.whl (24 kB)\n",
      "Requirement already satisfied: PySocks!=1.5.7,<2.0,>=1.5.6 in c:\\users\\ammoo\\anaconda3\\lib\\site-packages (from urllib3[socks]~=1.26->selenium) (1.7.1)\n",
      "Requirement already satisfied: pycparser in c:\\users\\ammoo\\anaconda3\\lib\\site-packages (from cffi>=1.14->trio~=0.17->selenium) (2.21)\n",
      "Collecting h11<1,>=0.9.0\n",
      "  Downloading h11-0.14.0-py3-none-any.whl (58 kB)\n",
      "     ---------------------------------------- 58.3/58.3 kB ? eta 0:00:00\n",
      "Installing collected packages: outcome, h11, exceptiongroup, async-generator, wsproto, trio, trio-websocket, selenium\n",
      "Successfully installed async-generator-1.10 exceptiongroup-1.0.1 h11-0.14.0 outcome-1.2.0 selenium-4.6.0 trio-0.22.0 trio-websocket-0.9.2 wsproto-1.2.0\n",
      "Note: you may need to restart the kernel to use updated packages.\n"
     ]
    }
   ],
   "source": [
    "pip install selenium"
   ]
  },
  {
   "cell_type": "code",
   "execution_count": 6,
   "metadata": {},
   "outputs": [],
   "source": [
    "from selenium import webdriver\n",
    "import time\n",
    "from bs4 import BeautifulSoup"
   ]
  },
  {
   "cell_type": "code",
   "execution_count": 7,
   "metadata": {},
   "outputs": [],
   "source": [
    "driver = webdriver.Chrome()\n",
    "url = \"https://unabated.com/nhl/odds\"\n",
    "driver.maximize_window()\n",
    "driver.get(url)"
   ]
  },
  {
   "cell_type": "code",
   "execution_count": 9,
   "metadata": {},
   "outputs": [],
   "source": [
    "time.sleep(5)\n",
    "content=driver.page_source.encode('utf-8').strip()\n",
    "soup = BeautifulSoup(content, \"lxml\")\n",
    "\n"
   ]
  },
  {
   "cell_type": "code",
   "execution_count": 22,
   "metadata": {},
   "outputs": [
    {
     "name": "stdout",
     "output_type": "stream",
     "text": [
      "<div class=\"odds-hover-cell\" style=\"text-decoration-line: none;\"><div style=\"display: flex; flex-direction: row; justify-content: end; align-items: center;\"><div><span class=\"pr-1\"> </span> <span class=\"pr-1\" style=\"opacity: 0.7;\">+210</span><span class=\"pr-1\"><img src=\"https://assets.unabated.com/sportsbooks/thumbnails/fan-duel.webp\" style=\"width: 16px; height: 16px;\" title=\"FanDuel \n",
      "(Excluded from best line determination: Unabated Line, DeckPrism, Matchbook, Buckeye, Circa, SportsBetting, Unibet, LowVig, YouWager, Intertops, PointsBet, Pinnacle, Bovada, BetOnline, Sugarhouse)\"/></span></div></div></div>\n"
     ]
    }
   ],
   "source": [
    "#pulling the first odd with class=\"odds-cover-cell\" from the books columns\n",
    "results = soup.find_all(\"div\",class_=\"odds-hover-cell\")\n",
    "print(results)"
   ]
  },
  {
   "cell_type": "code",
   "execution_count": 45,
   "metadata": {},
   "outputs": [
    {
     "name": "stdout",
     "output_type": "stream",
     "text": [
      "  +210\n"
     ]
    }
   ],
   "source": [
    "print(results[0].text)"
   ]
  },
  {
   "cell_type": "code",
   "execution_count": 43,
   "metadata": {},
   "outputs": [
    {
     "name": "stdout",
     "output_type": "stream",
     "text": [
      "<img src=\"https://assets.unabated.com/sportsbooks/thumbnails/fan-duel.webp\" style=\"width: 16px; height: 16px;\" title=\"FanDuel \n",
      "(Excluded from best line determination: Unabated Line, DeckPrism, Matchbook, Buckeye, Circa, SportsBetting, Unibet, LowVig, YouWager, Intertops, PointsBet, Pinnacle, Bovada, BetOnline, Sugarhouse)\"/>\n"
     ]
    }
   ],
   "source": [
    "print(results[0].img)\n",
    "\n",
    "#can see the title=\"FanDuel (Exlcuded...\" This is pointing to the icons under the best line column"
   ]
  },
  {
   "cell_type": "code",
   "execution_count": 10,
   "metadata": {},
   "outputs": [],
   "source": [
    "#Now trying the full odds container... \n",
    "results_row= soup.find_all('div',class_=\"ag-center-cols-container\")"
   ]
  },
  {
   "cell_type": "code",
   "execution_count": 64,
   "metadata": {},
   "outputs": [
    {
     "name": "stdout",
     "output_type": "stream",
     "text": [
      "  +184  -220  +203  -208  +205  -210  +200  -238  +210  -260  +195  -240  +200  -220  +185  -225  +192  -235  +190  -236  +194  -217  +145  -166  +153  -160  +152  -162  +135  -154  +140  -180  +130  -160  +142  -157  +140  -165  +143  -170  +145  -176  +149  -165  -185  +160  -170  +167  -170  +164  -175  +150  -184  +152  -180  +155  -180  +160  -190  +155  -190  +158  -186  +155  -178  +160  -121  +101  -125  +100  -120  +100  -115  -105  -120  +110  -115  -105  -120  +100  -125  +105  -123  +111  +151  -175  +150  -200  +155  -188  +155  -180  +160  -180  +150  -185  +158  -190  +155  -186  +156  -173  -133  +113  -141  +110  -137  +114  -130  +110  -130  +120  -130  +110  -135  +115  -140  +120  -143  +129  +110  -141  +110  -141  -141  +110  +115  -145  +140  -179  -130  +100  +140  -179  +140  -179  +100  -130  -125  +100  -120  -105\n"
     ]
    }
   ],
   "source": [
    "print(results_row[0].text)\n",
    "\n",
    "#it does not identify which book"
   ]
  },
  {
   "cell_type": "code",
   "execution_count": 124,
   "metadata": {},
   "outputs": [],
   "source": [
    "sportsbooks = soup.find_all(\"div\", class_=\"text-success\")"
   ]
  },
  {
   "cell_type": "code",
   "execution_count": 125,
   "metadata": {},
   "outputs": [
    {
     "name": "stdout",
     "output_type": "stream",
     "text": [
      "<div class=\"text-success\" style=\"background-color: rgba(0, 0, 0, 0.2); padding: 6px 6px 6px 14px; border-radius: 6px; display: flex; flex-direction: row; justify-content: space-between; align-items: center; height: 100%; margin-top: 10px; cursor: pointer;\"><div style='background-image: url(\"https://assets.unabated.com/sportsbooks/logos/bookmaker.svg\"); background-repeat: no-repeat; height: 30px; width: 80px; min-width: 80px; background-size: contain; background-position: center center;' title=\"Bookmaker \n",
      "Real-Time\"></div> <div style=\"display: flex; align-items: center; justify-content: center;\"><i class=\"border-0 fa fa-circle text-success\" style=\"font-size: 6px; padding: 3px; position: absolute; top: 10px; left: 6px;\" title=\"Real-Time\"></i></div></div>\n"
     ]
    }
   ],
   "source": [
    "print(sportsbooks[0])"
   ]
  },
  {
   "cell_type": "code",
   "execution_count": 130,
   "metadata": {},
   "outputs": [
    {
     "ename": "KeyError",
     "evalue": "'title'",
     "output_type": "error",
     "traceback": [
      "\u001b[1;31m---------------------------------------------------------------------------\u001b[0m",
      "\u001b[1;31mKeyError\u001b[0m                                  Traceback (most recent call last)",
      "\u001b[1;32m~\\AppData\\Local\\Temp\\ipykernel_14208\\4119983601.py\u001b[0m in \u001b[0;36m<module>\u001b[1;34m\u001b[0m\n\u001b[0;32m      1\u001b[0m \u001b[1;32mfor\u001b[0m \u001b[0mitem\u001b[0m \u001b[1;32min\u001b[0m \u001b[0msportsbooks\u001b[0m\u001b[1;33m:\u001b[0m\u001b[1;33m\u001b[0m\u001b[1;33m\u001b[0m\u001b[0m\n\u001b[1;32m----> 2\u001b[1;33m     \u001b[0mprint\u001b[0m\u001b[1;33m(\u001b[0m\u001b[0mitem\u001b[0m\u001b[1;33m.\u001b[0m\u001b[0mattrs\u001b[0m\u001b[1;33m[\u001b[0m\u001b[1;34m'title'\u001b[0m\u001b[1;33m]\u001b[0m\u001b[1;33m)\u001b[0m\u001b[1;33m\u001b[0m\u001b[1;33m\u001b[0m\u001b[0m\n\u001b[0m",
      "\u001b[1;31mKeyError\u001b[0m: 'title'"
     ]
    }
   ],
   "source": [
    "for item in sportsbooks:\n",
    "    print(item.attrs['title'])\n",
    "\n",
    "\n",
    "#https://stackoverflow.com/questions/43005780/how-to-obtain-title-attribute-using-python-and-beautifulsoup\n",
    "#https://stackoverflow.com/questions/13002318/how-to-get-get-the-title-attribute-of-a-div-element\n",
    "#https://www.crummy.com/software/BeautifulSoup/bs4/doc/\n"
   ]
  },
  {
   "cell_type": "code",
   "execution_count": 132,
   "metadata": {},
   "outputs": [
    {
     "name": "stdout",
     "output_type": "stream",
     "text": [
      "<div class=\"text-success\" style=\"background-color: rgba(0, 0, 0, 0.2); padding: 6px 6px 6px 14px; border-radius: 6px; display: flex; flex-direction: row; justify-content: space-between; align-items: center; height: 100%; margin-top: 10px; cursor: pointer;\"><div style='background-image: url(\"https://assets.unabated.com/sportsbooks/logos/bookmaker.svg\"); background-repeat: no-repeat; height: 30px; width: 80px; min-width: 80px; background-size: contain; background-position: center center;' title=\"Bookmaker \n",
      "Real-Time\"></div> <div style=\"display: flex; align-items: center; justify-content: center;\"><i class=\"border-0 fa fa-circle text-success\" style=\"font-size: 6px; padding: 3px; position: absolute; top: 10px; left: 6px;\" title=\"Real-Time\"></i></div></div>\n"
     ]
    }
   ],
   "source": [
    "print(sportsbooks[0])"
   ]
  },
  {
   "cell_type": "code",
   "execution_count": 1,
   "metadata": {},
   "outputs": [
    {
     "ename": "SyntaxError",
     "evalue": "invalid syntax (890100724.py, line 2)",
     "output_type": "error",
     "traceback": [
      "\u001b[1;36m  File \u001b[1;32m\"C:\\Users\\ammoo\\AppData\\Local\\Temp\\ipykernel_7344\\890100724.py\"\u001b[1;36m, line \u001b[1;32m2\u001b[0m\n\u001b[1;33m    for cells in rows.find_all(['title'])\u001b[0m\n\u001b[1;37m                                         ^\u001b[0m\n\u001b[1;31mSyntaxError\u001b[0m\u001b[1;31m:\u001b[0m invalid syntax\n"
     ]
    }
   ],
   "source": [
    "for rows in soup.find_all(['tr']):\n",
    "    for cells in rows.find_all(['title']):\n",
    "        print()"
   ]
  },
  {
   "cell_type": "code",
   "execution_count": 2,
   "metadata": {},
   "outputs": [
    {
     "ename": "NameError",
     "evalue": "name 'soup' is not defined",
     "output_type": "error",
     "traceback": [
      "\u001b[1;31m---------------------------------------------------------------------------\u001b[0m",
      "\u001b[1;31mNameError\u001b[0m                                 Traceback (most recent call last)",
      "\u001b[1;32m~\\AppData\\Local\\Temp\\ipykernel_7344\\1866372962.py\u001b[0m in \u001b[0;36m<module>\u001b[1;34m\u001b[0m\n\u001b[1;32m----> 1\u001b[1;33m \u001b[1;32mfor\u001b[0m \u001b[0mtr\u001b[0m \u001b[1;32min\u001b[0m \u001b[0msoup\u001b[0m\u001b[1;33m.\u001b[0m\u001b[0mfindall\u001b[0m\u001b[1;33m(\u001b[0m\u001b[1;34m'tr'\u001b[0m\u001b[1;33m)\u001b[0m\u001b[1;33m:\u001b[0m\u001b[1;33m\u001b[0m\u001b[1;33m\u001b[0m\u001b[0m\n\u001b[0m\u001b[0;32m      2\u001b[0m     \u001b[1;32mfor\u001b[0m \u001b[0mtd\u001b[0m \u001b[1;32min\u001b[0m \u001b[0mtr\u001b[0m\u001b[1;33m.\u001b[0m\u001b[0mfind_all\u001b[0m\u001b[1;33m(\u001b[0m\u001b[1;34m'td'\u001b[0m\u001b[1;33m)\u001b[0m\u001b[1;33m:\u001b[0m\u001b[1;33m\u001b[0m\u001b[1;33m\u001b[0m\u001b[0m\n\u001b[0;32m      3\u001b[0m         \u001b[0mprint\u001b[0m\u001b[1;33m(\u001b[0m\u001b[0mtd\u001b[0m\u001b[1;33m.\u001b[0m\u001b[0mget\u001b[0m\u001b[1;33m(\u001b[0m\u001b[1;34m'title'\u001b[0m\u001b[1;33m,\u001b[0m \u001b[1;34m'No title attribute'\u001b[0m\u001b[1;33m)\u001b[0m\u001b[1;33m)\u001b[0m\u001b[1;33m\u001b[0m\u001b[1;33m\u001b[0m\u001b[0m\n",
      "\u001b[1;31mNameError\u001b[0m: name 'soup' is not defined"
     ]
    }
   ],
   "source": [
    "for tr in soup.findall('tr'):\n",
    "    for td in tr.find_all('td'):\n",
    "        print(td.get('title', 'No title attribute'))"
   ]
  },
  {
   "cell_type": "code",
   "execution_count": 15,
   "metadata": {},
   "outputs": [],
   "source": [
    "sportsbooks2 = soup.find(\"div\", class_=\"text-success\")"
   ]
  },
  {
   "cell_type": "code",
   "execution_count": 17,
   "metadata": {},
   "outputs": [
    {
     "ename": "TypeError",
     "evalue": "'NoneType' object is not subscriptable",
     "output_type": "error",
     "traceback": [
      "\u001b[1;31m---------------------------------------------------------------------------\u001b[0m",
      "\u001b[1;31mTypeError\u001b[0m                                 Traceback (most recent call last)",
      "\u001b[1;32m~\\AppData\\Local\\Temp\\ipykernel_7344\\2813360180.py\u001b[0m in \u001b[0;36m<module>\u001b[1;34m\u001b[0m\n\u001b[1;32m----> 1\u001b[1;33m \u001b[0msportsbooks2\u001b[0m\u001b[1;33m.\u001b[0m\u001b[0mp\u001b[0m\u001b[1;33m[\u001b[0m\u001b[1;34m'title'\u001b[0m\u001b[1;33m]\u001b[0m\u001b[1;33m\u001b[0m\u001b[1;33m\u001b[0m\u001b[0m\n\u001b[0m",
      "\u001b[1;31mTypeError\u001b[0m: 'NoneType' object is not subscriptable"
     ]
    }
   ],
   "source": [
    "sportsbooks2.p['title']"
   ]
  },
  {
   "cell_type": "code",
   "execution_count": 19,
   "metadata": {},
   "outputs": [
    {
     "name": "stdout",
     "output_type": "stream",
     "text": [
      "<div class=\"text-success\" style=\"background-color: rgba(0, 0, 0, 0.2); padding: 6px 6px 6px 14px; border-radius: 6px; display: flex; flex-direction: row; justify-content: space-between; align-items: center; height: 100%; margin-top: 10px; cursor: pointer;\">\n",
      " <div style='background-image: url(\"https://assets.unabated.com/sportsbooks/logos/bookmaker.svg\"); background-repeat: no-repeat; height: 30px; width: 80px; min-width: 80px; background-size: contain; background-position: center center;' title=\"Bookmaker \n",
      "Real-Time\">\n",
      " </div>\n",
      " <div style=\"display: flex; align-items: center; justify-content: center;\">\n",
      "  <i class=\"border-0 fa fa-circle text-success\" style=\"font-size: 6px; padding: 3px; position: absolute; top: 10px; left: 6px;\" title=\"Real-Time\">\n",
      "  </i>\n",
      " </div>\n",
      "</div>\n"
     ]
    }
   ],
   "source": [
    "print(sportsbooks2.prettify())"
   ]
  },
  {
   "cell_type": "code",
   "execution_count": 27,
   "metadata": {},
   "outputs": [
    {
     "name": "stdout",
     "output_type": "stream",
     "text": [
      "None\n"
     ]
    }
   ],
   "source": [
    "print(sportsbooks2.p)"
   ]
  },
  {
   "cell_type": "code",
   "execution_count": null,
   "metadata": {},
   "outputs": [],
   "source": [
    "#THIS kills the driver session\n",
    "driver.quit()"
   ]
  },
  {
   "cell_type": "code",
   "execution_count": 38,
   "metadata": {},
   "outputs": [],
   "source": [
    "sportsbooks3 = soup.find(\"div\", title_=\"Bookmaker Real-Time\")"
   ]
  },
  {
   "cell_type": "code",
   "execution_count": 40,
   "metadata": {},
   "outputs": [
    {
     "name": "stdout",
     "output_type": "stream",
     "text": [
      "None\n"
     ]
    }
   ],
   "source": [
    "print(sportsbooks3)"
   ]
  },
  {
   "cell_type": "code",
   "execution_count": 41,
   "metadata": {},
   "outputs": [],
   "source": [
    "sportsbooks4 = soup.find('div', class_=\"ag-header-row ag-header-row-column\")"
   ]
  },
  {
   "cell_type": "code",
   "execution_count": 42,
   "metadata": {},
   "outputs": [
    {
     "data": {
      "text/plain": [
       "'<div aria-rowindex=\"1\" class=\"ag-header-row ag-header-row-column\" role=\"row\" style=\"top: 0px; height: 50px; width: 590px;\">\\n <div aria-colindex=\"1\" aria-sort=\"ascending\" class=\"ag-header-cell ag-focus-managed ag-header-cell-sortable\" col-id=\"eventStart\" role=\"columnheader\" style=\"width: 75px; left: 0px;\" tabindex=\"-1\" unselectable=\"on\">\\n  <div class=\"ag-header-cell-resize\" ref=\"eResize\" role=\"presentation\">\\n  </div>\\n  <!--AG-CHECKBOX-->\\n  <div class=\"ag-header-select-all ag-labeled ag-label-align-right ag-checkbox ag-input-field ag-hidden\" ref=\"cbSelectAll\" role=\"presentation\">\\n   <div class=\"ag-input-field-label ag-label ag-hidden ag-checkbox-label\" ref=\"eLabel\" role=\"presentation\">\\n   </div>\\n   <div class=\"ag-wrapper ag-input-wrapper ag-checkbox-input-wrapper\" ref=\"eWrapper\" role=\"presentation\">\\n    <input aria-label=\"Press Space to toggle all rows selection (unchecked)\" class=\"ag-input-field-input ag-checkbox-input\" id=\"ag-60-input\" ref=\"eInput\" tabindex=\"-1\" type=\"checkbox\"/>\\n   </div>\\n  </div>\\n  <div class=\"ag-cell-label-container ag-header-cell-sorted-asc\" role=\"presentation\">\\n   <div class=\"ag-header-cell-label\" ref=\"eLabel\" role=\"presentation\" unselectable=\"on\">\\n    <span class=\"ag-header-cell-text\" ref=\"eText\" unselectable=\"on\">\\n    </span>\\n    <span aria-hidden=\"true\" class=\"ag-header-icon ag-header-label-icon ag-filter-icon ag-hidden\" ref=\"eFilter\">\\n     <span class=\"ag-icon ag-icon-filter\" role=\"presentation\" unselectable=\"on\">\\n     </span>\\n    </span>\\n    <span aria-hidden=\"true\" class=\"ag-header-icon ag-header-label-icon ag-sort-order ag-hidden\" ref=\"eSortOrder\">\\n     1\\n    </span>\\n    <span aria-hidden=\"true\" class=\"ag-header-icon ag-header-label-icon ag-sort-ascending-icon\" ref=\"eSortAsc\">\\n     <span class=\"ag-icon ag-icon-asc\" role=\"presentation\" unselectable=\"on\">\\n     </span>\\n    </span>\\n    <span aria-hidden=\"true\" class=\"ag-header-icon ag-header-label-icon ag-sort-descending-icon ag-hidden\" ref=\"eSortDesc\">\\n     <span class=\"ag-icon ag-icon-desc\" role=\"presentation\" unselectable=\"on\">\\n     </span>\\n    </span>\\n    <span aria-hidden=\"true\" class=\"ag-header-icon ag-header-label-icon ag-sort-none-icon ag-hidden\" ref=\"eSortNone\">\\n     <span class=\"ag-icon ag-icon-none\" role=\"presentation\" unselectable=\"on\">\\n     </span>\\n    </span>\\n   </div>\\n  </div>\\n </div>\\n <div aria-colindex=\"2\" aria-sort=\"none\" class=\"ag-header-cell ag-focus-managed ag-header-cell-sortable\" col-id=\"eventId\" role=\"columnheader\" style=\"width: 250px; left: 75px;\" tabindex=\"-1\" unselectable=\"on\">\\n  <div class=\"ag-header-cell-resize\" ref=\"eResize\" role=\"presentation\">\\n  </div>\\n  <!--AG-CHECKBOX-->\\n  <div class=\"ag-header-select-all ag-labeled ag-label-align-right ag-checkbox ag-input-field ag-hidden\" ref=\"cbSelectAll\" role=\"presentation\">\\n   <div class=\"ag-input-field-label ag-label ag-hidden ag-checkbox-label\" ref=\"eLabel\" role=\"presentation\">\\n   </div>\\n   <div class=\"ag-wrapper ag-input-wrapper ag-checkbox-input-wrapper\" ref=\"eWrapper\" role=\"presentation\">\\n    <input aria-label=\"Press Space to toggle all rows selection (unchecked)\" class=\"ag-input-field-input ag-checkbox-input\" id=\"ag-63-input\" ref=\"eInput\" tabindex=\"-1\" type=\"checkbox\"/>\\n   </div>\\n  </div>\\n  <div class=\"ag-cell-label-container ag-header-cell-sorted-none\" role=\"presentation\">\\n   <div class=\"ag-header-cell-label\" ref=\"eLabel\" role=\"presentation\" unselectable=\"on\">\\n    <span class=\"ag-header-cell-text\" ref=\"eText\" unselectable=\"on\">\\n    </span>\\n    <span aria-hidden=\"true\" class=\"ag-header-icon ag-header-label-icon ag-filter-icon ag-hidden\" ref=\"eFilter\">\\n     <span class=\"ag-icon ag-icon-filter\" role=\"presentation\" unselectable=\"on\">\\n     </span>\\n    </span>\\n    <span aria-hidden=\"true\" class=\"ag-header-icon ag-header-label-icon ag-sort-order ag-hidden\" ref=\"eSortOrder\">\\n    </span>\\n    <span aria-hidden=\"true\" class=\"ag-header-icon ag-header-label-icon ag-sort-ascending-icon ag-hidden\" ref=\"eSortAsc\">\\n     <span class=\"ag-icon ag-icon-asc\" role=\"presentation\" unselectable=\"on\">\\n     </span>\\n    </span>\\n    <span aria-hidden=\"true\" class=\"ag-header-icon ag-header-label-icon ag-sort-descending-icon ag-hidden\" ref=\"eSortDesc\">\\n     <span class=\"ag-icon ag-icon-desc\" role=\"presentation\" unselectable=\"on\">\\n     </span>\\n    </span>\\n    <span aria-hidden=\"true\" class=\"ag-header-icon ag-header-label-icon ag-sort-none-icon\" ref=\"eSortNone\">\\n     <span class=\"ag-icon ag-icon-none\" role=\"presentation\" unselectable=\"on\">\\n     </span>\\n    </span>\\n   </div>\\n  </div>\\n </div>\\n <div aria-colindex=\"3\" class=\"ag-header-cell ag-focus-managed text-center\" col-id=\"bestLine\" role=\"columnheader\" style=\"width: 165px; left: 325px;\" tabindex=\"-1\" unselectable=\"on\">\\n  <div class=\"ag-header-cell-resize\" ref=\"eResize\" role=\"presentation\">\\n  </div>\\n  <!--AG-CHECKBOX-->\\n  <div class=\"ag-header-select-all ag-labeled ag-label-align-right ag-checkbox ag-input-field ag-hidden\" ref=\"cbSelectAll\" role=\"presentation\">\\n   <div class=\"ag-input-field-label ag-label ag-hidden ag-checkbox-label\" ref=\"eLabel\" role=\"presentation\">\\n   </div>\\n   <div class=\"ag-wrapper ag-input-wrapper ag-checkbox-input-wrapper\" ref=\"eWrapper\" role=\"presentation\">\\n    <input aria-label=\"Press Space to toggle all rows selection (unchecked)\" class=\"ag-input-field-input ag-checkbox-input\" id=\"ag-66-input\" ref=\"eInput\" tabindex=\"-1\" type=\"checkbox\"/>\\n   </div>\\n  </div>\\n  <div class=\"ag-react-container\">\\n   <div class=\"d-flex align-items-center justify-content-center\">\\n    <div>\\n     <span class=\"ag-header-cell-text\">\\n      Best Line\\n     </span>\\n     <svg aria-labelledby=\"svg-inline--fa-title-8cuw9pksleaN\" class=\"svg-inline--fa fa-info-circle fa-w-16 ag-header-cell-text ml-1\" data-icon=\"info-circle\" data-prefix=\"fas\" data-tip=\"true\" role=\"img\" viewbox=\"0 0 512 512\" xmlns=\"http://www.w3.org/2000/svg\">\\n      <title id=\"svg-inline--fa-title-8cuw9pksleaN\">\\n       The \\'Best Line\\' is the best line across your selected sportsbooks. Premium users have access to the edge calculation that is the line value comparing the Unabated Line to your best sportsbook line\\n      </title>\\n      <path d=\"M256 8C119.043 8 8 119.083 8 256c0 136.997 111.043 248 248 248s248-111.003 248-248C504 119.083 392.957 8 256 8zm0 110c23.196 0 42 18.804 42 42s-18.804 42-42 42-42-18.804-42-42 18.804-42 42-42zm56 254c0 6.627-5.373 12-12 12h-88c-6.627 0-12-5.373-12-12v-24c0-6.627 5.373-12 12-12h12v-64h-12c-6.627 0-12-5.373-12-12v-24c0-6.627 5.373-12 12-12h64c6.627 0 12 5.373 12 12v100h12c6.627 0 12 5.373 12 12v24z\" fill=\"currentColor\">\\n      </path>\\n     </svg>\\n    </div>\\n    <div class=\"d-flex align-items-center justify-content-end\">\\n    </div>\\n   </div>\\n  </div>\\n </div>\\n <div aria-colindex=\"4\" aria-sort=\"none\" class=\"ag-header-cell ag-focus-managed ag-header-cell-sortable text-center\" col-id=\"syntheticHold\" role=\"columnheader\" style=\"width: 100px; left: 490px;\" tabindex=\"-1\" unselectable=\"on\">\\n  <div class=\"ag-header-cell-resize\" ref=\"eResize\" role=\"presentation\">\\n  </div>\\n  <!--AG-CHECKBOX-->\\n  <div class=\"ag-header-select-all ag-labeled ag-label-align-right ag-checkbox ag-input-field ag-hidden\" ref=\"cbSelectAll\" role=\"presentation\">\\n   <div class=\"ag-input-field-label ag-label ag-hidden ag-checkbox-label\" ref=\"eLabel\" role=\"presentation\">\\n   </div>\\n   <div class=\"ag-wrapper ag-input-wrapper ag-checkbox-input-wrapper\" ref=\"eWrapper\" role=\"presentation\">\\n    <input aria-label=\"Press Space to toggle all rows selection (unchecked)\" class=\"ag-input-field-input ag-checkbox-input\" id=\"ag-68-input\" ref=\"eInput\" tabindex=\"-1\" type=\"checkbox\"/>\\n   </div>\\n  </div>\\n  <div class=\"ag-react-container\">\\n   <div class=\"d-flex align-items-center justify-content-between\">\\n    <div>\\n    </div>\\n    <div>\\n     <span class=\"ag-header-cell-text\">\\n      HOLD\\n     </span>\\n     <svg aria-labelledby=\"svg-inline--fa-title-UyjBevUSB0uo\" class=\"svg-inline--fa fa-info-circle fa-w-16 ag-header-cell-text ml-2\" data-icon=\"info-circle\" data-prefix=\"fas\" data-tip=\"true\" id=\"holdHeaderInfoIcon\" role=\"img\" viewbox=\"0 0 512 512\" xmlns=\"http://www.w3.org/2000/svg\">\\n      <title id=\"svg-inline--fa-title-UyjBevUSB0uo\">\\n       This is the synthetic hold for this wager. It is the theoretical profit% for the sportsbook given the two Best Lines. The lower the synthetic hold, the less cushion for the sportsbooks to win. A green highlight means a negative hold, which means the bettor has the edge, an arbitrage situation.\\n      </title>\\n      <path d=\"M256 8C119.043 8 8 119.083 8 256c0 136.997 111.043 248 248 248s248-111.003 248-248C504 119.083 392.957 8 256 8zm0 110c23.196 0 42 18.804 42 42s-18.804 42-42 42-42-18.804-42-42 18.804-42 42-42zm56 254c0 6.627-5.373 12-12 12h-88c-6.627 0-12-5.373-12-12v-24c0-6.627 5.373-12 12-12h12v-64h-12c-6.627 0-12-5.373-12-12v-24c0-6.627 5.373-12 12-12h64c6.627 0 12 5.373 12 12v100h12c6.627 0 12 5.373 12 12v24z\" fill=\"currentColor\">\\n      </path>\\n     </svg>\\n    </div>\\n    <div class=\"d-flex align-items-center justify-content-end\">\\n     <span aria-hidden=\"true\" class=\"ag-header-icon ag-header-label-icon ag-sort-none-icon\">\\n      <span class=\"ag-icon ag-icon-none\" role=\"presentation\" unselectable=\"on\">\\n      </span>\\n     </span>\\n    </div>\\n   </div>\\n  </div>\\n </div>\\n</div>'"
      ]
     },
     "execution_count": 42,
     "metadata": {},
     "output_type": "execute_result"
    }
   ],
   "source": [
    "sportsbooks4.prettify()"
   ]
  },
  {
   "cell_type": "code",
   "execution_count": 56,
   "metadata": {},
   "outputs": [],
   "source": [
    "sportsbooks5 = soup.find_all(\"div\", class_=\"ag-header-cell ag-focus-managed\")\n",
    "\n",
    "#This is the element that contains each of the listed bookmakers names\n",
    "#findall gives us a list"
   ]
  },
  {
   "cell_type": "code",
   "execution_count": 57,
   "metadata": {},
   "outputs": [
    {
     "name": "stdout",
     "output_type": "stream",
     "text": [
      "<div aria-colindex=\"5\" class=\"ag-header-cell ag-focus-managed\" col-id=\"8\" role=\"columnheader\" style=\"width: 115px; left: 0px;\" tabindex=\"-1\" unselectable=\"on\">\n",
      " <div class=\"ag-header-cell-resize\" ref=\"eResize\" role=\"presentation\">\n",
      " </div>\n",
      " <!--AG-CHECKBOX-->\n",
      " <div class=\"ag-header-select-all ag-labeled ag-label-align-right ag-checkbox ag-input-field ag-hidden\" ref=\"cbSelectAll\" role=\"presentation\">\n",
      "  <div class=\"ag-input-field-label ag-label ag-hidden ag-checkbox-label\" ref=\"eLabel\" role=\"presentation\">\n",
      "  </div>\n",
      "  <div class=\"ag-wrapper ag-input-wrapper ag-checkbox-input-wrapper\" ref=\"eWrapper\" role=\"presentation\">\n",
      "   <input aria-label=\"Press Space to toggle all rows selection (unchecked)\" class=\"ag-input-field-input ag-checkbox-input\" id=\"ag-22-input\" ref=\"eInput\" tabindex=\"-1\" type=\"checkbox\"/>\n",
      "  </div>\n",
      " </div>\n",
      " <div class=\"ag-react-container\">\n",
      "  <div class=\"text-success\" style=\"background-color: rgba(0, 0, 0, 0.2); padding: 6px 6px 6px 14px; border-radius: 6px; display: flex; flex-direction: row; justify-content: space-between; align-items: center; height: 100%; margin-top: 10px; cursor: pointer;\">\n",
      "   <div style='background-image: url(\"https://assets.unabated.com/sportsbooks/logos/bookmaker.svg\"); background-repeat: no-repeat; height: 30px; width: 80px; min-width: 80px; background-size: contain; background-position: center center;' title=\"Bookmaker \n",
      "Real-Time\">\n",
      "   </div>\n",
      "   <div style=\"display: flex; align-items: center; justify-content: center;\">\n",
      "    <i class=\"border-0 fa fa-circle text-success\" style=\"font-size: 6px; padding: 3px; position: absolute; top: 10px; left: 6px;\" title=\"Real-Time\">\n",
      "    </i>\n",
      "   </div>\n",
      "  </div>\n",
      " </div>\n",
      "</div>\n",
      "\n"
     ]
    }
   ],
   "source": [
    "print(sportsbooks5[0].prettify())"
   ]
  },
  {
   "cell_type": "code",
   "execution_count": 67,
   "metadata": {},
   "outputs": [],
   "source": [
    "tag1=type(soup.title)"
   ]
  },
  {
   "cell_type": "code",
   "execution_count": 68,
   "metadata": {},
   "outputs": [],
   "source": [
    "#both are element.Tag\n",
    "tag2=type(soup.div)\n",
    "\n",
    "# https://www.crummy.com/software/BeautifulSoup/bs4/doc/"
   ]
  },
  {
   "cell_type": "code",
   "execution_count": 71,
   "metadata": {},
   "outputs": [
    {
     "ename": "TypeError",
     "evalue": "list indices must be integers or slices, not str",
     "output_type": "error",
     "traceback": [
      "\u001b[1;31m---------------------------------------------------------------------------\u001b[0m",
      "\u001b[1;31mTypeError\u001b[0m                                 Traceback (most recent call last)",
      "\u001b[1;32m~\\AppData\\Local\\Temp\\ipykernel_7344\\1279744862.py\u001b[0m in \u001b[0;36m<module>\u001b[1;34m\u001b[0m\n\u001b[1;32m----> 1\u001b[1;33m \u001b[0msportsbooks5\u001b[0m\u001b[1;33m[\u001b[0m\u001b[1;34m'title'\u001b[0m\u001b[1;33m]\u001b[0m\u001b[1;33m\u001b[0m\u001b[1;33m\u001b[0m\u001b[0m\n\u001b[0m",
      "\u001b[1;31mTypeError\u001b[0m: list indices must be integers or slices, not str"
     ]
    }
   ],
   "source": [
    "sportsbooks5['title']"
   ]
  },
  {
   "cell_type": "code",
   "execution_count": 72,
   "metadata": {},
   "outputs": [],
   "source": [
    "sportsbooks6 = soup.find(\"div\", class_=\"ag-header-cell ag-focus-managed\")"
   ]
  },
  {
   "cell_type": "code",
   "execution_count": 73,
   "metadata": {},
   "outputs": [
    {
     "name": "stdout",
     "output_type": "stream",
     "text": [
      "<div aria-colindex=\"5\" class=\"ag-header-cell ag-focus-managed\" col-id=\"8\" role=\"columnheader\" style=\"width: 115px; left: 0px;\" tabindex=\"-1\" unselectable=\"on\">\n",
      " <div class=\"ag-header-cell-resize\" ref=\"eResize\" role=\"presentation\">\n",
      " </div>\n",
      " <!--AG-CHECKBOX-->\n",
      " <div class=\"ag-header-select-all ag-labeled ag-label-align-right ag-checkbox ag-input-field ag-hidden\" ref=\"cbSelectAll\" role=\"presentation\">\n",
      "  <div class=\"ag-input-field-label ag-label ag-hidden ag-checkbox-label\" ref=\"eLabel\" role=\"presentation\">\n",
      "  </div>\n",
      "  <div class=\"ag-wrapper ag-input-wrapper ag-checkbox-input-wrapper\" ref=\"eWrapper\" role=\"presentation\">\n",
      "   <input aria-label=\"Press Space to toggle all rows selection (unchecked)\" class=\"ag-input-field-input ag-checkbox-input\" id=\"ag-22-input\" ref=\"eInput\" tabindex=\"-1\" type=\"checkbox\"/>\n",
      "  </div>\n",
      " </div>\n",
      " <div class=\"ag-react-container\">\n",
      "  <div class=\"text-success\" style=\"background-color: rgba(0, 0, 0, 0.2); padding: 6px 6px 6px 14px; border-radius: 6px; display: flex; flex-direction: row; justify-content: space-between; align-items: center; height: 100%; margin-top: 10px; cursor: pointer;\">\n",
      "   <div style='background-image: url(\"https://assets.unabated.com/sportsbooks/logos/bookmaker.svg\"); background-repeat: no-repeat; height: 30px; width: 80px; min-width: 80px; background-size: contain; background-position: center center;' title=\"Bookmaker \n",
      "Real-Time\">\n",
      "   </div>\n",
      "   <div style=\"display: flex; align-items: center; justify-content: center;\">\n",
      "    <i class=\"border-0 fa fa-circle text-success\" style=\"font-size: 6px; padding: 3px; position: absolute; top: 10px; left: 6px;\" title=\"Real-Time\">\n",
      "    </i>\n",
      "   </div>\n",
      "  </div>\n",
      " </div>\n",
      "</div>\n",
      "\n"
     ]
    }
   ],
   "source": [
    "print(sportsbooks6.prettify())"
   ]
  },
  {
   "cell_type": "code",
   "execution_count": 91,
   "metadata": {},
   "outputs": [
    {
     "ename": "KeyError",
     "evalue": "'title'",
     "output_type": "error",
     "traceback": [
      "\u001b[1;31m---------------------------------------------------------------------------\u001b[0m",
      "\u001b[1;31mKeyError\u001b[0m                                  Traceback (most recent call last)",
      "\u001b[1;32m~\\AppData\\Local\\Temp\\ipykernel_7344\\891597151.py\u001b[0m in \u001b[0;36m<module>\u001b[1;34m\u001b[0m\n\u001b[1;32m----> 1\u001b[1;33m \u001b[0mtag3\u001b[0m \u001b[1;33m=\u001b[0m \u001b[0msportsbooks6\u001b[0m\u001b[1;33m.\u001b[0m\u001b[0mdiv\u001b[0m\u001b[1;33m[\u001b[0m\u001b[1;34m'title'\u001b[0m\u001b[1;33m]\u001b[0m\u001b[1;33m\u001b[0m\u001b[1;33m\u001b[0m\u001b[0m\n\u001b[0m\u001b[0;32m      2\u001b[0m \u001b[0mprint\u001b[0m\u001b[1;33m(\u001b[0m\u001b[0mtag3\u001b[0m\u001b[1;33m)\u001b[0m\u001b[1;33m\u001b[0m\u001b[1;33m\u001b[0m\u001b[0m\n",
      "\u001b[1;32mc:\\Users\\ammoo\\anaconda3\\lib\\site-packages\\bs4\\element.py\u001b[0m in \u001b[0;36m__getitem__\u001b[1;34m(self, key)\u001b[0m\n\u001b[0;32m   1517\u001b[0m         \"\"\"tag[key] returns the value of the 'key' attribute for the Tag,\n\u001b[0;32m   1518\u001b[0m         and throws an exception if it's not there.\"\"\"\n\u001b[1;32m-> 1519\u001b[1;33m         \u001b[1;32mreturn\u001b[0m \u001b[0mself\u001b[0m\u001b[1;33m.\u001b[0m\u001b[0mattrs\u001b[0m\u001b[1;33m[\u001b[0m\u001b[0mkey\u001b[0m\u001b[1;33m]\u001b[0m\u001b[1;33m\u001b[0m\u001b[1;33m\u001b[0m\u001b[0m\n\u001b[0m\u001b[0;32m   1520\u001b[0m \u001b[1;33m\u001b[0m\u001b[0m\n\u001b[0;32m   1521\u001b[0m     \u001b[1;32mdef\u001b[0m \u001b[0m__iter__\u001b[0m\u001b[1;33m(\u001b[0m\u001b[0mself\u001b[0m\u001b[1;33m)\u001b[0m\u001b[1;33m:\u001b[0m\u001b[1;33m\u001b[0m\u001b[1;33m\u001b[0m\u001b[0m\n",
      "\u001b[1;31mKeyError\u001b[0m: 'title'"
     ]
    }
   ],
   "source": [
    "tag3 = sportsbooks6.div['title']\n",
    "print(tag3)"
   ]
  },
  {
   "cell_type": "code",
   "execution_count": 96,
   "metadata": {},
   "outputs": [
    {
     "name": "stdout",
     "output_type": "stream",
     "text": [
      "None\n"
     ]
    }
   ],
   "source": [
    "print(sportsbooks6.select_one('div.style:nth-child(4) div.title title'))"
   ]
  }
 ],
 "metadata": {
  "kernelspec": {
   "display_name": "Python 3.9.13 ('base')",
   "language": "python",
   "name": "python3"
  },
  "language_info": {
   "codemirror_mode": {
    "name": "ipython",
    "version": 3
   },
   "file_extension": ".py",
   "mimetype": "text/x-python",
   "name": "python",
   "nbconvert_exporter": "python",
   "pygments_lexer": "ipython3",
   "version": "3.9.13"
  },
  "orig_nbformat": 4,
  "vscode": {
   "interpreter": {
    "hash": "c82e4d1e9084eac1ce75472f970f4b32fd89bddf9219f2363852c4ec62334425"
   }
  }
 },
 "nbformat": 4,
 "nbformat_minor": 2
}
