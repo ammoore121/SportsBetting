{
 "cells": [
  {
   "cell_type": "code",
   "execution_count": 2,
   "metadata": {},
   "outputs": [],
   "source": [
    "from selenium import webdriver\n",
    "import time\n",
    "from bs4 import BeautifulSoup"
   ]
  },
  {
   "cell_type": "code",
   "execution_count": 3,
   "metadata": {},
   "outputs": [],
   "source": [
    "driver = webdriver.Chrome()\n",
    "url = \"https://unabated.com/nhl/odds\"\n",
    "# driver.maximize_window()\n",
    "driver.get(url)"
   ]
  },
  {
   "cell_type": "code",
   "execution_count": 4,
   "metadata": {},
   "outputs": [],
   "source": [
    "time.sleep(5)\n",
    "content=driver.page_source.encode('utf-8').strip()\n",
    "soup = BeautifulSoup(content, \"lxml\")\n",
    "\n"
   ]
  },
  {
   "cell_type": "code",
   "execution_count": 5,
   "metadata": {},
   "outputs": [
    {
     "name": "stdout",
     "output_type": "stream",
     "text": [
      "  +113  -134  +120  -125  +120  -126  +110  -130  +118  -142  +125  -155  +116  -126  +110  -130  -191  +163  -174  +167  -176  +174  -189  +160  -200  +164  -185  +150  -185  +165  -185  +150  -116  -104  -108  +104  -108  +104  -120  +100  -115  -104  -115  -115  -111  +101  -115  -105  -107  -113  +100  -102  +100  -101  -110  -110  -110  -110  -115  -115  -103  -107  -110  -110  +170  -200  +182  -190  +180  -184  +170  -208  +168  -205  +175  -205  +180  -200  +165  -200  -117  -103  -108  +106  -109  +105  -120  +100  -120  -108  -125  -105  -110  +100  -115  -105  -110  -110  +102  -104  +100  -101  -110  -110  -110  -110  -110  -110  -105  -105  -110  -110  -120  +100  -111  +106  -108  +104  -115  -105  -118  -102  -120  +100  -110  +100  -110  -110  +222  -270  +233  -239  +235  -250  +215  -263  +230  -285  +210  -265  +220  -250  +225  -275  +140  -170  +140  -165  +140  -155  +140  -165  -164  +143  -172  +142  -165  +140  -160  +145  -165  +135  +129  -148  +128  -154  +130  -150  +130  -140  +125  -150\n"
     ]
    }
   ],
   "source": [
    "#Now trying the full odds container... \n",
    "results_row= soup.find('div',class_=\"ag-center-cols-container\")\n",
    "print(results_row.text)\n",
    "\n",
    "#it does not identify which book. Will need to implement some kind of logic to identify a cutoff. "
   ]
  },
  {
   "cell_type": "code",
   "execution_count": 6,
   "metadata": {},
   "outputs": [],
   "source": [
    "sportsbooks7= soup.find_all(\"div\",class_=\"text-success\")\n"
   ]
  },
  {
   "cell_type": "code",
   "execution_count": 7,
   "metadata": {},
   "outputs": [
    {
     "data": {
      "text/plain": [
       "7"
      ]
     },
     "execution_count": 7,
     "metadata": {},
     "output_type": "execute_result"
    }
   ],
   "source": [
    "len(sportsbooks7)"
   ]
  },
  {
   "cell_type": "code",
   "execution_count": 8,
   "metadata": {},
   "outputs": [],
   "source": [
    "books_list = []\n",
    "for x in range(len(sportsbooks7)):\n",
    "    books_list.append(sportsbooks7[x].select_one('div')['title'])"
   ]
  },
  {
   "cell_type": "code",
   "execution_count": 9,
   "metadata": {},
   "outputs": [
    {
     "name": "stdout",
     "output_type": "stream",
     "text": [
      "['Bookmaker \\nReal-Time', 'Sporttrade \\nReal-Time', 'Prophet Exchange \\nReal-Time', 'theScore \\nReal-Time', 'FanDuel \\nReal-Time', 'DraftKings \\nReal-Time', 'SuperBook \\nReal-Time']\n"
     ]
    }
   ],
   "source": [
    "print(books_list)\n",
    "\n",
    "#Only returns the Real Time feeds. \n",
    "# It does not pick up MGM, Caesars, other with delayed feeds.   \n",
    "\n",
    "#there is Real-Time, Low Delc=ay <30 seconds, High Delay >30 seconds"
   ]
  },
  {
   "cell_type": "code",
   "execution_count": 12,
   "metadata": {},
   "outputs": [],
   "source": [
    "\n",
    "sportsbooks8= soup.find_all('div',class_=\"text-warning\")"
   ]
  },
  {
   "cell_type": "code",
   "execution_count": 13,
   "metadata": {},
   "outputs": [
    {
     "data": {
      "text/plain": [
       "2"
      ]
     },
     "execution_count": 13,
     "metadata": {},
     "output_type": "execute_result"
    }
   ],
   "source": [
    "len(sportsbooks8)\n",
    "#there should be more than the output"
   ]
  },
  {
   "cell_type": "code",
   "execution_count": 17,
   "metadata": {},
   "outputs": [
    {
     "name": "stdout",
     "output_type": "stream",
     "text": [
      "BetMGM \n",
      "High Delay (> 30 seconds)\n"
     ]
    }
   ],
   "source": [
    "print(sportsbooks8[1].select_one('div')['title'])"
   ]
  },
  {
   "cell_type": "code",
   "execution_count": 18,
   "metadata": {},
   "outputs": [],
   "source": [
    "books_list2 =[]\n",
    "y=0\n",
    "try:\n",
    "    for y in range(len(sportsbooks8)):\n",
    "        books_list2.append(sportsbooks8[y].select_one('div')['title'])\n",
    "        y += 1\n",
    "except :\n",
    "    y += 1\n",
    "    "
   ]
  },
  {
   "cell_type": "code",
   "execution_count": 19,
   "metadata": {},
   "outputs": [
    {
     "data": {
      "text/plain": [
       "[]"
      ]
     },
     "execution_count": 19,
     "metadata": {},
     "output_type": "execute_result"
    }
   ],
   "source": [
    "books_list2\n",
    "#doesn't grab what i need"
   ]
  },
  {
   "cell_type": "code",
   "execution_count": 20,
   "metadata": {},
   "outputs": [],
   "source": [
    "sportsbooks11 =soup.find_all('div',class_=\"ag-react-container\")"
   ]
  },
  {
   "cell_type": "code",
   "execution_count": 21,
   "metadata": {},
   "outputs": [
    {
     "data": {
      "text/plain": [
       "298"
      ]
     },
     "execution_count": 21,
     "metadata": {},
     "output_type": "execute_result"
    }
   ],
   "source": [
    "len(sportsbooks11)\n",
    "#output is way more than expected"
   ]
  },
  {
   "cell_type": "markdown",
   "metadata": {},
   "source": [
    "Quit Driver"
   ]
  },
  {
   "cell_type": "code",
   "execution_count": null,
   "metadata": {},
   "outputs": [],
   "source": [
    "#THIS kills the driver session\n",
    "driver.quit()"
   ]
  }
 ],
 "metadata": {
  "kernelspec": {
   "display_name": "Python 3.9.13 ('base')",
   "language": "python",
   "name": "python3"
  },
  "language_info": {
   "codemirror_mode": {
    "name": "ipython",
    "version": 3
   },
   "file_extension": ".py",
   "mimetype": "text/x-python",
   "name": "python",
   "nbconvert_exporter": "python",
   "pygments_lexer": "ipython3",
   "version": "3.9.13"
  },
  "orig_nbformat": 4,
  "vscode": {
   "interpreter": {
    "hash": "c82e4d1e9084eac1ce75472f970f4b32fd89bddf9219f2363852c4ec62334425"
   }
  }
 },
 "nbformat": 4,
 "nbformat_minor": 2
}
